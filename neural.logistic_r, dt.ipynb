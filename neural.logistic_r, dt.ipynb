{
 "cells": [
  {
   "cell_type": "code",
   "execution_count": 1,
   "id": "cc07d774",
   "metadata": {},
   "outputs": [],
   "source": [
    "import pandas as pd\n",
    "import numpy as np \n",
    "import matplotlib.pyplot as plt\n",
    "import seaborn as sns"
   ]
  },
  {
   "cell_type": "code",
   "execution_count": 2,
   "id": "860e7b8e",
   "metadata": {},
   "outputs": [],
   "source": [
    "df = pd.read_csv('storedata.csv')"
   ]
  },
  {
   "cell_type": "code",
   "execution_count": 3,
   "id": "a74cb9b4",
   "metadata": {},
   "outputs": [
    {
     "data": {
      "text/html": [
       "<div>\n",
       "<style scoped>\n",
       "    .dataframe tbody tr th:only-of-type {\n",
       "        vertical-align: middle;\n",
       "    }\n",
       "\n",
       "    .dataframe tbody tr th {\n",
       "        vertical-align: top;\n",
       "    }\n",
       "\n",
       "    .dataframe thead th {\n",
       "        text-align: right;\n",
       "    }\n",
       "</style>\n",
       "<table border=\"1\" class=\"dataframe\">\n",
       "  <thead>\n",
       "    <tr style=\"text-align: right;\">\n",
       "      <th></th>\n",
       "      <th>Town</th>\n",
       "      <th>Country</th>\n",
       "      <th>Store ID</th>\n",
       "      <th>Manager name</th>\n",
       "      <th>Staff</th>\n",
       "      <th>Floor Space</th>\n",
       "      <th>Window</th>\n",
       "      <th>Car park</th>\n",
       "      <th>Demographic score</th>\n",
       "      <th>Location</th>\n",
       "      <th>40min population</th>\n",
       "      <th>30 min population</th>\n",
       "      <th>20 min population</th>\n",
       "      <th>10 min population</th>\n",
       "      <th>Store age</th>\n",
       "      <th>Clearance space</th>\n",
       "      <th>Competition number</th>\n",
       "      <th>Competition score</th>\n",
       "      <th>Performance</th>\n",
       "    </tr>\n",
       "  </thead>\n",
       "  <tbody>\n",
       "    <tr>\n",
       "      <th>0</th>\n",
       "      <td>Swinton (Greater Manchester)</td>\n",
       "      <td>UK</td>\n",
       "      <td>1437</td>\n",
       "      <td>Roger</td>\n",
       "      <td>9</td>\n",
       "      <td>18526</td>\n",
       "      <td>121</td>\n",
       "      <td>Yes</td>\n",
       "      <td>10</td>\n",
       "      <td>Retail Park</td>\n",
       "      <td>1288374</td>\n",
       "      <td>1138224</td>\n",
       "      <td>1006986</td>\n",
       "      <td>1002340</td>\n",
       "      <td>3</td>\n",
       "      <td>238</td>\n",
       "      <td>16</td>\n",
       "      <td>16</td>\n",
       "      <td>Good</td>\n",
       "    </tr>\n",
       "    <tr>\n",
       "      <th>1</th>\n",
       "      <td>Stamford</td>\n",
       "      <td>UK</td>\n",
       "      <td>1544</td>\n",
       "      <td>Ella</td>\n",
       "      <td>8</td>\n",
       "      <td>18569</td>\n",
       "      <td>121</td>\n",
       "      <td>Yes</td>\n",
       "      <td>11</td>\n",
       "      <td>Shopping Centre</td>\n",
       "      <td>1086225</td>\n",
       "      <td>1015321</td>\n",
       "      <td>1012182</td>\n",
       "      <td>1008436</td>\n",
       "      <td>4</td>\n",
       "      <td>384</td>\n",
       "      <td>15</td>\n",
       "      <td>19</td>\n",
       "      <td>Good</td>\n",
       "    </tr>\n",
       "    <tr>\n",
       "      <th>2</th>\n",
       "      <td>Skipton</td>\n",
       "      <td>UK</td>\n",
       "      <td>2039</td>\n",
       "      <td>Valentina</td>\n",
       "      <td>-2</td>\n",
       "      <td>12288</td>\n",
       "      <td>105</td>\n",
       "      <td>No</td>\n",
       "      <td>12</td>\n",
       "      <td>Retail Park</td>\n",
       "      <td>1595638</td>\n",
       "      <td>1281661</td>\n",
       "      <td>1104490</td>\n",
       "      <td>1011395</td>\n",
       "      <td>11</td>\n",
       "      <td>219</td>\n",
       "      <td>13</td>\n",
       "      <td>18</td>\n",
       "      <td>Bad</td>\n",
       "    </tr>\n",
       "    <tr>\n",
       "      <th>3</th>\n",
       "      <td>Stratton</td>\n",
       "      <td>UK</td>\n",
       "      <td>2055</td>\n",
       "      <td>Antonia</td>\n",
       "      <td>7</td>\n",
       "      <td>17092</td>\n",
       "      <td>117</td>\n",
       "      <td>No</td>\n",
       "      <td>14</td>\n",
       "      <td>High Street</td>\n",
       "      <td>1179395</td>\n",
       "      <td>1022959</td>\n",
       "      <td>1009496</td>\n",
       "      <td>1002169</td>\n",
       "      <td>5</td>\n",
       "      <td>261</td>\n",
       "      <td>15</td>\n",
       "      <td>12</td>\n",
       "      <td>Bad</td>\n",
       "    </tr>\n",
       "    <tr>\n",
       "      <th>4</th>\n",
       "      <td>Shepperton</td>\n",
       "      <td>UK</td>\n",
       "      <td>2141</td>\n",
       "      <td>Gabriel</td>\n",
       "      <td>7</td>\n",
       "      <td>11307</td>\n",
       "      <td>103</td>\n",
       "      <td>No</td>\n",
       "      <td>18</td>\n",
       "      <td>Retail Park</td>\n",
       "      <td>1398558</td>\n",
       "      <td>1085170</td>\n",
       "      <td>1003137</td>\n",
       "      <td>1002513</td>\n",
       "      <td>7</td>\n",
       "      <td>200</td>\n",
       "      <td>19</td>\n",
       "      <td>13</td>\n",
       "      <td>Bad</td>\n",
       "    </tr>\n",
       "  </tbody>\n",
       "</table>\n",
       "</div>"
      ],
      "text/plain": [
       "                            Town Country  Store ID Manager name  Staff  \\\n",
       "0   Swinton (Greater Manchester)      UK      1437        Roger      9   \n",
       "1                       Stamford      UK      1544         Ella      8   \n",
       "2                        Skipton      UK      2039    Valentina     -2   \n",
       "3                       Stratton      UK      2055      Antonia      7   \n",
       "4                     Shepperton      UK      2141      Gabriel      7   \n",
       "\n",
       "   Floor Space  Window Car park  Demographic score         Location  \\\n",
       "0        18526     121      Yes                 10      Retail Park   \n",
       "1        18569     121      Yes                 11  Shopping Centre   \n",
       "2        12288     105       No                 12      Retail Park   \n",
       "3        17092     117       No                 14      High Street   \n",
       "4        11307     103       No                 18      Retail Park   \n",
       "\n",
       "   40min population  30 min population  20 min population  10 min population  \\\n",
       "0           1288374            1138224            1006986            1002340   \n",
       "1           1086225            1015321            1012182            1008436   \n",
       "2           1595638            1281661            1104490            1011395   \n",
       "3           1179395            1022959            1009496            1002169   \n",
       "4           1398558            1085170            1003137            1002513   \n",
       "\n",
       "   Store age  Clearance space  Competition number  Competition score  \\\n",
       "0          3              238                  16                 16   \n",
       "1          4              384                  15                 19   \n",
       "2         11              219                  13                 18   \n",
       "3          5              261                  15                 12   \n",
       "4          7              200                  19                 13   \n",
       "\n",
       "  Performance  \n",
       "0        Good  \n",
       "1        Good  \n",
       "2         Bad  \n",
       "3         Bad  \n",
       "4         Bad  "
      ]
     },
     "execution_count": 3,
     "metadata": {},
     "output_type": "execute_result"
    }
   ],
   "source": [
    "df.head()\n"
   ]
  },
  {
   "cell_type": "code",
   "execution_count": 4,
   "id": "5776f8cb",
   "metadata": {},
   "outputs": [
    {
     "name": "stdout",
     "output_type": "stream",
     "text": [
      "<class 'pandas.core.frame.DataFrame'>\n",
      "RangeIndex: 136 entries, 0 to 135\n",
      "Data columns (total 19 columns):\n",
      " #   Column              Non-Null Count  Dtype \n",
      "---  ------              --------------  ----- \n",
      " 0   Town                136 non-null    object\n",
      " 1   Country             136 non-null    object\n",
      " 2   Store ID            136 non-null    int64 \n",
      " 3   Manager name        136 non-null    object\n",
      " 4   Staff               136 non-null    int64 \n",
      " 5   Floor Space         136 non-null    int64 \n",
      " 6   Window              136 non-null    int64 \n",
      " 7   Car park            136 non-null    object\n",
      " 8   Demographic score   136 non-null    int64 \n",
      " 9   Location            136 non-null    object\n",
      " 10  40min population    136 non-null    int64 \n",
      " 11  30 min population   136 non-null    int64 \n",
      " 12  20 min population   136 non-null    int64 \n",
      " 13  10 min population   136 non-null    int64 \n",
      " 14  Store age           136 non-null    int64 \n",
      " 15  Clearance space     136 non-null    int64 \n",
      " 16  Competition number  136 non-null    int64 \n",
      " 17  Competition score   136 non-null    int64 \n",
      " 18  Performance         136 non-null    object\n",
      "dtypes: int64(13), object(6)\n",
      "memory usage: 20.3+ KB\n"
     ]
    }
   ],
   "source": [
    "df.info()"
   ]
  },
  {
   "cell_type": "markdown",
   "id": "5e638fd5",
   "metadata": {},
   "source": [
    "# without cleaning the \"location\" variable"
   ]
  },
  {
   "cell_type": "code",
   "execution_count": 5,
   "id": "fa39155e",
   "metadata": {},
   "outputs": [
    {
     "data": {
      "text/plain": [
       "<AxesSubplot:xlabel='Location', ylabel='Count'>"
      ]
     },
     "execution_count": 5,
     "metadata": {},
     "output_type": "execute_result"
    },
    {
     "data": {
      "image/png": "[encoded data removed]",
      "text/plain": [
       "<Figure size 432x288 with 1 Axes>"
      ]
     },
     "metadata": {
      "needs_background": "light"
     },
     "output_type": "display_data"
    }
   ],
   "source": [
    "sns.histplot(df[\"Location\"])"
   ]
  },
  {
   "cell_type": "code",
   "execution_count": 6,
   "id": "43e6402e",
   "metadata": {},
   "outputs": [],
   "source": [
    "df['Town'] = df['Town'].astype(\"category\").cat.codes\n",
    "df['Manager name'] = df['Manager name'].astype(\"category\").cat.codes\n",
    "df['Car park'] = df['Car park'].astype(\"category\").cat.codes\n",
    "df['Location'] = df['Location'].astype(\"category\").cat.codes\n",
    "df['Performance'] = df['Performance'].astype(\"category\").cat.codes"
   ]
  },
  {
   "cell_type": "code",
   "execution_count": 7,
   "id": "4fb8d265",
   "metadata": {},
   "outputs": [
    {
     "data": {
      "text/plain": [
       "0      1\n",
       "1      1\n",
       "2      0\n",
       "3      0\n",
       "4      0\n",
       "      ..\n",
       "131    0\n",
       "132    0\n",
       "133    0\n",
       "134    0\n",
       "135    1\n",
       "Name: Performance, Length: 136, dtype: int64"
      ]
     },
     "execution_count": 7,
     "metadata": {},
     "output_type": "execute_result"
    }
   ],
   "source": [
    "df['Town'].astype('int64')\n",
    "df['Manager name'].astype('int64')\n",
    "df['Car park'].astype('int64')\n",
    "df['Location'].astype('int64')\n",
    "df['Performance'].astype('int64')"
   ]
  },
  {
   "cell_type": "code",
   "execution_count": null,
   "id": "0d8518f4",
   "metadata": {},
   "outputs": [],
   "source": []
  },
  {
   "cell_type": "code",
   "execution_count": 8,
   "id": "919fdde7",
   "metadata": {},
   "outputs": [
    {
     "data": {
      "text/plain": [
       "False"
      ]
     },
     "execution_count": 8,
     "metadata": {},
     "output_type": "execute_result"
    }
   ],
   "source": [
    "df.isnull().any().any()"
   ]
  },
  {
   "cell_type": "code",
   "execution_count": 9,
   "id": "58226e6e",
   "metadata": {},
   "outputs": [
    {
     "data": {
      "text/plain": [
       "0"
      ]
     },
     "execution_count": 9,
     "metadata": {},
     "output_type": "execute_result"
    }
   ],
   "source": [
    "df.isnull().sum().sum()"
   ]
  },
  {
   "cell_type": "markdown",
   "id": "b8e36521",
   "metadata": {},
   "source": [
    "# with cleaning the \"location\" variable"
   ]
  },
  {
   "cell_type": "code",
   "execution_count": 10,
   "id": "c994fc0c",
   "metadata": {},
   "outputs": [
    {
     "data": {
      "text/plain": [
       "<AxesSubplot:xlabel='Location', ylabel='Count'>"
      ]
     },
     "execution_count": 10,
     "metadata": {},
     "output_type": "execute_result"
    },
    {
     "data": {
      "image/png": "[encoded data removed]",
      "text/plain": [
       "<Figure size 432x288 with 1 Axes>"
      ]
     },
     "metadata": {
      "needs_background": "light"
     },
     "output_type": "display_data"
    }
   ],
   "source": [
    "sns.histplot(df[\"Location\"])"
   ]
  },
  {
   "cell_type": "code",
   "execution_count": 11,
   "id": "f2fc9d35",
   "metadata": {},
   "outputs": [],
   "source": [
    "df=df.drop(\"Town\", axis=1)\n",
    "df=df.drop(\"Store ID\", axis=1)\n",
    "df=df.drop(\"Staff\", axis=1)\n",
    "df=df.drop(\"Manager name\", axis=1)"
   ]
  },
  {
   "cell_type": "code",
   "execution_count": 12,
   "id": "7a3d6781",
   "metadata": {},
   "outputs": [],
   "source": [
    "import numpy as np\n",
    "df['Country'] = df['Country'].astype(\"category\").cat.codes\n",
    "df['Location'] = df['Location'].astype(\"category\").cat.codes\n",
    "df['Car park'] = df['Car park'].astype(\"category\").cat.codes\n",
    "df['Performance'] = df['Performance'].astype(\"category\").cat.codes"
   ]
  },
  {
   "cell_type": "code",
   "execution_count": 13,
   "id": "93e57187",
   "metadata": {},
   "outputs": [
    {
     "data": {
      "text/html": [
       "<div>\n",
       "<style scoped>\n",
       "    .dataframe tbody tr th:only-of-type {\n",
       "        vertical-align: middle;\n",
       "    }\n",
       "\n",
       "    .dataframe tbody tr th {\n",
       "        vertical-align: top;\n",
       "    }\n",
       "\n",
       "    .dataframe thead th {\n",
       "        text-align: right;\n",
       "    }\n",
       "</style>\n",
       "<table border=\"1\" class=\"dataframe\">\n",
       "  <thead>\n",
       "    <tr style=\"text-align: right;\">\n",
       "      <th></th>\n",
       "      <th>Country</th>\n",
       "      <th>Floor Space</th>\n",
       "      <th>Window</th>\n",
       "      <th>Car park</th>\n",
       "      <th>Demographic score</th>\n",
       "      <th>Location</th>\n",
       "      <th>40min population</th>\n",
       "      <th>30 min population</th>\n",
       "      <th>20 min population</th>\n",
       "      <th>10 min population</th>\n",
       "      <th>Store age</th>\n",
       "      <th>Clearance space</th>\n",
       "      <th>Competition number</th>\n",
       "      <th>Competition score</th>\n",
       "      <th>Performance</th>\n",
       "    </tr>\n",
       "  </thead>\n",
       "  <tbody>\n",
       "    <tr>\n",
       "      <th>0</th>\n",
       "      <td>1</td>\n",
       "      <td>18526</td>\n",
       "      <td>121</td>\n",
       "      <td>3</td>\n",
       "      <td>10</td>\n",
       "      <td>1</td>\n",
       "      <td>1288374</td>\n",
       "      <td>1138224</td>\n",
       "      <td>1006986</td>\n",
       "      <td>1002340</td>\n",
       "      <td>3</td>\n",
       "      <td>238</td>\n",
       "      <td>16</td>\n",
       "      <td>16</td>\n",
       "      <td>1</td>\n",
       "    </tr>\n",
       "    <tr>\n",
       "      <th>1</th>\n",
       "      <td>1</td>\n",
       "      <td>18569</td>\n",
       "      <td>121</td>\n",
       "      <td>3</td>\n",
       "      <td>11</td>\n",
       "      <td>2</td>\n",
       "      <td>1086225</td>\n",
       "      <td>1015321</td>\n",
       "      <td>1012182</td>\n",
       "      <td>1008436</td>\n",
       "      <td>4</td>\n",
       "      <td>384</td>\n",
       "      <td>15</td>\n",
       "      <td>19</td>\n",
       "      <td>1</td>\n",
       "    </tr>\n",
       "    <tr>\n",
       "      <th>2</th>\n",
       "      <td>1</td>\n",
       "      <td>12288</td>\n",
       "      <td>105</td>\n",
       "      <td>1</td>\n",
       "      <td>12</td>\n",
       "      <td>1</td>\n",
       "      <td>1595638</td>\n",
       "      <td>1281661</td>\n",
       "      <td>1104490</td>\n",
       "      <td>1011395</td>\n",
       "      <td>11</td>\n",
       "      <td>219</td>\n",
       "      <td>13</td>\n",
       "      <td>18</td>\n",
       "      <td>0</td>\n",
       "    </tr>\n",
       "    <tr>\n",
       "      <th>3</th>\n",
       "      <td>1</td>\n",
       "      <td>17092</td>\n",
       "      <td>117</td>\n",
       "      <td>1</td>\n",
       "      <td>14</td>\n",
       "      <td>0</td>\n",
       "      <td>1179395</td>\n",
       "      <td>1022959</td>\n",
       "      <td>1009496</td>\n",
       "      <td>1002169</td>\n",
       "      <td>5</td>\n",
       "      <td>261</td>\n",
       "      <td>15</td>\n",
       "      <td>12</td>\n",
       "      <td>0</td>\n",
       "    </tr>\n",
       "    <tr>\n",
       "      <th>4</th>\n",
       "      <td>1</td>\n",
       "      <td>11307</td>\n",
       "      <td>103</td>\n",
       "      <td>1</td>\n",
       "      <td>18</td>\n",
       "      <td>1</td>\n",
       "      <td>1398558</td>\n",
       "      <td>1085170</td>\n",
       "      <td>1003137</td>\n",
       "      <td>1002513</td>\n",
       "      <td>7</td>\n",
       "      <td>200</td>\n",
       "      <td>19</td>\n",
       "      <td>13</td>\n",
       "      <td>0</td>\n",
       "    </tr>\n",
       "  </tbody>\n",
       "</table>\n",
       "</div>"
      ],
      "text/plain": [
       "   Country  Floor Space  Window  Car park  Demographic score  Location  \\\n",
       "0        1        18526     121         3                 10         1   \n",
       "1        1        18569     121         3                 11         2   \n",
       "2        1        12288     105         1                 12         1   \n",
       "3        1        17092     117         1                 14         0   \n",
       "4        1        11307     103         1                 18         1   \n",
       "\n",
       "   40min population  30 min population  20 min population  10 min population  \\\n",
       "0           1288374            1138224            1006986            1002340   \n",
       "1           1086225            1015321            1012182            1008436   \n",
       "2           1595638            1281661            1104490            1011395   \n",
       "3           1179395            1022959            1009496            1002169   \n",
       "4           1398558            1085170            1003137            1002513   \n",
       "\n",
       "   Store age  Clearance space  Competition number  Competition score  \\\n",
       "0          3              238                  16                 16   \n",
       "1          4              384                  15                 19   \n",
       "2         11              219                  13                 18   \n",
       "3          5              261                  15                 12   \n",
       "4          7              200                  19                 13   \n",
       "\n",
       "   Performance  \n",
       "0            1  \n",
       "1            1  \n",
       "2            0  \n",
       "3            0  \n",
       "4            0  "
      ]
     },
     "execution_count": 13,
     "metadata": {},
     "output_type": "execute_result"
    }
   ],
   "source": [
    "df.head()"
   ]
  },
  {
   "cell_type": "code",
   "execution_count": 14,
   "id": "4a387cc7",
   "metadata": {},
   "outputs": [],
   "source": [
    "x=df.drop(\"Performance\", axis=1)\n",
    "y=df[\"Performance\"]"
   ]
  },
  {
   "cell_type": "code",
   "execution_count": 15,
   "id": "a6180e2b",
   "metadata": {},
   "outputs": [
    {
     "data": {
      "text/html": [
       "<div>\n",
       "<style scoped>\n",
       "    .dataframe tbody tr th:only-of-type {\n",
       "        vertical-align: middle;\n",
       "    }\n",
       "\n",
       "    .dataframe tbody tr th {\n",
       "        vertical-align: top;\n",
       "    }\n",
       "\n",
       "    .dataframe thead th {\n",
       "        text-align: right;\n",
       "    }\n",
       "</style>\n",
       "<table border=\"1\" class=\"dataframe\">\n",
       "  <thead>\n",
       "    <tr style=\"text-align: right;\">\n",
       "      <th></th>\n",
       "      <th>Country</th>\n",
       "      <th>Floor Space</th>\n",
       "      <th>Window</th>\n",
       "      <th>Car park</th>\n",
       "      <th>Demographic score</th>\n",
       "      <th>Location</th>\n",
       "      <th>40min population</th>\n",
       "      <th>30 min population</th>\n",
       "      <th>20 min population</th>\n",
       "      <th>10 min population</th>\n",
       "      <th>Store age</th>\n",
       "      <th>Clearance space</th>\n",
       "      <th>Competition number</th>\n",
       "      <th>Competition score</th>\n",
       "    </tr>\n",
       "  </thead>\n",
       "  <tbody>\n",
       "    <tr>\n",
       "      <th>0</th>\n",
       "      <td>1</td>\n",
       "      <td>18526</td>\n",
       "      <td>121</td>\n",
       "      <td>3</td>\n",
       "      <td>10</td>\n",
       "      <td>1</td>\n",
       "      <td>1288374</td>\n",
       "      <td>1138224</td>\n",
       "      <td>1006986</td>\n",
       "      <td>1002340</td>\n",
       "      <td>3</td>\n",
       "      <td>238</td>\n",
       "      <td>16</td>\n",
       "      <td>16</td>\n",
       "    </tr>\n",
       "    <tr>\n",
       "      <th>1</th>\n",
       "      <td>1</td>\n",
       "      <td>18569</td>\n",
       "      <td>121</td>\n",
       "      <td>3</td>\n",
       "      <td>11</td>\n",
       "      <td>2</td>\n",
       "      <td>1086225</td>\n",
       "      <td>1015321</td>\n",
       "      <td>1012182</td>\n",
       "      <td>1008436</td>\n",
       "      <td>4</td>\n",
       "      <td>384</td>\n",
       "      <td>15</td>\n",
       "      <td>19</td>\n",
       "    </tr>\n",
       "    <tr>\n",
       "      <th>2</th>\n",
       "      <td>1</td>\n",
       "      <td>12288</td>\n",
       "      <td>105</td>\n",
       "      <td>1</td>\n",
       "      <td>12</td>\n",
       "      <td>1</td>\n",
       "      <td>1595638</td>\n",
       "      <td>1281661</td>\n",
       "      <td>1104490</td>\n",
       "      <td>1011395</td>\n",
       "      <td>11</td>\n",
       "      <td>219</td>\n",
       "      <td>13</td>\n",
       "      <td>18</td>\n",
       "    </tr>\n",
       "    <tr>\n",
       "      <th>3</th>\n",
       "      <td>1</td>\n",
       "      <td>17092</td>\n",
       "      <td>117</td>\n",
       "      <td>1</td>\n",
       "      <td>14</td>\n",
       "      <td>0</td>\n",
       "      <td>1179395</td>\n",
       "      <td>1022959</td>\n",
       "      <td>1009496</td>\n",
       "      <td>1002169</td>\n",
       "      <td>5</td>\n",
       "      <td>261</td>\n",
       "      <td>15</td>\n",
       "      <td>12</td>\n",
       "    </tr>\n",
       "    <tr>\n",
       "      <th>4</th>\n",
       "      <td>1</td>\n",
       "      <td>11307</td>\n",
       "      <td>103</td>\n",
       "      <td>1</td>\n",
       "      <td>18</td>\n",
       "      <td>1</td>\n",
       "      <td>1398558</td>\n",
       "      <td>1085170</td>\n",
       "      <td>1003137</td>\n",
       "      <td>1002513</td>\n",
       "      <td>7</td>\n",
       "      <td>200</td>\n",
       "      <td>19</td>\n",
       "      <td>13</td>\n",
       "    </tr>\n",
       "    <tr>\n",
       "      <th>...</th>\n",
       "      <td>...</td>\n",
       "      <td>...</td>\n",
       "      <td>...</td>\n",
       "      <td>...</td>\n",
       "      <td>...</td>\n",
       "      <td>...</td>\n",
       "      <td>...</td>\n",
       "      <td>...</td>\n",
       "      <td>...</td>\n",
       "      <td>...</td>\n",
       "      <td>...</td>\n",
       "      <td>...</td>\n",
       "      <td>...</td>\n",
       "      <td>...</td>\n",
       "    </tr>\n",
       "    <tr>\n",
       "      <th>131</th>\n",
       "      <td>1</td>\n",
       "      <td>14120</td>\n",
       "      <td>110</td>\n",
       "      <td>3</td>\n",
       "      <td>13</td>\n",
       "      <td>1</td>\n",
       "      <td>1665074</td>\n",
       "      <td>1240813</td>\n",
       "      <td>1141898</td>\n",
       "      <td>1041041</td>\n",
       "      <td>6</td>\n",
       "      <td>202</td>\n",
       "      <td>18</td>\n",
       "      <td>14</td>\n",
       "    </tr>\n",
       "    <tr>\n",
       "      <th>132</th>\n",
       "      <td>1</td>\n",
       "      <td>11205</td>\n",
       "      <td>103</td>\n",
       "      <td>1</td>\n",
       "      <td>15</td>\n",
       "      <td>2</td>\n",
       "      <td>1657769</td>\n",
       "      <td>1424404</td>\n",
       "      <td>1378708</td>\n",
       "      <td>1160929</td>\n",
       "      <td>5</td>\n",
       "      <td>203</td>\n",
       "      <td>13</td>\n",
       "      <td>18</td>\n",
       "    </tr>\n",
       "    <tr>\n",
       "      <th>133</th>\n",
       "      <td>1</td>\n",
       "      <td>16190</td>\n",
       "      <td>115</td>\n",
       "      <td>1</td>\n",
       "      <td>19</td>\n",
       "      <td>2</td>\n",
       "      <td>1407456</td>\n",
       "      <td>1359511</td>\n",
       "      <td>1200486</td>\n",
       "      <td>1063718</td>\n",
       "      <td>7</td>\n",
       "      <td>341</td>\n",
       "      <td>18</td>\n",
       "      <td>18</td>\n",
       "    </tr>\n",
       "    <tr>\n",
       "      <th>134</th>\n",
       "      <td>1</td>\n",
       "      <td>15516</td>\n",
       "      <td>113</td>\n",
       "      <td>1</td>\n",
       "      <td>17</td>\n",
       "      <td>0</td>\n",
       "      <td>1451087</td>\n",
       "      <td>1245725</td>\n",
       "      <td>1127276</td>\n",
       "      <td>1045154</td>\n",
       "      <td>11</td>\n",
       "      <td>261</td>\n",
       "      <td>14</td>\n",
       "      <td>10</td>\n",
       "    </tr>\n",
       "    <tr>\n",
       "      <th>135</th>\n",
       "      <td>1</td>\n",
       "      <td>14468</td>\n",
       "      <td>111</td>\n",
       "      <td>3</td>\n",
       "      <td>18</td>\n",
       "      <td>0</td>\n",
       "      <td>1706344</td>\n",
       "      <td>1307752</td>\n",
       "      <td>1159859</td>\n",
       "      <td>1020940</td>\n",
       "      <td>8</td>\n",
       "      <td>276</td>\n",
       "      <td>18</td>\n",
       "      <td>13</td>\n",
       "    </tr>\n",
       "  </tbody>\n",
       "</table>\n",
       "<p>136 rows × 14 columns</p>\n",
       "</div>"
      ],
      "text/plain": [
       "     Country  Floor Space  Window  Car park  Demographic score  Location  \\\n",
       "0          1        18526     121         3                 10         1   \n",
       "1          1        18569     121         3                 11         2   \n",
       "2          1        12288     105         1                 12         1   \n",
       "3          1        17092     117         1                 14         0   \n",
       "4          1        11307     103         1                 18         1   \n",
       "..       ...          ...     ...       ...                ...       ...   \n",
       "131        1        14120     110         3                 13         1   \n",
       "132        1        11205     103         1                 15         2   \n",
       "133        1        16190     115         1                 19         2   \n",
       "134        1        15516     113         1                 17         0   \n",
       "135        1        14468     111         3                 18         0   \n",
       "\n",
       "     40min population  30 min population  20 min population  \\\n",
       "0             1288374            1138224            1006986   \n",
       "1             1086225            1015321            1012182   \n",
       "2             1595638            1281661            1104490   \n",
       "3             1179395            1022959            1009496   \n",
       "4             1398558            1085170            1003137   \n",
       "..                ...                ...                ...   \n",
       "131           1665074            1240813            1141898   \n",
       "132           1657769            1424404            1378708   \n",
       "133           1407456            1359511            1200486   \n",
       "134           1451087            1245725            1127276   \n",
       "135           1706344            1307752            1159859   \n",
       "\n",
       "     10 min population  Store age  Clearance space  Competition number  \\\n",
       "0              1002340          3              238                  16   \n",
       "1              1008436          4              384                  15   \n",
       "2              1011395         11              219                  13   \n",
       "3              1002169          5              261                  15   \n",
       "4              1002513          7              200                  19   \n",
       "..                 ...        ...              ...                 ...   \n",
       "131            1041041          6              202                  18   \n",
       "132            1160929          5              203                  13   \n",
       "133            1063718          7              341                  18   \n",
       "134            1045154         11              261                  14   \n",
       "135            1020940          8              276                  18   \n",
       "\n",
       "     Competition score  \n",
       "0                   16  \n",
       "1                   19  \n",
       "2                   18  \n",
       "3                   12  \n",
       "4                   13  \n",
       "..                 ...  \n",
       "131                 14  \n",
       "132                 18  \n",
       "133                 18  \n",
       "134                 10  \n",
       "135                 13  \n",
       "\n",
       "[136 rows x 14 columns]"
      ]
     },
     "execution_count": 15,
     "metadata": {},
     "output_type": "execute_result"
    }
   ],
   "source": [
    "x"
   ]
  },
  {
   "cell_type": "code",
   "execution_count": 16,
   "id": "b5050155",
   "metadata": {},
   "outputs": [
    {
     "data": {
      "text/plain": [
       "0      1\n",
       "1      1\n",
       "2      0\n",
       "3      0\n",
       "4      0\n",
       "      ..\n",
       "131    0\n",
       "132    0\n",
       "133    0\n",
       "134    0\n",
       "135    1\n",
       "Name: Performance, Length: 136, dtype: int8"
      ]
     },
     "execution_count": 16,
     "metadata": {},
     "output_type": "execute_result"
    }
   ],
   "source": [
    "y"
   ]
  },
  {
   "cell_type": "code",
   "execution_count": 17,
   "id": "f9e08955",
   "metadata": {},
   "outputs": [],
   "source": [
    "from sklearn.model_selection import train_test_split\n",
    "x_train, x_test, y_train, y_test = train_test_split(x, y, test_size=0.2, random_state=1)"
   ]
  },
  {
   "cell_type": "code",
   "execution_count": 18,
   "id": "0edddbdd",
   "metadata": {},
   "outputs": [
    {
     "data": {
      "text/html": [
       "<div>\n",
       "<style scoped>\n",
       "    .dataframe tbody tr th:only-of-type {\n",
       "        vertical-align: middle;\n",
       "    }\n",
       "\n",
       "    .dataframe tbody tr th {\n",
       "        vertical-align: top;\n",
       "    }\n",
       "\n",
       "    .dataframe thead th {\n",
       "        text-align: right;\n",
       "    }\n",
       "</style>\n",
       "<table border=\"1\" class=\"dataframe\">\n",
       "  <thead>\n",
       "    <tr style=\"text-align: right;\">\n",
       "      <th></th>\n",
       "      <th>Country</th>\n",
       "      <th>Floor Space</th>\n",
       "      <th>Window</th>\n",
       "      <th>Car park</th>\n",
       "      <th>Demographic score</th>\n",
       "      <th>Location</th>\n",
       "      <th>40min population</th>\n",
       "      <th>30 min population</th>\n",
       "      <th>20 min population</th>\n",
       "      <th>10 min population</th>\n",
       "      <th>Store age</th>\n",
       "      <th>Clearance space</th>\n",
       "      <th>Competition number</th>\n",
       "      <th>Competition score</th>\n",
       "    </tr>\n",
       "  </thead>\n",
       "  <tbody>\n",
       "    <tr>\n",
       "      <th>55</th>\n",
       "      <td>1</td>\n",
       "      <td>11538</td>\n",
       "      <td>103</td>\n",
       "      <td>1</td>\n",
       "      <td>10</td>\n",
       "      <td>1</td>\n",
       "      <td>1806266</td>\n",
       "      <td>1296257</td>\n",
       "      <td>1022238</td>\n",
       "      <td>1001346</td>\n",
       "      <td>7</td>\n",
       "      <td>228</td>\n",
       "      <td>12</td>\n",
       "      <td>15</td>\n",
       "    </tr>\n",
       "    <tr>\n",
       "      <th>104</th>\n",
       "      <td>1</td>\n",
       "      <td>13009</td>\n",
       "      <td>107</td>\n",
       "      <td>3</td>\n",
       "      <td>11</td>\n",
       "      <td>0</td>\n",
       "      <td>1143772</td>\n",
       "      <td>1106672</td>\n",
       "      <td>1059392</td>\n",
       "      <td>1051305</td>\n",
       "      <td>6</td>\n",
       "      <td>206</td>\n",
       "      <td>19</td>\n",
       "      <td>16</td>\n",
       "    </tr>\n",
       "    <tr>\n",
       "      <th>40</th>\n",
       "      <td>1</td>\n",
       "      <td>17586</td>\n",
       "      <td>118</td>\n",
       "      <td>3</td>\n",
       "      <td>18</td>\n",
       "      <td>2</td>\n",
       "      <td>1661094</td>\n",
       "      <td>1388562</td>\n",
       "      <td>1179306</td>\n",
       "      <td>1083011</td>\n",
       "      <td>5</td>\n",
       "      <td>264</td>\n",
       "      <td>10</td>\n",
       "      <td>10</td>\n",
       "    </tr>\n",
       "    <tr>\n",
       "      <th>132</th>\n",
       "      <td>1</td>\n",
       "      <td>11205</td>\n",
       "      <td>103</td>\n",
       "      <td>1</td>\n",
       "      <td>15</td>\n",
       "      <td>2</td>\n",
       "      <td>1657769</td>\n",
       "      <td>1424404</td>\n",
       "      <td>1378708</td>\n",
       "      <td>1160929</td>\n",
       "      <td>5</td>\n",
       "      <td>203</td>\n",
       "      <td>13</td>\n",
       "      <td>18</td>\n",
       "    </tr>\n",
       "    <tr>\n",
       "      <th>123</th>\n",
       "      <td>1</td>\n",
       "      <td>17582</td>\n",
       "      <td>118</td>\n",
       "      <td>3</td>\n",
       "      <td>16</td>\n",
       "      <td>0</td>\n",
       "      <td>1207172</td>\n",
       "      <td>1205457</td>\n",
       "      <td>1177404</td>\n",
       "      <td>1061837</td>\n",
       "      <td>9</td>\n",
       "      <td>290</td>\n",
       "      <td>16</td>\n",
       "      <td>13</td>\n",
       "    </tr>\n",
       "    <tr>\n",
       "      <th>...</th>\n",
       "      <td>...</td>\n",
       "      <td>...</td>\n",
       "      <td>...</td>\n",
       "      <td>...</td>\n",
       "      <td>...</td>\n",
       "      <td>...</td>\n",
       "      <td>...</td>\n",
       "      <td>...</td>\n",
       "      <td>...</td>\n",
       "      <td>...</td>\n",
       "      <td>...</td>\n",
       "      <td>...</td>\n",
       "      <td>...</td>\n",
       "      <td>...</td>\n",
       "    </tr>\n",
       "    <tr>\n",
       "      <th>129</th>\n",
       "      <td>1</td>\n",
       "      <td>10080</td>\n",
       "      <td>100</td>\n",
       "      <td>3</td>\n",
       "      <td>19</td>\n",
       "      <td>1</td>\n",
       "      <td>1541541</td>\n",
       "      <td>1474539</td>\n",
       "      <td>1462733</td>\n",
       "      <td>1384705</td>\n",
       "      <td>6</td>\n",
       "      <td>200</td>\n",
       "      <td>16</td>\n",
       "      <td>18</td>\n",
       "    </tr>\n",
       "    <tr>\n",
       "      <th>79</th>\n",
       "      <td>1</td>\n",
       "      <td>12092</td>\n",
       "      <td>105</td>\n",
       "      <td>3</td>\n",
       "      <td>11</td>\n",
       "      <td>2</td>\n",
       "      <td>1244807</td>\n",
       "      <td>1228531</td>\n",
       "      <td>1076416</td>\n",
       "      <td>1037950</td>\n",
       "      <td>11</td>\n",
       "      <td>236</td>\n",
       "      <td>16</td>\n",
       "      <td>11</td>\n",
       "    </tr>\n",
       "    <tr>\n",
       "      <th>133</th>\n",
       "      <td>1</td>\n",
       "      <td>16190</td>\n",
       "      <td>115</td>\n",
       "      <td>1</td>\n",
       "      <td>19</td>\n",
       "      <td>2</td>\n",
       "      <td>1407456</td>\n",
       "      <td>1359511</td>\n",
       "      <td>1200486</td>\n",
       "      <td>1063718</td>\n",
       "      <td>7</td>\n",
       "      <td>341</td>\n",
       "      <td>18</td>\n",
       "      <td>18</td>\n",
       "    </tr>\n",
       "    <tr>\n",
       "      <th>72</th>\n",
       "      <td>1</td>\n",
       "      <td>13008</td>\n",
       "      <td>107</td>\n",
       "      <td>1</td>\n",
       "      <td>17</td>\n",
       "      <td>0</td>\n",
       "      <td>1568216</td>\n",
       "      <td>1509273</td>\n",
       "      <td>1447590</td>\n",
       "      <td>1253376</td>\n",
       "      <td>5</td>\n",
       "      <td>251</td>\n",
       "      <td>14</td>\n",
       "      <td>18</td>\n",
       "    </tr>\n",
       "    <tr>\n",
       "      <th>37</th>\n",
       "      <td>1</td>\n",
       "      <td>11834</td>\n",
       "      <td>104</td>\n",
       "      <td>1</td>\n",
       "      <td>12</td>\n",
       "      <td>1</td>\n",
       "      <td>1555172</td>\n",
       "      <td>1489253</td>\n",
       "      <td>1120444</td>\n",
       "      <td>1093443</td>\n",
       "      <td>8</td>\n",
       "      <td>219</td>\n",
       "      <td>19</td>\n",
       "      <td>16</td>\n",
       "    </tr>\n",
       "  </tbody>\n",
       "</table>\n",
       "<p>108 rows × 14 columns</p>\n",
       "</div>"
      ],
      "text/plain": [
       "     Country  Floor Space  Window  Car park  Demographic score  Location  \\\n",
       "55         1        11538     103         1                 10         1   \n",
       "104        1        13009     107         3                 11         0   \n",
       "40         1        17586     118         3                 18         2   \n",
       "132        1        11205     103         1                 15         2   \n",
       "123        1        17582     118         3                 16         0   \n",
       "..       ...          ...     ...       ...                ...       ...   \n",
       "129        1        10080     100         3                 19         1   \n",
       "79         1        12092     105         3                 11         2   \n",
       "133        1        16190     115         1                 19         2   \n",
       "72         1        13008     107         1                 17         0   \n",
       "37         1        11834     104         1                 12         1   \n",
       "\n",
       "     40min population  30 min population  20 min population  \\\n",
       "55            1806266            1296257            1022238   \n",
       "104           1143772            1106672            1059392   \n",
       "40            1661094            1388562            1179306   \n",
       "132           1657769            1424404            1378708   \n",
       "123           1207172            1205457            1177404   \n",
       "..                ...                ...                ...   \n",
       "129           1541541            1474539            1462733   \n",
       "79            1244807            1228531            1076416   \n",
       "133           1407456            1359511            1200486   \n",
       "72            1568216            1509273            1447590   \n",
       "37            1555172            1489253            1120444   \n",
       "\n",
       "     10 min population  Store age  Clearance space  Competition number  \\\n",
       "55             1001346          7              228                  12   \n",
       "104            1051305          6              206                  19   \n",
       "40             1083011          5              264                  10   \n",
       "132            1160929          5              203                  13   \n",
       "123            1061837          9              290                  16   \n",
       "..                 ...        ...              ...                 ...   \n",
       "129            1384705          6              200                  16   \n",
       "79             1037950         11              236                  16   \n",
       "133            1063718          7              341                  18   \n",
       "72             1253376          5              251                  14   \n",
       "37             1093443          8              219                  19   \n",
       "\n",
       "     Competition score  \n",
       "55                  15  \n",
       "104                 16  \n",
       "40                  10  \n",
       "132                 18  \n",
       "123                 13  \n",
       "..                 ...  \n",
       "129                 18  \n",
       "79                  11  \n",
       "133                 18  \n",
       "72                  18  \n",
       "37                  16  \n",
       "\n",
       "[108 rows x 14 columns]"
      ]
     },
     "execution_count": 18,
     "metadata": {},
     "output_type": "execute_result"
    }
   ],
   "source": [
    "x_train"
   ]
  },
  {
   "cell_type": "code",
   "execution_count": 19,
   "id": "a04c75ec",
   "metadata": {},
   "outputs": [
    {
     "data": {
      "text/plain": [
       "55     0\n",
       "104    0\n",
       "40     1\n",
       "132    0\n",
       "123    0\n",
       "      ..\n",
       "129    1\n",
       "79     1\n",
       "133    0\n",
       "72     1\n",
       "37     1\n",
       "Name: Performance, Length: 108, dtype: int8"
      ]
     },
     "execution_count": 19,
     "metadata": {},
     "output_type": "execute_result"
    }
   ],
   "source": [
    "y_train"
   ]
  },
  {
   "cell_type": "markdown",
   "id": "263c28f2",
   "metadata": {},
   "source": [
    "# DecisionTreeClassifier "
   ]
  },
  {
   "cell_type": "code",
   "execution_count": 20,
   "id": "e6c2eb20",
   "metadata": {},
   "outputs": [],
   "source": [
    "from sklearn.tree import DecisionTreeClassifier\n",
    "dtc=DecisionTreeClassifier()"
   ]
  },
  {
   "cell_type": "code",
   "execution_count": 21,
   "id": "46aec322",
   "metadata": {},
   "outputs": [
    {
     "data": {
      "text/html": [
       "<style>#sk-container-id-1 {color: black;background-color: white;}#sk-container-id-1 pre{padding: 0;}#sk-container-id-1 div.sk-toggleable {background-color: white;}#sk-container-id-1 label.sk-toggleable__label {cursor: pointer;display: block;width: 100%;margin-bottom: 0;padding: 0.3em;box-sizing: border-box;text-align: center;}#sk-container-id-1 label.sk-toggleable__label-arrow:before {content: \"▸\";float: left;margin-right: 0.25em;color: #696969;}#sk-container-id-1 label.sk-toggleable__label-arrow:hover:before {color: black;}#sk-container-id-1 div.sk-estimator:hover label.sk-toggleable__label-arrow:before {color: black;}#sk-container-id-1 div.sk-toggleable__content {max-height: 0;max-width: 0;overflow: hidden;text-align: left;background-color: #f0f8ff;}#sk-container-id-1 div.sk-toggleable__content pre {margin: 0.2em;color: black;border-radius: 0.25em;background-color: #f0f8ff;}#sk-container-id-1 input.sk-toggleable__control:checked~div.sk-toggleable__content {max-height: 200px;max-width: 100%;overflow: auto;}#sk-container-id-1 input.sk-toggleable__control:checked~label.sk-toggleable__label-arrow:before {content: \"▾\";}#sk-container-id-1 div.sk-estimator input.sk-toggleable__control:checked~label.sk-toggleable__label {background-color: #d4ebff;}#sk-container-id-1 div.sk-label input.sk-toggleable__control:checked~label.sk-toggleable__label {background-color: #d4ebff;}#sk-container-id-1 input.sk-hidden--visually {border: 0;clip: rect(1px 1px 1px 1px);clip: rect(1px, 1px, 1px, 1px);height: 1px;margin: -1px;overflow: hidden;padding: 0;position: absolute;width: 1px;}#sk-container-id-1 div.sk-estimator {font-family: monospace;background-color: #f0f8ff;border: 1px dotted black;border-radius: 0.25em;box-sizing: border-box;margin-bottom: 0.5em;}#sk-container-id-1 div.sk-estimator:hover {background-color: #d4ebff;}#sk-container-id-1 div.sk-parallel-item::after {content: \"\";width: 100%;border-bottom: 1px solid gray;flex-grow: 1;}#sk-container-id-1 div.sk-label:hover label.sk-toggleable__label {background-color: #d4ebff;}#sk-container-id-1 div.sk-serial::before {content: \"\";position: absolute;border-left: 1px solid gray;box-sizing: border-box;top: 0;bottom: 0;left: 50%;z-index: 0;}#sk-container-id-1 div.sk-serial {display: flex;flex-direction: column;align-items: center;background-color: white;padding-right: 0.2em;padding-left: 0.2em;position: relative;}#sk-container-id-1 div.sk-item {position: relative;z-index: 1;}#sk-container-id-1 div.sk-parallel {display: flex;align-items: stretch;justify-content: center;background-color: white;position: relative;}#sk-container-id-1 div.sk-item::before, #sk-container-id-1 div.sk-parallel-item::before {content: \"\";position: absolute;border-left: 1px solid gray;box-sizing: border-box;top: 0;bottom: 0;left: 50%;z-index: -1;}#sk-container-id-1 div.sk-parallel-item {display: flex;flex-direction: column;z-index: 1;position: relative;background-color: white;}#sk-container-id-1 div.sk-parallel-item:first-child::after {align-self: flex-end;width: 50%;}#sk-container-id-1 div.sk-parallel-item:last-child::after {align-self: flex-start;width: 50%;}#sk-container-id-1 div.sk-parallel-item:only-child::after {width: 0;}#sk-container-id-1 div.sk-dashed-wrapped {border: 1px dashed gray;margin: 0 0.4em 0.5em 0.4em;box-sizing: border-box;padding-bottom: 0.4em;background-color: white;}#sk-container-id-1 div.sk-label label {font-family: monospace;font-weight: bold;display: inline-block;line-height: 1.2em;}#sk-container-id-1 div.sk-label-container {text-align: center;}#sk-container-id-1 div.sk-container {/* jupyter's `normalize.less` sets `[hidden] { display: none; }` but bootstrap.min.css set `[hidden] { display: none !important; }` so we also need the `!important` here to be able to override the default hidden behavior on the sphinx rendered scikit-learn.org. See: https://github.com/scikit-learn/scikit-learn/issues/21755 */display: inline-block !important;position: relative;}#sk-container-id-1 div.sk-text-repr-fallback {display: none;}</style><div id=\"sk-container-id-1\" class=\"sk-top-container\"><div class=\"sk-text-repr-fallback\"><pre>DecisionTreeClassifier()</pre><b>In a Jupyter environment, please rerun this cell to show the HTML representation or trust the notebook. <br />On GitHub, the HTML representation is unable to render, please try loading this page with nbviewer.org.</b></div><div class=\"sk-container\" hidden><div class=\"sk-item\"><div class=\"sk-estimator sk-toggleable\"><input class=\"sk-toggleable__control sk-hidden--visually\" id=\"sk-estimator-id-1\" type=\"checkbox\" checked><label for=\"sk-estimator-id-1\" class=\"sk-toggleable__label sk-toggleable__label-arrow\">DecisionTreeClassifier</label><div class=\"sk-toggleable__content\"><pre>DecisionTreeClassifier()</pre></div></div></div></div></div>"
      ],
      "text/plain": [
       "DecisionTreeClassifier()"
      ]
     },
     "execution_count": 21,
     "metadata": {},
     "output_type": "execute_result"
    }
   ],
   "source": [
    "dtc.fit(x_train, y_train)"
   ]
  },
  {
   "cell_type": "code",
   "execution_count": 22,
   "id": "7eb873b4",
   "metadata": {},
   "outputs": [],
   "source": [
    "dtc_pred=dtc.predict(x_test)"
   ]
  },
  {
   "cell_type": "code",
   "execution_count": 23,
   "id": "8947f6b2",
   "metadata": {},
   "outputs": [
    {
     "data": {
      "text/plain": [
       "array([0, 1, 1, 0, 1, 0, 1, 0, 1, 1, 0, 1, 0, 1, 1, 1, 0, 1, 0, 0, 1, 1,\n",
       "       1, 1, 0, 1, 0, 0], dtype=int8)"
      ]
     },
     "execution_count": 23,
     "metadata": {},
     "output_type": "execute_result"
    }
   ],
   "source": [
    "dtc_pred"
   ]
  },
  {
   "cell_type": "code",
   "execution_count": 24,
   "id": "89e7f23a",
   "metadata": {},
   "outputs": [
    {
     "data": {
      "text/plain": [
       "0.5714285714285714"
      ]
     },
     "execution_count": 24,
     "metadata": {},
     "output_type": "execute_result"
    }
   ],
   "source": [
    "from sklearn.metrics import accuracy_score, confusion_matrix, classification_report\n",
    "accuracy_score(y_test,dtc_pred)"
   ]
  },
  {
   "cell_type": "code",
   "execution_count": 25,
   "id": "08788a45",
   "metadata": {},
   "outputs": [
    {
     "name": "stdout",
     "output_type": "stream",
     "text": [
      "              precision    recall  f1-score   support\n",
      "\n",
      "           0       0.50      0.50      0.50        12\n",
      "           1       0.62      0.62      0.62        16\n",
      "\n",
      "    accuracy                           0.57        28\n",
      "   macro avg       0.56      0.56      0.56        28\n",
      "weighted avg       0.57      0.57      0.57        28\n",
      "\n"
     ]
    }
   ],
   "source": [
    "print(classification_report(y_test, dtc_pred))"
   ]
  },
  {
   "cell_type": "code",
   "execution_count": 26,
   "id": "07d688d2",
   "metadata": {},
   "outputs": [],
   "source": [
    "cn1=confusion_matrix(y_test, dtc_pred)"
   ]
  },
  {
   "cell_type": "code",
   "execution_count": 27,
   "id": "1e5bf7ac",
   "metadata": {},
   "outputs": [
    {
     "name": "stdout",
     "output_type": "stream",
     "text": [
      "Cross Validation Scores:  [1.         1.         0.83333333 0.93333333 0.8       ]\n",
      "Average CV Score:  0.9133333333333333\n",
      "Number of CV Scores used in Average:  5\n"
     ]
    }
   ],
   "source": [
    "from sklearn import datasets\n",
    "from sklearn.model_selection import KFold, cross_val_score\n",
    "clf = DecisionTreeClassifier(random_state=42)\n",
    "x, y = datasets.load_iris(return_X_y=True)\n",
    "k_folds = KFold(n_splits = 5)\n",
    "\n",
    "scores = cross_val_score(clf, x, y, cv = k_folds)\n",
    "\n",
    "print(\"Cross Validation Scores: \", scores)\n",
    "print(\"Average CV Score: \", scores.mean())\n",
    "print(\"Number of CV Scores used in Average: \", len(scores))"
   ]
  },
  {
   "cell_type": "markdown",
   "id": "ff1ebabe",
   "metadata": {},
   "source": [
    "# LogisticRegression"
   ]
  },
  {
   "cell_type": "code",
   "execution_count": 28,
   "id": "01a7df7d",
   "metadata": {},
   "outputs": [],
   "source": [
    "from sklearn.linear_model import LogisticRegression"
   ]
  },
  {
   "cell_type": "code",
   "execution_count": 29,
   "id": "1418ab80",
   "metadata": {},
   "outputs": [],
   "source": [
    "rf = LogisticRegression()"
   ]
  },
  {
   "cell_type": "code",
   "execution_count": 30,
   "id": "63106b3e",
   "metadata": {},
   "outputs": [
    {
     "data": {
      "text/html": [
       "<style>#sk-container-id-2 {color: black;background-color: white;}#sk-container-id-2 pre{padding: 0;}#sk-container-id-2 div.sk-toggleable {background-color: white;}#sk-container-id-2 label.sk-toggleable__label {cursor: pointer;display: block;width: 100%;margin-bottom: 0;padding: 0.3em;box-sizing: border-box;text-align: center;}#sk-container-id-2 label.sk-toggleable__label-arrow:before {content: \"▸\";float: left;margin-right: 0.25em;color: #696969;}#sk-container-id-2 label.sk-toggleable__label-arrow:hover:before {color: black;}#sk-container-id-2 div.sk-estimator:hover label.sk-toggleable__label-arrow:before {color: black;}#sk-container-id-2 div.sk-toggleable__content {max-height: 0;max-width: 0;overflow: hidden;text-align: left;background-color: #f0f8ff;}#sk-container-id-2 div.sk-toggleable__content pre {margin: 0.2em;color: black;border-radius: 0.25em;background-color: #f0f8ff;}#sk-container-id-2 input.sk-toggleable__control:checked~div.sk-toggleable__content {max-height: 200px;max-width: 100%;overflow: auto;}#sk-container-id-2 input.sk-toggleable__control:checked~label.sk-toggleable__label-arrow:before {content: \"▾\";}#sk-container-id-2 div.sk-estimator input.sk-toggleable__control:checked~label.sk-toggleable__label {background-color: #d4ebff;}#sk-container-id-2 div.sk-label input.sk-toggleable__control:checked~label.sk-toggleable__label {background-color: #d4ebff;}#sk-container-id-2 input.sk-hidden--visually {border: 0;clip: rect(1px 1px 1px 1px);clip: rect(1px, 1px, 1px, 1px);height: 1px;margin: -1px;overflow: hidden;padding: 0;position: absolute;width: 1px;}#sk-container-id-2 div.sk-estimator {font-family: monospace;background-color: #f0f8ff;border: 1px dotted black;border-radius: 0.25em;box-sizing: border-box;margin-bottom: 0.5em;}#sk-container-id-2 div.sk-estimator:hover {background-color: #d4ebff;}#sk-container-id-2 div.sk-parallel-item::after {content: \"\";width: 100%;border-bottom: 1px solid gray;flex-grow: 1;}#sk-container-id-2 div.sk-label:hover label.sk-toggleable__label {background-color: #d4ebff;}#sk-container-id-2 div.sk-serial::before {content: \"\";position: absolute;border-left: 1px solid gray;box-sizing: border-box;top: 0;bottom: 0;left: 50%;z-index: 0;}#sk-container-id-2 div.sk-serial {display: flex;flex-direction: column;align-items: center;background-color: white;padding-right: 0.2em;padding-left: 0.2em;position: relative;}#sk-container-id-2 div.sk-item {position: relative;z-index: 1;}#sk-container-id-2 div.sk-parallel {display: flex;align-items: stretch;justify-content: center;background-color: white;position: relative;}#sk-container-id-2 div.sk-item::before, #sk-container-id-2 div.sk-parallel-item::before {content: \"\";position: absolute;border-left: 1px solid gray;box-sizing: border-box;top: 0;bottom: 0;left: 50%;z-index: -1;}#sk-container-id-2 div.sk-parallel-item {display: flex;flex-direction: column;z-index: 1;position: relative;background-color: white;}#sk-container-id-2 div.sk-parallel-item:first-child::after {align-self: flex-end;width: 50%;}#sk-container-id-2 div.sk-parallel-item:last-child::after {align-self: flex-start;width: 50%;}#sk-container-id-2 div.sk-parallel-item:only-child::after {width: 0;}#sk-container-id-2 div.sk-dashed-wrapped {border: 1px dashed gray;margin: 0 0.4em 0.5em 0.4em;box-sizing: border-box;padding-bottom: 0.4em;background-color: white;}#sk-container-id-2 div.sk-label label {font-family: monospace;font-weight: bold;display: inline-block;line-height: 1.2em;}#sk-container-id-2 div.sk-label-container {text-align: center;}#sk-container-id-2 div.sk-container {/* jupyter's `normalize.less` sets `[hidden] { display: none; }` but bootstrap.min.css set `[hidden] { display: none !important; }` so we also need the `!important` here to be able to override the default hidden behavior on the sphinx rendered scikit-learn.org. See: https://github.com/scikit-learn/scikit-learn/issues/21755 */display: inline-block !important;position: relative;}#sk-container-id-2 div.sk-text-repr-fallback {display: none;}</style><div id=\"sk-container-id-2\" class=\"sk-top-container\"><div class=\"sk-text-repr-fallback\"><pre>LogisticRegression()</pre><b>In a Jupyter environment, please rerun this cell to show the HTML representation or trust the notebook. <br />On GitHub, the HTML representation is unable to render, please try loading this page with nbviewer.org.</b></div><div class=\"sk-container\" hidden><div class=\"sk-item\"><div class=\"sk-estimator sk-toggleable\"><input class=\"sk-toggleable__control sk-hidden--visually\" id=\"sk-estimator-id-2\" type=\"checkbox\" checked><label for=\"sk-estimator-id-2\" class=\"sk-toggleable__label sk-toggleable__label-arrow\">LogisticRegression</label><div class=\"sk-toggleable__content\"><pre>LogisticRegression()</pre></div></div></div></div></div>"
      ],
      "text/plain": [
       "LogisticRegression()"
      ]
     },
     "execution_count": 30,
     "metadata": {},
     "output_type": "execute_result"
    }
   ],
   "source": [
    "rf.fit(x_train,y_train)"
   ]
  },
  {
   "cell_type": "code",
   "execution_count": 31,
   "id": "998298d7",
   "metadata": {},
   "outputs": [],
   "source": [
    "y_pred=rf.predict(x_test)"
   ]
  },
  {
   "cell_type": "code",
   "execution_count": 32,
   "id": "a89da144",
   "metadata": {},
   "outputs": [
    {
     "name": "stdout",
     "output_type": "stream",
     "text": [
      "Accuracy: 0.5357142857142857\n"
     ]
    }
   ],
   "source": [
    "print(\"Accuracy:\",accuracy_score(y_test, y_pred))"
   ]
  },
  {
   "cell_type": "code",
   "execution_count": 33,
   "id": "3b3ed318",
   "metadata": {},
   "outputs": [
    {
     "name": "stdout",
     "output_type": "stream",
     "text": [
      "              precision    recall  f1-score   support\n",
      "\n",
      "           0       0.47      0.75      0.58        12\n",
      "           1       0.67      0.38      0.48        16\n",
      "\n",
      "    accuracy                           0.54        28\n",
      "   macro avg       0.57      0.56      0.53        28\n",
      "weighted avg       0.58      0.54      0.52        28\n",
      "\n"
     ]
    }
   ],
   "source": [
    "print(classification_report(y_test, y_pred))"
   ]
  },
  {
   "cell_type": "code",
   "execution_count": 34,
   "id": "15db39ff",
   "metadata": {},
   "outputs": [],
   "source": [
    "cn2=confusion_matrix(y_test, y_pred)"
   ]
  },
  {
   "cell_type": "code",
   "execution_count": 35,
   "id": "c78ca34d",
   "metadata": {},
   "outputs": [
    {
     "name": "stdout",
     "output_type": "stream",
     "text": [
      "Cross Validation Scores:  [1.         1.         0.86666667 0.93333333 0.83333333]\n",
      "Average CV Score:  0.9266666666666665\n",
      "Number of CV Scores used in Average:  5\n"
     ]
    },
    {
     "name": "stderr",
     "output_type": "stream",
     "text": [
      "C:\\Users\\91700\\anaconda3\\lib\\site-packages\\sklearn\\linear_model\\_logistic.py:444: ConvergenceWarning: lbfgs failed to converge (status=1):\n",
      "STOP: TOTAL NO. of ITERATIONS REACHED LIMIT.\n",
      "\n",
      "Increase the number of iterations (max_iter) or scale the data as shown in:\n",
      "    https://scikit-learn.org/stable/modules/preprocessing.html\n",
      "Please also refer to the documentation for alternative solver options:\n",
      "    https://scikit-learn.org/stable/modules/linear_model.html#logistic-regression\n",
      "  n_iter_i = _check_optimize_result(\n",
      "C:\\Users\\91700\\anaconda3\\lib\\site-packages\\sklearn\\linear_model\\_logistic.py:444: ConvergenceWarning: lbfgs failed to converge (status=1):\n",
      "STOP: TOTAL NO. of ITERATIONS REACHED LIMIT.\n",
      "\n",
      "Increase the number of iterations (max_iter) or scale the data as shown in:\n",
      "    https://scikit-learn.org/stable/modules/preprocessing.html\n",
      "Please also refer to the documentation for alternative solver options:\n",
      "    https://scikit-learn.org/stable/modules/linear_model.html#logistic-regression\n",
      "  n_iter_i = _check_optimize_result(\n",
      "C:\\Users\\91700\\anaconda3\\lib\\site-packages\\sklearn\\linear_model\\_logistic.py:444: ConvergenceWarning: lbfgs failed to converge (status=1):\n",
      "STOP: TOTAL NO. of ITERATIONS REACHED LIMIT.\n",
      "\n",
      "Increase the number of iterations (max_iter) or scale the data as shown in:\n",
      "    https://scikit-learn.org/stable/modules/preprocessing.html\n",
      "Please also refer to the documentation for alternative solver options:\n",
      "    https://scikit-learn.org/stable/modules/linear_model.html#logistic-regression\n",
      "  n_iter_i = _check_optimize_result(\n"
     ]
    }
   ],
   "source": [
    "from sklearn import datasets\n",
    "from sklearn.model_selection import KFold, cross_val_score\n",
    "lrc = LogisticRegression()\n",
    "x, y = datasets.load_iris(return_X_y=True)\n",
    "k_folds = KFold(n_splits = 5)\n",
    "\n",
    "scores = cross_val_score(lrc, x, y, cv = k_folds)\n",
    "\n",
    "print(\"Cross Validation Scores: \", scores)\n",
    "print(\"Average CV Score: \", scores.mean())\n",
    "print(\"Number of CV Scores used in Average: \", len(scores))"
   ]
  },
  {
   "cell_type": "markdown",
   "id": "328b447f",
   "metadata": {},
   "source": [
    "# Neural Network Model"
   ]
  },
  {
   "cell_type": "code",
   "execution_count": 36,
   "id": "7b2c8c1f",
   "metadata": {},
   "outputs": [],
   "source": [
    "from sklearn.model_selection import train_test_split\n",
    "x_train, x_val, y_train, y_val = train_test_split(x, y, test_size=0.2)"
   ]
  },
  {
   "cell_type": "code",
   "execution_count": 37,
   "id": "43c80d38",
   "metadata": {},
   "outputs": [],
   "source": [
    "from sklearn.preprocessing import StandardScaler\n",
    "scaler = StandardScaler()\n",
    "x_train = scaler.fit_transform(x_train)\n",
    "x_val = scaler.transform(x_val)"
   ]
  },
  {
   "cell_type": "markdown",
   "id": "f4a4357b",
   "metadata": {},
   "source": [
    "#MLPRegressor"
   ]
  },
  {
   "cell_type": "code",
   "execution_count": 38,
   "id": "1fcdd306",
   "metadata": {},
   "outputs": [],
   "source": [
    "from sklearn.neural_network import MLPRegressor\n",
    "from sklearn.preprocessing import StandardScaler\n",
    "from sklearn import metrics\n",
    "model = MLPRegressor(hidden_layer_sizes=(64, 64,64), \n",
    "                     activation=\"relu\" ,\n",
    "                     random_state=42, max_iter=2000)"
   ]
  },
  {
   "cell_type": "code",
   "execution_count": 39,
   "id": "ec71758a",
   "metadata": {},
   "outputs": [],
   "source": [
    "model.fit(x_train, y_train)\n",
    "y1_pred = model.predict(x_val)"
   ]
  },
  {
   "cell_type": "code",
   "execution_count": 41,
   "id": "f8f8a421",
   "metadata": {},
   "outputs": [
    {
     "name": "stdout",
     "output_type": "stream",
     "text": [
      "\n",
      "MAE: \t0.15\n",
      "RMSE: \t0.19\n",
      "r2: \t0.91\n",
      "\n"
     ]
    }
   ],
   "source": [
    "mae = metrics.mean_absolute_error(y_val, y1_pred)\n",
    "\n",
    "mse = metrics.mean_squared_error(y_val, y1_pred)\n",
    "rmse = mse**0.5 \n",
    "\n",
    "r2 = metrics.r2_score(y_val, y1_pred)\n",
    "\n",
    "print(f\"\"\"\n",
    "MAE: \\t{mae:.2f}\n",
    "RMSE: \\t{rmse:.2f}\n",
    "r2: \\t{r2:.2f}\n",
    "\"\"\")"
   ]
  },
  {
   "cell_type": "code",
   "execution_count": 42,
   "id": "b494a258",
   "metadata": {},
   "outputs": [
    {
     "data": {
      "text/plain": [
       "array([ 8.78895719e-03,  1.28135734e+00,  1.24942729e-02,  1.18357413e+00,\n",
       "        1.53438350e+00,  1.33512235e+00,  1.20470566e+00,  1.27252564e+00,\n",
       "        2.02846857e+00, -2.86103685e-02,  1.92947540e+00, -2.35246994e-04,\n",
       "        1.18168002e+00,  2.18788270e+00,  3.26210108e-02,  2.07454866e+00,\n",
       "        7.95736059e-01,  1.08186406e+00,  9.43800344e-01,  9.25655638e-01,\n",
       "        2.21176620e+00,  9.77115028e-01, -2.72603751e-02,  1.18739473e+00,\n",
       "        8.65369088e-01,  1.06516874e+00,  1.56851657e+00,  1.75372781e+00,\n",
       "        1.14998367e+00,  1.03300736e+00])"
      ]
     },
     "execution_count": 42,
     "metadata": {},
     "output_type": "execute_result"
    }
   ],
   "source": [
    "y1_pred"
   ]
  },
  {
   "cell_type": "code",
   "execution_count": 43,
   "id": "c512c601",
   "metadata": {},
   "outputs": [
    {
     "name": "stdout",
     "output_type": "stream",
     "text": [
      "Cross Validation Scores:  [ 0.         -2.14284101  0.          0.67134073  0.        ]\n",
      "Average CV Score:  -0.29430005644935936\n",
      "Number of CV Scores used in Average:  5\n"
     ]
    }
   ],
   "source": [
    "from sklearn import datasets\n",
    "from sklearn.model_selection import KFold, cross_val_score\n",
    "lrc1 = MLPRegressor()\n",
    "x, y = datasets.load_iris(return_X_y=True)\n",
    "k_folds = KFold(n_splits = 5)\n",
    "\n",
    "scores = cross_val_score(lrc1, x, y, cv = k_folds)\n",
    "\n",
    "print(\"Cross Validation Scores: \", scores)\n",
    "print(\"Average CV Score: \", scores.mean())\n",
    "print(\"Number of CV Scores used in Average: \", len(scores))"
   ]
  },
  {
   "cell_type": "code",
   "execution_count": 44,
   "id": "e0b2dcd9",
   "metadata": {},
   "outputs": [],
   "source": [
    "dtc1=accuracy_score(y_test,dtc_pred)\n",
    "rf1=accuracy_score(y_test,y_pred)"
   ]
  },
  {
   "cell_type": "code",
   "execution_count": 47,
   "id": "06d9a232",
   "metadata": {},
   "outputs": [
    {
     "data": {
      "image/png": "[encoded data removed]",
      "text/plain": [
       "<Figure size 1080x720 with 2 Axes>"
      ]
     },
     "metadata": {
      "needs_background": "light"
     },
     "output_type": "display_data"
    }
   ],
   "source": [
    "plt.figure(figsize=(15,10))\n",
    "\n",
    "plt.suptitle(\"Confusion Matrixes\",fontsize=20)\n",
    "\n",
    "plt.xlabel(\"predicted values\")\n",
    "plt.ylabel(\"actual values\")\n",
    "\n",
    "plt.subplot(2,3,3)\n",
    "plt.title(\"Decision tree Confusion Matrix\")\n",
    "sns.heatmap(cn2,cbar=False,annot=True,cmap=\"Greens\",fmt=\"d\")\n",
    "\n",
    "plt.subplot(2,3,1)\n",
    "plt.title(\"Logistic Regression Confusion Matrix\")\n",
    "sns.heatmap(cn2,cbar=False,annot=True,cmap=\"Greens\",fmt=\"d\")\n",
    "\n",
    "\n",
    "plt.xlabel(\"predicted values\")\n",
    "plt.ylabel(\"actual values\")\n",
    "\n",
    "plt.show()"
   ]
  }
 ],
 "metadata": {
  "kernelspec": {
   "display_name": "Python 3 (ipykernel)",
   "language": "python",
   "name": "python3"
  },
  "language_info": {
   "codemirror_mode": {
    "name": "ipython",
    "version": 3
   },
   "file_extension": ".py",
   "mimetype": "text/x-python",
   "name": "python",
   "nbconvert_exporter": "python",
   "pygments_lexer": "ipython3",
   "version": "3.9.7"
  }
 },
 "nbformat": 4,
 "nbformat_minor": 5
}
