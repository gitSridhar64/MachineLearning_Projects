{
 "cells": [
  {
   "cell_type": "markdown",
   "id": "2602ae01",
   "metadata": {},
   "source": [
    "# importing required libraries "
   ]
  },
  {
   "cell_type": "code",
   "execution_count": 1,
   "id": "0905017b",
   "metadata": {},
   "outputs": [],
   "source": [
    "import pandas as pd\n",
    "import numpy as np \n",
    "import matplotlib.pyplot as plt\n",
    "import seaborn as sns"
   ]
  },
  {
   "cell_type": "markdown",
   "id": "63c36d77",
   "metadata": {},
   "source": [
    "# importing the dataset"
   ]
  },
  {
   "cell_type": "code",
   "execution_count": 2,
   "id": "e92cbd30",
   "metadata": {},
   "outputs": [
    {
     "data": {
      "text/html": [
       "<div>\n",
       "<style scoped>\n",
       "    .dataframe tbody tr th:only-of-type {\n",
       "        vertical-align: middle;\n",
       "    }\n",
       "\n",
       "    .dataframe tbody tr th {\n",
       "        vertical-align: top;\n",
       "    }\n",
       "\n",
       "    .dataframe thead th {\n",
       "        text-align: right;\n",
       "    }\n",
       "</style>\n",
       "<table border=\"1\" class=\"dataframe\">\n",
       "  <thead>\n",
       "    <tr style=\"text-align: right;\">\n",
       "      <th></th>\n",
       "      <th>Date</th>\n",
       "      <th>Open</th>\n",
       "      <th>High</th>\n",
       "      <th>Low</th>\n",
       "      <th>Close</th>\n",
       "      <th>Adj Close</th>\n",
       "      <th>Volume</th>\n",
       "    </tr>\n",
       "  </thead>\n",
       "  <tbody>\n",
       "    <tr>\n",
       "      <th>0</th>\n",
       "      <td>19-08-2020</td>\n",
       "      <td>2141.000000</td>\n",
       "      <td>2154.000000</td>\n",
       "      <td>2121.350098</td>\n",
       "      <td>2131.550049</td>\n",
       "      <td>2124.715088</td>\n",
       "      <td>15731396</td>\n",
       "    </tr>\n",
       "    <tr>\n",
       "      <th>1</th>\n",
       "      <td>20-08-2020</td>\n",
       "      <td>2120.000000</td>\n",
       "      <td>2123.899902</td>\n",
       "      <td>2088.000000</td>\n",
       "      <td>2097.050049</td>\n",
       "      <td>2090.325684</td>\n",
       "      <td>10401212</td>\n",
       "    </tr>\n",
       "    <tr>\n",
       "      <th>2</th>\n",
       "      <td>21-08-2020</td>\n",
       "      <td>2118.000000</td>\n",
       "      <td>2122.000000</td>\n",
       "      <td>2077.000000</td>\n",
       "      <td>2081.850098</td>\n",
       "      <td>2075.174316</td>\n",
       "      <td>11667129</td>\n",
       "    </tr>\n",
       "    <tr>\n",
       "      <th>3</th>\n",
       "      <td>24-08-2020</td>\n",
       "      <td>2091.399902</td>\n",
       "      <td>2104.500000</td>\n",
       "      <td>2070.500000</td>\n",
       "      <td>2095.750000</td>\n",
       "      <td>2089.029785</td>\n",
       "      <td>15098991</td>\n",
       "    </tr>\n",
       "    <tr>\n",
       "      <th>4</th>\n",
       "      <td>25-08-2020</td>\n",
       "      <td>2106.000000</td>\n",
       "      <td>2111.300049</td>\n",
       "      <td>2078.000000</td>\n",
       "      <td>2082.100098</td>\n",
       "      <td>2075.423584</td>\n",
       "      <td>8947563</td>\n",
       "    </tr>\n",
       "  </tbody>\n",
       "</table>\n",
       "</div>"
      ],
      "text/plain": [
       "         Date         Open         High          Low        Close  \\\n",
       "0  19-08-2020  2141.000000  2154.000000  2121.350098  2131.550049   \n",
       "1  20-08-2020  2120.000000  2123.899902  2088.000000  2097.050049   \n",
       "2  21-08-2020  2118.000000  2122.000000  2077.000000  2081.850098   \n",
       "3  24-08-2020  2091.399902  2104.500000  2070.500000  2095.750000   \n",
       "4  25-08-2020  2106.000000  2111.300049  2078.000000  2082.100098   \n",
       "\n",
       "     Adj Close    Volume  \n",
       "0  2124.715088  15731396  \n",
       "1  2090.325684  10401212  \n",
       "2  2075.174316  11667129  \n",
       "3  2089.029785  15098991  \n",
       "4  2075.423584   8947563  "
      ]
     },
     "execution_count": 2,
     "metadata": {},
     "output_type": "execute_result"
    }
   ],
   "source": [
    "bs = pd.read_csv('RELIANCE.csv')\n",
    "bs.head()"
   ]
  },
  {
   "cell_type": "code",
   "execution_count": 3,
   "id": "898cb371",
   "metadata": {},
   "outputs": [
    {
     "data": {
      "text/html": [
       "<div>\n",
       "<style scoped>\n",
       "    .dataframe tbody tr th:only-of-type {\n",
       "        vertical-align: middle;\n",
       "    }\n",
       "\n",
       "    .dataframe tbody tr th {\n",
       "        vertical-align: top;\n",
       "    }\n",
       "\n",
       "    .dataframe thead th {\n",
       "        text-align: right;\n",
       "    }\n",
       "</style>\n",
       "<table border=\"1\" class=\"dataframe\">\n",
       "  <thead>\n",
       "    <tr style=\"text-align: right;\">\n",
       "      <th></th>\n",
       "      <th>Open</th>\n",
       "      <th>High</th>\n",
       "      <th>Low</th>\n",
       "      <th>Close</th>\n",
       "      <th>Adj Close</th>\n",
       "      <th>Volume</th>\n",
       "    </tr>\n",
       "  </thead>\n",
       "  <tbody>\n",
       "    <tr>\n",
       "      <th>count</th>\n",
       "      <td>249.000000</td>\n",
       "      <td>249.000000</td>\n",
       "      <td>249.000000</td>\n",
       "      <td>249.000000</td>\n",
       "      <td>249.000000</td>\n",
       "      <td>2.490000e+02</td>\n",
       "    </tr>\n",
       "    <tr>\n",
       "      <th>mean</th>\n",
       "      <td>2068.014859</td>\n",
       "      <td>2089.614047</td>\n",
       "      <td>2040.812858</td>\n",
       "      <td>2062.776310</td>\n",
       "      <td>2057.475665</td>\n",
       "      <td>1.169959e+07</td>\n",
       "    </tr>\n",
       "    <tr>\n",
       "      <th>std</th>\n",
       "      <td>110.235282</td>\n",
       "      <td>111.434759</td>\n",
       "      <td>108.422569</td>\n",
       "      <td>109.656764</td>\n",
       "      <td>110.108616</td>\n",
       "      <td>7.600158e+06</td>\n",
       "    </tr>\n",
       "    <tr>\n",
       "      <th>min</th>\n",
       "      <td>1837.000000</td>\n",
       "      <td>1905.000000</td>\n",
       "      <td>1830.000000</td>\n",
       "      <td>1841.949951</td>\n",
       "      <td>1836.043579</td>\n",
       "      <td>3.099956e+06</td>\n",
       "    </tr>\n",
       "    <tr>\n",
       "      <th>25%</th>\n",
       "      <td>1980.000000</td>\n",
       "      <td>1997.199951</td>\n",
       "      <td>1960.000000</td>\n",
       "      <td>1976.099976</td>\n",
       "      <td>1969.763428</td>\n",
       "      <td>6.821015e+06</td>\n",
       "    </tr>\n",
       "    <tr>\n",
       "      <th>50%</th>\n",
       "      <td>2071.000000</td>\n",
       "      <td>2089.800049</td>\n",
       "      <td>2035.099976</td>\n",
       "      <td>2055.699951</td>\n",
       "      <td>2053.250000</td>\n",
       "      <td>9.591456e+06</td>\n",
       "    </tr>\n",
       "    <tr>\n",
       "      <th>75%</th>\n",
       "      <td>2136.449951</td>\n",
       "      <td>2153.550049</td>\n",
       "      <td>2104.250000</td>\n",
       "      <td>2134.250000</td>\n",
       "      <td>2130.446533</td>\n",
       "      <td>1.414742e+07</td>\n",
       "    </tr>\n",
       "    <tr>\n",
       "      <th>max</th>\n",
       "      <td>2325.000000</td>\n",
       "      <td>2369.350098</td>\n",
       "      <td>2310.550049</td>\n",
       "      <td>2324.550049</td>\n",
       "      <td>2317.096191</td>\n",
       "      <td>6.475046e+07</td>\n",
       "    </tr>\n",
       "  </tbody>\n",
       "</table>\n",
       "</div>"
      ],
      "text/plain": [
       "              Open         High          Low        Close    Adj Close  \\\n",
       "count   249.000000   249.000000   249.000000   249.000000   249.000000   \n",
       "mean   2068.014859  2089.614047  2040.812858  2062.776310  2057.475665   \n",
       "std     110.235282   111.434759   108.422569   109.656764   110.108616   \n",
       "min    1837.000000  1905.000000  1830.000000  1841.949951  1836.043579   \n",
       "25%    1980.000000  1997.199951  1960.000000  1976.099976  1969.763428   \n",
       "50%    2071.000000  2089.800049  2035.099976  2055.699951  2053.250000   \n",
       "75%    2136.449951  2153.550049  2104.250000  2134.250000  2130.446533   \n",
       "max    2325.000000  2369.350098  2310.550049  2324.550049  2317.096191   \n",
       "\n",
       "             Volume  \n",
       "count  2.490000e+02  \n",
       "mean   1.169959e+07  \n",
       "std    7.600158e+06  \n",
       "min    3.099956e+06  \n",
       "25%    6.821015e+06  \n",
       "50%    9.591456e+06  \n",
       "75%    1.414742e+07  \n",
       "max    6.475046e+07  "
      ]
     },
     "execution_count": 3,
     "metadata": {},
     "output_type": "execute_result"
    }
   ],
   "source": [
    "bs.describe()"
   ]
  },
  {
   "cell_type": "code",
   "execution_count": 4,
   "id": "bbb162fe",
   "metadata": {},
   "outputs": [
    {
     "data": {
      "text/html": [
       "<div>\n",
       "<style scoped>\n",
       "    .dataframe tbody tr th:only-of-type {\n",
       "        vertical-align: middle;\n",
       "    }\n",
       "\n",
       "    .dataframe tbody tr th {\n",
       "        vertical-align: top;\n",
       "    }\n",
       "\n",
       "    .dataframe thead th {\n",
       "        text-align: right;\n",
       "    }\n",
       "</style>\n",
       "<table border=\"1\" class=\"dataframe\">\n",
       "  <thead>\n",
       "    <tr style=\"text-align: right;\">\n",
       "      <th></th>\n",
       "      <th>Date</th>\n",
       "      <th>Open</th>\n",
       "      <th>High</th>\n",
       "      <th>Low</th>\n",
       "      <th>Close</th>\n",
       "      <th>Adj Close</th>\n",
       "      <th>Volume</th>\n",
       "    </tr>\n",
       "  </thead>\n",
       "  <tbody>\n",
       "    <tr>\n",
       "      <th>244</th>\n",
       "      <td>12-08-2021</td>\n",
       "      <td>2124.899902</td>\n",
       "      <td>2126.199951</td>\n",
       "      <td>2105.000000</td>\n",
       "      <td>2110.500000</td>\n",
       "      <td>2110.500000</td>\n",
       "      <td>3755507</td>\n",
       "    </tr>\n",
       "    <tr>\n",
       "      <th>245</th>\n",
       "      <td>13-08-2021</td>\n",
       "      <td>2117.300049</td>\n",
       "      <td>2149.899902</td>\n",
       "      <td>2108.949951</td>\n",
       "      <td>2145.649902</td>\n",
       "      <td>2145.649902</td>\n",
       "      <td>5898384</td>\n",
       "    </tr>\n",
       "    <tr>\n",
       "      <th>246</th>\n",
       "      <td>16-08-2021</td>\n",
       "      <td>2149.350098</td>\n",
       "      <td>2203.000000</td>\n",
       "      <td>2128.149902</td>\n",
       "      <td>2173.500000</td>\n",
       "      <td>2173.500000</td>\n",
       "      <td>10123204</td>\n",
       "    </tr>\n",
       "    <tr>\n",
       "      <th>247</th>\n",
       "      <td>17-08-2021</td>\n",
       "      <td>2168.850098</td>\n",
       "      <td>2185.199951</td>\n",
       "      <td>2147.850098</td>\n",
       "      <td>2164.250000</td>\n",
       "      <td>2164.250000</td>\n",
       "      <td>5841743</td>\n",
       "    </tr>\n",
       "    <tr>\n",
       "      <th>248</th>\n",
       "      <td>18-08-2021</td>\n",
       "      <td>2174.000000</td>\n",
       "      <td>2186.800049</td>\n",
       "      <td>2152.600098</td>\n",
       "      <td>2172.649902</td>\n",
       "      <td>2172.649902</td>\n",
       "      <td>4650008</td>\n",
       "    </tr>\n",
       "  </tbody>\n",
       "</table>\n",
       "</div>"
      ],
      "text/plain": [
       "           Date         Open         High          Low        Close  \\\n",
       "244  12-08-2021  2124.899902  2126.199951  2105.000000  2110.500000   \n",
       "245  13-08-2021  2117.300049  2149.899902  2108.949951  2145.649902   \n",
       "246  16-08-2021  2149.350098  2203.000000  2128.149902  2173.500000   \n",
       "247  17-08-2021  2168.850098  2185.199951  2147.850098  2164.250000   \n",
       "248  18-08-2021  2174.000000  2186.800049  2152.600098  2172.649902   \n",
       "\n",
       "       Adj Close    Volume  \n",
       "244  2110.500000   3755507  \n",
       "245  2145.649902   5898384  \n",
       "246  2173.500000  10123204  \n",
       "247  2164.250000   5841743  \n",
       "248  2172.649902   4650008  "
      ]
     },
     "execution_count": 4,
     "metadata": {},
     "output_type": "execute_result"
    }
   ],
   "source": [
    "bs.tail()"
   ]
  },
  {
   "cell_type": "markdown",
   "id": "8953a264",
   "metadata": {},
   "source": [
    "# data preprocessing "
   ]
  },
  {
   "cell_type": "code",
   "execution_count": 5,
   "id": "bef8ea26",
   "metadata": {},
   "outputs": [
    {
     "data": {
      "text/plain": [
       "Date          object\n",
       "Open         float64\n",
       "High         float64\n",
       "Low          float64\n",
       "Close        float64\n",
       "Adj Close    float64\n",
       "Volume         int64\n",
       "dtype: object"
      ]
     },
     "execution_count": 5,
     "metadata": {},
     "output_type": "execute_result"
    }
   ],
   "source": [
    "bs.dtypes"
   ]
  },
  {
   "cell_type": "markdown",
   "id": "5cdd3b6f",
   "metadata": {},
   "source": [
    "# null values and duplicate values checking "
   ]
  },
  {
   "cell_type": "code",
   "execution_count": 6,
   "id": "ca094b70",
   "metadata": {},
   "outputs": [
    {
     "data": {
      "text/html": [
       "<div>\n",
       "<style scoped>\n",
       "    .dataframe tbody tr th:only-of-type {\n",
       "        vertical-align: middle;\n",
       "    }\n",
       "\n",
       "    .dataframe tbody tr th {\n",
       "        vertical-align: top;\n",
       "    }\n",
       "\n",
       "    .dataframe thead th {\n",
       "        text-align: right;\n",
       "    }\n",
       "</style>\n",
       "<table border=\"1\" class=\"dataframe\">\n",
       "  <thead>\n",
       "    <tr style=\"text-align: right;\">\n",
       "      <th></th>\n",
       "      <th>Date</th>\n",
       "      <th>Open</th>\n",
       "      <th>High</th>\n",
       "      <th>Low</th>\n",
       "      <th>Close</th>\n",
       "      <th>Adj Close</th>\n",
       "      <th>Volume</th>\n",
       "    </tr>\n",
       "  </thead>\n",
       "  <tbody>\n",
       "    <tr>\n",
       "      <th>0</th>\n",
       "      <td>False</td>\n",
       "      <td>False</td>\n",
       "      <td>False</td>\n",
       "      <td>False</td>\n",
       "      <td>False</td>\n",
       "      <td>False</td>\n",
       "      <td>False</td>\n",
       "    </tr>\n",
       "    <tr>\n",
       "      <th>1</th>\n",
       "      <td>False</td>\n",
       "      <td>False</td>\n",
       "      <td>False</td>\n",
       "      <td>False</td>\n",
       "      <td>False</td>\n",
       "      <td>False</td>\n",
       "      <td>False</td>\n",
       "    </tr>\n",
       "    <tr>\n",
       "      <th>2</th>\n",
       "      <td>False</td>\n",
       "      <td>False</td>\n",
       "      <td>False</td>\n",
       "      <td>False</td>\n",
       "      <td>False</td>\n",
       "      <td>False</td>\n",
       "      <td>False</td>\n",
       "    </tr>\n",
       "    <tr>\n",
       "      <th>3</th>\n",
       "      <td>False</td>\n",
       "      <td>False</td>\n",
       "      <td>False</td>\n",
       "      <td>False</td>\n",
       "      <td>False</td>\n",
       "      <td>False</td>\n",
       "      <td>False</td>\n",
       "    </tr>\n",
       "    <tr>\n",
       "      <th>4</th>\n",
       "      <td>False</td>\n",
       "      <td>False</td>\n",
       "      <td>False</td>\n",
       "      <td>False</td>\n",
       "      <td>False</td>\n",
       "      <td>False</td>\n",
       "      <td>False</td>\n",
       "    </tr>\n",
       "    <tr>\n",
       "      <th>...</th>\n",
       "      <td>...</td>\n",
       "      <td>...</td>\n",
       "      <td>...</td>\n",
       "      <td>...</td>\n",
       "      <td>...</td>\n",
       "      <td>...</td>\n",
       "      <td>...</td>\n",
       "    </tr>\n",
       "    <tr>\n",
       "      <th>244</th>\n",
       "      <td>False</td>\n",
       "      <td>False</td>\n",
       "      <td>False</td>\n",
       "      <td>False</td>\n",
       "      <td>False</td>\n",
       "      <td>False</td>\n",
       "      <td>False</td>\n",
       "    </tr>\n",
       "    <tr>\n",
       "      <th>245</th>\n",
       "      <td>False</td>\n",
       "      <td>False</td>\n",
       "      <td>False</td>\n",
       "      <td>False</td>\n",
       "      <td>False</td>\n",
       "      <td>False</td>\n",
       "      <td>False</td>\n",
       "    </tr>\n",
       "    <tr>\n",
       "      <th>246</th>\n",
       "      <td>False</td>\n",
       "      <td>False</td>\n",
       "      <td>False</td>\n",
       "      <td>False</td>\n",
       "      <td>False</td>\n",
       "      <td>False</td>\n",
       "      <td>False</td>\n",
       "    </tr>\n",
       "    <tr>\n",
       "      <th>247</th>\n",
       "      <td>False</td>\n",
       "      <td>False</td>\n",
       "      <td>False</td>\n",
       "      <td>False</td>\n",
       "      <td>False</td>\n",
       "      <td>False</td>\n",
       "      <td>False</td>\n",
       "    </tr>\n",
       "    <tr>\n",
       "      <th>248</th>\n",
       "      <td>False</td>\n",
       "      <td>False</td>\n",
       "      <td>False</td>\n",
       "      <td>False</td>\n",
       "      <td>False</td>\n",
       "      <td>False</td>\n",
       "      <td>False</td>\n",
       "    </tr>\n",
       "  </tbody>\n",
       "</table>\n",
       "<p>249 rows × 7 columns</p>\n",
       "</div>"
      ],
      "text/plain": [
       "      Date   Open   High    Low  Close  Adj Close  Volume\n",
       "0    False  False  False  False  False      False   False\n",
       "1    False  False  False  False  False      False   False\n",
       "2    False  False  False  False  False      False   False\n",
       "3    False  False  False  False  False      False   False\n",
       "4    False  False  False  False  False      False   False\n",
       "..     ...    ...    ...    ...    ...        ...     ...\n",
       "244  False  False  False  False  False      False   False\n",
       "245  False  False  False  False  False      False   False\n",
       "246  False  False  False  False  False      False   False\n",
       "247  False  False  False  False  False      False   False\n",
       "248  False  False  False  False  False      False   False\n",
       "\n",
       "[249 rows x 7 columns]"
      ]
     },
     "execution_count": 6,
     "metadata": {},
     "output_type": "execute_result"
    }
   ],
   "source": [
    "bs.isnull()"
   ]
  },
  {
   "cell_type": "markdown",
   "id": "5b7b7cba",
   "metadata": {},
   "source": [
    "# printing the null values"
   ]
  },
  {
   "cell_type": "code",
   "execution_count": 7,
   "id": "df701b33",
   "metadata": {},
   "outputs": [
    {
     "name": "stdout",
     "output_type": "stream",
     "text": [
      "We have 0 NaN/Null values in data\n"
     ]
    }
   ],
   "source": [
    "print('We have {} NaN/Null values in data'.format(bs.isnull().values.sum()))"
   ]
  },
  {
   "cell_type": "code",
   "execution_count": 8,
   "id": "31a19dd4",
   "metadata": {},
   "outputs": [
    {
     "data": {
      "text/plain": [
       "False"
      ]
     },
     "execution_count": 8,
     "metadata": {},
     "output_type": "execute_result"
    }
   ],
   "source": [
    "bs.isnull().any().any()"
   ]
  },
  {
   "cell_type": "code",
   "execution_count": 9,
   "id": "7ff76bcf",
   "metadata": {},
   "outputs": [
    {
     "data": {
      "text/plain": [
       "0"
      ]
     },
     "execution_count": 9,
     "metadata": {},
     "output_type": "execute_result"
    }
   ],
   "source": [
    "bs.isnull().sum().sum()"
   ]
  },
  {
   "cell_type": "code",
   "execution_count": 10,
   "id": "a69d9535",
   "metadata": {},
   "outputs": [],
   "source": [
    "bs.dropna(axis=1, inplace=True)"
   ]
  },
  {
   "cell_type": "code",
   "execution_count": 11,
   "id": "745e4dea",
   "metadata": {},
   "outputs": [
    {
     "data": {
      "text/plain": [
       "False"
      ]
     },
     "execution_count": 11,
     "metadata": {},
     "output_type": "execute_result"
    }
   ],
   "source": [
    "bs.isnull().any().any()"
   ]
  },
  {
   "cell_type": "code",
   "execution_count": 12,
   "id": "0b230d27",
   "metadata": {},
   "outputs": [
    {
     "data": {
      "text/plain": [
       "0      False\n",
       "1      False\n",
       "2      False\n",
       "3      False\n",
       "4      False\n",
       "       ...  \n",
       "244    False\n",
       "245    False\n",
       "246    False\n",
       "247    False\n",
       "248    False\n",
       "Length: 249, dtype: bool"
      ]
     },
     "execution_count": 12,
     "metadata": {},
     "output_type": "execute_result"
    }
   ],
   "source": [
    "bs.duplicated()"
   ]
  },
  {
   "cell_type": "markdown",
   "id": "e40a6e77",
   "metadata": {},
   "source": [
    "# splitting the data"
   ]
  },
  {
   "cell_type": "code",
   "execution_count": 13,
   "id": "c6ac845a",
   "metadata": {},
   "outputs": [
    {
     "data": {
      "text/html": [
       "<div>\n",
       "<style scoped>\n",
       "    .dataframe tbody tr th:only-of-type {\n",
       "        vertical-align: middle;\n",
       "    }\n",
       "\n",
       "    .dataframe tbody tr th {\n",
       "        vertical-align: top;\n",
       "    }\n",
       "\n",
       "    .dataframe thead th {\n",
       "        text-align: right;\n",
       "    }\n",
       "</style>\n",
       "<table border=\"1\" class=\"dataframe\">\n",
       "  <thead>\n",
       "    <tr style=\"text-align: right;\">\n",
       "      <th></th>\n",
       "      <th>Date</th>\n",
       "      <th>Open</th>\n",
       "      <th>High</th>\n",
       "      <th>Low</th>\n",
       "      <th>Close</th>\n",
       "      <th>Adj Close</th>\n",
       "      <th>Volume</th>\n",
       "    </tr>\n",
       "  </thead>\n",
       "  <tbody>\n",
       "    <tr>\n",
       "      <th>0</th>\n",
       "      <td>19-08-2020</td>\n",
       "      <td>2141.000000</td>\n",
       "      <td>2154.000000</td>\n",
       "      <td>2121.350098</td>\n",
       "      <td>2131.550049</td>\n",
       "      <td>2124.715088</td>\n",
       "      <td>15731396</td>\n",
       "    </tr>\n",
       "    <tr>\n",
       "      <th>1</th>\n",
       "      <td>20-08-2020</td>\n",
       "      <td>2120.000000</td>\n",
       "      <td>2123.899902</td>\n",
       "      <td>2088.000000</td>\n",
       "      <td>2097.050049</td>\n",
       "      <td>2090.325684</td>\n",
       "      <td>10401212</td>\n",
       "    </tr>\n",
       "    <tr>\n",
       "      <th>2</th>\n",
       "      <td>21-08-2020</td>\n",
       "      <td>2118.000000</td>\n",
       "      <td>2122.000000</td>\n",
       "      <td>2077.000000</td>\n",
       "      <td>2081.850098</td>\n",
       "      <td>2075.174316</td>\n",
       "      <td>11667129</td>\n",
       "    </tr>\n",
       "    <tr>\n",
       "      <th>3</th>\n",
       "      <td>24-08-2020</td>\n",
       "      <td>2091.399902</td>\n",
       "      <td>2104.500000</td>\n",
       "      <td>2070.500000</td>\n",
       "      <td>2095.750000</td>\n",
       "      <td>2089.029785</td>\n",
       "      <td>15098991</td>\n",
       "    </tr>\n",
       "    <tr>\n",
       "      <th>4</th>\n",
       "      <td>25-08-2020</td>\n",
       "      <td>2106.000000</td>\n",
       "      <td>2111.300049</td>\n",
       "      <td>2078.000000</td>\n",
       "      <td>2082.100098</td>\n",
       "      <td>2075.423584</td>\n",
       "      <td>8947563</td>\n",
       "    </tr>\n",
       "    <tr>\n",
       "      <th>...</th>\n",
       "      <td>...</td>\n",
       "      <td>...</td>\n",
       "      <td>...</td>\n",
       "      <td>...</td>\n",
       "      <td>...</td>\n",
       "      <td>...</td>\n",
       "      <td>...</td>\n",
       "    </tr>\n",
       "    <tr>\n",
       "      <th>244</th>\n",
       "      <td>12-08-2021</td>\n",
       "      <td>2124.899902</td>\n",
       "      <td>2126.199951</td>\n",
       "      <td>2105.000000</td>\n",
       "      <td>2110.500000</td>\n",
       "      <td>2110.500000</td>\n",
       "      <td>3755507</td>\n",
       "    </tr>\n",
       "    <tr>\n",
       "      <th>245</th>\n",
       "      <td>13-08-2021</td>\n",
       "      <td>2117.300049</td>\n",
       "      <td>2149.899902</td>\n",
       "      <td>2108.949951</td>\n",
       "      <td>2145.649902</td>\n",
       "      <td>2145.649902</td>\n",
       "      <td>5898384</td>\n",
       "    </tr>\n",
       "    <tr>\n",
       "      <th>246</th>\n",
       "      <td>16-08-2021</td>\n",
       "      <td>2149.350098</td>\n",
       "      <td>2203.000000</td>\n",
       "      <td>2128.149902</td>\n",
       "      <td>2173.500000</td>\n",
       "      <td>2173.500000</td>\n",
       "      <td>10123204</td>\n",
       "    </tr>\n",
       "    <tr>\n",
       "      <th>247</th>\n",
       "      <td>17-08-2021</td>\n",
       "      <td>2168.850098</td>\n",
       "      <td>2185.199951</td>\n",
       "      <td>2147.850098</td>\n",
       "      <td>2164.250000</td>\n",
       "      <td>2164.250000</td>\n",
       "      <td>5841743</td>\n",
       "    </tr>\n",
       "    <tr>\n",
       "      <th>248</th>\n",
       "      <td>18-08-2021</td>\n",
       "      <td>2174.000000</td>\n",
       "      <td>2186.800049</td>\n",
       "      <td>2152.600098</td>\n",
       "      <td>2172.649902</td>\n",
       "      <td>2172.649902</td>\n",
       "      <td>4650008</td>\n",
       "    </tr>\n",
       "  </tbody>\n",
       "</table>\n",
       "<p>249 rows × 7 columns</p>\n",
       "</div>"
      ],
      "text/plain": [
       "           Date         Open         High          Low        Close  \\\n",
       "0    19-08-2020  2141.000000  2154.000000  2121.350098  2131.550049   \n",
       "1    20-08-2020  2120.000000  2123.899902  2088.000000  2097.050049   \n",
       "2    21-08-2020  2118.000000  2122.000000  2077.000000  2081.850098   \n",
       "3    24-08-2020  2091.399902  2104.500000  2070.500000  2095.750000   \n",
       "4    25-08-2020  2106.000000  2111.300049  2078.000000  2082.100098   \n",
       "..          ...          ...          ...          ...          ...   \n",
       "244  12-08-2021  2124.899902  2126.199951  2105.000000  2110.500000   \n",
       "245  13-08-2021  2117.300049  2149.899902  2108.949951  2145.649902   \n",
       "246  16-08-2021  2149.350098  2203.000000  2128.149902  2173.500000   \n",
       "247  17-08-2021  2168.850098  2185.199951  2147.850098  2164.250000   \n",
       "248  18-08-2021  2174.000000  2186.800049  2152.600098  2172.649902   \n",
       "\n",
       "       Adj Close    Volume  \n",
       "0    2124.715088  15731396  \n",
       "1    2090.325684  10401212  \n",
       "2    2075.174316  11667129  \n",
       "3    2089.029785  15098991  \n",
       "4    2075.423584   8947563  \n",
       "..           ...       ...  \n",
       "244  2110.500000   3755507  \n",
       "245  2145.649902   5898384  \n",
       "246  2173.500000  10123204  \n",
       "247  2164.250000   5841743  \n",
       "248  2172.649902   4650008  \n",
       "\n",
       "[249 rows x 7 columns]"
      ]
     },
     "execution_count": 13,
     "metadata": {},
     "output_type": "execute_result"
    }
   ],
   "source": [
    "bs"
   ]
  },
  {
   "cell_type": "code",
   "execution_count": 14,
   "id": "28faba20",
   "metadata": {},
   "outputs": [],
   "source": [
    "bs = bs.drop(['Date'], axis=1)"
   ]
  },
  {
   "cell_type": "code",
   "execution_count": 15,
   "id": "db0a0622",
   "metadata": {},
   "outputs": [
    {
     "data": {
      "text/html": [
       "<div>\n",
       "<style scoped>\n",
       "    .dataframe tbody tr th:only-of-type {\n",
       "        vertical-align: middle;\n",
       "    }\n",
       "\n",
       "    .dataframe tbody tr th {\n",
       "        vertical-align: top;\n",
       "    }\n",
       "\n",
       "    .dataframe thead th {\n",
       "        text-align: right;\n",
       "    }\n",
       "</style>\n",
       "<table border=\"1\" class=\"dataframe\">\n",
       "  <thead>\n",
       "    <tr style=\"text-align: right;\">\n",
       "      <th></th>\n",
       "      <th>Open</th>\n",
       "      <th>High</th>\n",
       "      <th>Low</th>\n",
       "      <th>Close</th>\n",
       "      <th>Adj Close</th>\n",
       "      <th>Volume</th>\n",
       "    </tr>\n",
       "  </thead>\n",
       "  <tbody>\n",
       "    <tr>\n",
       "      <th>0</th>\n",
       "      <td>2141.000000</td>\n",
       "      <td>2154.000000</td>\n",
       "      <td>2121.350098</td>\n",
       "      <td>2131.550049</td>\n",
       "      <td>2124.715088</td>\n",
       "      <td>15731396</td>\n",
       "    </tr>\n",
       "    <tr>\n",
       "      <th>1</th>\n",
       "      <td>2120.000000</td>\n",
       "      <td>2123.899902</td>\n",
       "      <td>2088.000000</td>\n",
       "      <td>2097.050049</td>\n",
       "      <td>2090.325684</td>\n",
       "      <td>10401212</td>\n",
       "    </tr>\n",
       "    <tr>\n",
       "      <th>2</th>\n",
       "      <td>2118.000000</td>\n",
       "      <td>2122.000000</td>\n",
       "      <td>2077.000000</td>\n",
       "      <td>2081.850098</td>\n",
       "      <td>2075.174316</td>\n",
       "      <td>11667129</td>\n",
       "    </tr>\n",
       "    <tr>\n",
       "      <th>3</th>\n",
       "      <td>2091.399902</td>\n",
       "      <td>2104.500000</td>\n",
       "      <td>2070.500000</td>\n",
       "      <td>2095.750000</td>\n",
       "      <td>2089.029785</td>\n",
       "      <td>15098991</td>\n",
       "    </tr>\n",
       "    <tr>\n",
       "      <th>4</th>\n",
       "      <td>2106.000000</td>\n",
       "      <td>2111.300049</td>\n",
       "      <td>2078.000000</td>\n",
       "      <td>2082.100098</td>\n",
       "      <td>2075.423584</td>\n",
       "      <td>8947563</td>\n",
       "    </tr>\n",
       "    <tr>\n",
       "      <th>...</th>\n",
       "      <td>...</td>\n",
       "      <td>...</td>\n",
       "      <td>...</td>\n",
       "      <td>...</td>\n",
       "      <td>...</td>\n",
       "      <td>...</td>\n",
       "    </tr>\n",
       "    <tr>\n",
       "      <th>244</th>\n",
       "      <td>2124.899902</td>\n",
       "      <td>2126.199951</td>\n",
       "      <td>2105.000000</td>\n",
       "      <td>2110.500000</td>\n",
       "      <td>2110.500000</td>\n",
       "      <td>3755507</td>\n",
       "    </tr>\n",
       "    <tr>\n",
       "      <th>245</th>\n",
       "      <td>2117.300049</td>\n",
       "      <td>2149.899902</td>\n",
       "      <td>2108.949951</td>\n",
       "      <td>2145.649902</td>\n",
       "      <td>2145.649902</td>\n",
       "      <td>5898384</td>\n",
       "    </tr>\n",
       "    <tr>\n",
       "      <th>246</th>\n",
       "      <td>2149.350098</td>\n",
       "      <td>2203.000000</td>\n",
       "      <td>2128.149902</td>\n",
       "      <td>2173.500000</td>\n",
       "      <td>2173.500000</td>\n",
       "      <td>10123204</td>\n",
       "    </tr>\n",
       "    <tr>\n",
       "      <th>247</th>\n",
       "      <td>2168.850098</td>\n",
       "      <td>2185.199951</td>\n",
       "      <td>2147.850098</td>\n",
       "      <td>2164.250000</td>\n",
       "      <td>2164.250000</td>\n",
       "      <td>5841743</td>\n",
       "    </tr>\n",
       "    <tr>\n",
       "      <th>248</th>\n",
       "      <td>2174.000000</td>\n",
       "      <td>2186.800049</td>\n",
       "      <td>2152.600098</td>\n",
       "      <td>2172.649902</td>\n",
       "      <td>2172.649902</td>\n",
       "      <td>4650008</td>\n",
       "    </tr>\n",
       "  </tbody>\n",
       "</table>\n",
       "<p>249 rows × 6 columns</p>\n",
       "</div>"
      ],
      "text/plain": [
       "            Open         High          Low        Close    Adj Close    Volume\n",
       "0    2141.000000  2154.000000  2121.350098  2131.550049  2124.715088  15731396\n",
       "1    2120.000000  2123.899902  2088.000000  2097.050049  2090.325684  10401212\n",
       "2    2118.000000  2122.000000  2077.000000  2081.850098  2075.174316  11667129\n",
       "3    2091.399902  2104.500000  2070.500000  2095.750000  2089.029785  15098991\n",
       "4    2106.000000  2111.300049  2078.000000  2082.100098  2075.423584   8947563\n",
       "..           ...          ...          ...          ...          ...       ...\n",
       "244  2124.899902  2126.199951  2105.000000  2110.500000  2110.500000   3755507\n",
       "245  2117.300049  2149.899902  2108.949951  2145.649902  2145.649902   5898384\n",
       "246  2149.350098  2203.000000  2128.149902  2173.500000  2173.500000  10123204\n",
       "247  2168.850098  2185.199951  2147.850098  2164.250000  2164.250000   5841743\n",
       "248  2174.000000  2186.800049  2152.600098  2172.649902  2172.649902   4650008\n",
       "\n",
       "[249 rows x 6 columns]"
      ]
     },
     "execution_count": 15,
     "metadata": {},
     "output_type": "execute_result"
    }
   ],
   "source": [
    "bs"
   ]
  },
  {
   "cell_type": "code",
   "execution_count": 16,
   "id": "9303e7f6",
   "metadata": {},
   "outputs": [],
   "source": [
    "x=bs.drop(\"Volume\", axis=1)\n",
    "y=bs[\"Volume\"]"
   ]
  },
  {
   "cell_type": "code",
   "execution_count": 17,
   "id": "b1751dc9",
   "metadata": {},
   "outputs": [
    {
     "data": {
      "text/html": [
       "<div>\n",
       "<style scoped>\n",
       "    .dataframe tbody tr th:only-of-type {\n",
       "        vertical-align: middle;\n",
       "    }\n",
       "\n",
       "    .dataframe tbody tr th {\n",
       "        vertical-align: top;\n",
       "    }\n",
       "\n",
       "    .dataframe thead th {\n",
       "        text-align: right;\n",
       "    }\n",
       "</style>\n",
       "<table border=\"1\" class=\"dataframe\">\n",
       "  <thead>\n",
       "    <tr style=\"text-align: right;\">\n",
       "      <th></th>\n",
       "      <th>Open</th>\n",
       "      <th>High</th>\n",
       "      <th>Low</th>\n",
       "      <th>Close</th>\n",
       "      <th>Adj Close</th>\n",
       "    </tr>\n",
       "  </thead>\n",
       "  <tbody>\n",
       "    <tr>\n",
       "      <th>0</th>\n",
       "      <td>2141.000000</td>\n",
       "      <td>2154.000000</td>\n",
       "      <td>2121.350098</td>\n",
       "      <td>2131.550049</td>\n",
       "      <td>2124.715088</td>\n",
       "    </tr>\n",
       "    <tr>\n",
       "      <th>1</th>\n",
       "      <td>2120.000000</td>\n",
       "      <td>2123.899902</td>\n",
       "      <td>2088.000000</td>\n",
       "      <td>2097.050049</td>\n",
       "      <td>2090.325684</td>\n",
       "    </tr>\n",
       "    <tr>\n",
       "      <th>2</th>\n",
       "      <td>2118.000000</td>\n",
       "      <td>2122.000000</td>\n",
       "      <td>2077.000000</td>\n",
       "      <td>2081.850098</td>\n",
       "      <td>2075.174316</td>\n",
       "    </tr>\n",
       "    <tr>\n",
       "      <th>3</th>\n",
       "      <td>2091.399902</td>\n",
       "      <td>2104.500000</td>\n",
       "      <td>2070.500000</td>\n",
       "      <td>2095.750000</td>\n",
       "      <td>2089.029785</td>\n",
       "    </tr>\n",
       "    <tr>\n",
       "      <th>4</th>\n",
       "      <td>2106.000000</td>\n",
       "      <td>2111.300049</td>\n",
       "      <td>2078.000000</td>\n",
       "      <td>2082.100098</td>\n",
       "      <td>2075.423584</td>\n",
       "    </tr>\n",
       "    <tr>\n",
       "      <th>...</th>\n",
       "      <td>...</td>\n",
       "      <td>...</td>\n",
       "      <td>...</td>\n",
       "      <td>...</td>\n",
       "      <td>...</td>\n",
       "    </tr>\n",
       "    <tr>\n",
       "      <th>244</th>\n",
       "      <td>2124.899902</td>\n",
       "      <td>2126.199951</td>\n",
       "      <td>2105.000000</td>\n",
       "      <td>2110.500000</td>\n",
       "      <td>2110.500000</td>\n",
       "    </tr>\n",
       "    <tr>\n",
       "      <th>245</th>\n",
       "      <td>2117.300049</td>\n",
       "      <td>2149.899902</td>\n",
       "      <td>2108.949951</td>\n",
       "      <td>2145.649902</td>\n",
       "      <td>2145.649902</td>\n",
       "    </tr>\n",
       "    <tr>\n",
       "      <th>246</th>\n",
       "      <td>2149.350098</td>\n",
       "      <td>2203.000000</td>\n",
       "      <td>2128.149902</td>\n",
       "      <td>2173.500000</td>\n",
       "      <td>2173.500000</td>\n",
       "    </tr>\n",
       "    <tr>\n",
       "      <th>247</th>\n",
       "      <td>2168.850098</td>\n",
       "      <td>2185.199951</td>\n",
       "      <td>2147.850098</td>\n",
       "      <td>2164.250000</td>\n",
       "      <td>2164.250000</td>\n",
       "    </tr>\n",
       "    <tr>\n",
       "      <th>248</th>\n",
       "      <td>2174.000000</td>\n",
       "      <td>2186.800049</td>\n",
       "      <td>2152.600098</td>\n",
       "      <td>2172.649902</td>\n",
       "      <td>2172.649902</td>\n",
       "    </tr>\n",
       "  </tbody>\n",
       "</table>\n",
       "<p>249 rows × 5 columns</p>\n",
       "</div>"
      ],
      "text/plain": [
       "            Open         High          Low        Close    Adj Close\n",
       "0    2141.000000  2154.000000  2121.350098  2131.550049  2124.715088\n",
       "1    2120.000000  2123.899902  2088.000000  2097.050049  2090.325684\n",
       "2    2118.000000  2122.000000  2077.000000  2081.850098  2075.174316\n",
       "3    2091.399902  2104.500000  2070.500000  2095.750000  2089.029785\n",
       "4    2106.000000  2111.300049  2078.000000  2082.100098  2075.423584\n",
       "..           ...          ...          ...          ...          ...\n",
       "244  2124.899902  2126.199951  2105.000000  2110.500000  2110.500000\n",
       "245  2117.300049  2149.899902  2108.949951  2145.649902  2145.649902\n",
       "246  2149.350098  2203.000000  2128.149902  2173.500000  2173.500000\n",
       "247  2168.850098  2185.199951  2147.850098  2164.250000  2164.250000\n",
       "248  2174.000000  2186.800049  2152.600098  2172.649902  2172.649902\n",
       "\n",
       "[249 rows x 5 columns]"
      ]
     },
     "execution_count": 17,
     "metadata": {},
     "output_type": "execute_result"
    }
   ],
   "source": [
    "x"
   ]
  },
  {
   "cell_type": "code",
   "execution_count": 18,
   "id": "e0468f9b",
   "metadata": {},
   "outputs": [
    {
     "data": {
      "text/plain": [
       "0      15731396\n",
       "1      10401212\n",
       "2      11667129\n",
       "3      15098991\n",
       "4       8947563\n",
       "         ...   \n",
       "244     3755507\n",
       "245     5898384\n",
       "246    10123204\n",
       "247     5841743\n",
       "248     4650008\n",
       "Name: Volume, Length: 249, dtype: int64"
      ]
     },
     "execution_count": 18,
     "metadata": {},
     "output_type": "execute_result"
    }
   ],
   "source": [
    "y"
   ]
  },
  {
   "cell_type": "markdown",
   "id": "54a6c3cd",
   "metadata": {},
   "source": [
    "# train test splitting "
   ]
  },
  {
   "cell_type": "code",
   "execution_count": 19,
   "id": "aadb8150",
   "metadata": {},
   "outputs": [],
   "source": [
    "from sklearn.model_selection import train_test_split\n",
    "x_train, x_test, y_train, y_test = train_test_split(x, y, test_size=0.2, random_state=1)"
   ]
  },
  {
   "cell_type": "code",
   "execution_count": 20,
   "id": "9791a127",
   "metadata": {},
   "outputs": [
    {
     "data": {
      "text/html": [
       "<div>\n",
       "<style scoped>\n",
       "    .dataframe tbody tr th:only-of-type {\n",
       "        vertical-align: middle;\n",
       "    }\n",
       "\n",
       "    .dataframe tbody tr th {\n",
       "        vertical-align: top;\n",
       "    }\n",
       "\n",
       "    .dataframe thead th {\n",
       "        text-align: right;\n",
       "    }\n",
       "</style>\n",
       "<table border=\"1\" class=\"dataframe\">\n",
       "  <thead>\n",
       "    <tr style=\"text-align: right;\">\n",
       "      <th></th>\n",
       "      <th>Open</th>\n",
       "      <th>High</th>\n",
       "      <th>Low</th>\n",
       "      <th>Close</th>\n",
       "      <th>Adj Close</th>\n",
       "    </tr>\n",
       "  </thead>\n",
       "  <tbody>\n",
       "    <tr>\n",
       "      <th>227</th>\n",
       "      <td>2100.000000</td>\n",
       "      <td>2124.000000</td>\n",
       "      <td>2092.250000</td>\n",
       "      <td>2098.949951</td>\n",
       "      <td>2098.949951</td>\n",
       "    </tr>\n",
       "    <tr>\n",
       "      <th>85</th>\n",
       "      <td>2010.000000</td>\n",
       "      <td>2022.000000</td>\n",
       "      <td>1855.250000</td>\n",
       "      <td>1939.699951</td>\n",
       "      <td>1933.480103</td>\n",
       "    </tr>\n",
       "    <tr>\n",
       "      <th>112</th>\n",
       "      <td>1894.300049</td>\n",
       "      <td>1913.099976</td>\n",
       "      <td>1830.000000</td>\n",
       "      <td>1841.949951</td>\n",
       "      <td>1836.043579</td>\n",
       "    </tr>\n",
       "    <tr>\n",
       "      <th>148</th>\n",
       "      <td>2061.949951</td>\n",
       "      <td>2109.699951</td>\n",
       "      <td>2056.000000</td>\n",
       "      <td>2087.500000</td>\n",
       "      <td>2080.806152</td>\n",
       "    </tr>\n",
       "    <tr>\n",
       "      <th>171</th>\n",
       "      <td>2022.900024</td>\n",
       "      <td>2044.500000</td>\n",
       "      <td>2007.300049</td>\n",
       "      <td>2024.050049</td>\n",
       "      <td>2017.559692</td>\n",
       "    </tr>\n",
       "    <tr>\n",
       "      <th>...</th>\n",
       "      <td>...</td>\n",
       "      <td>...</td>\n",
       "      <td>...</td>\n",
       "      <td>...</td>\n",
       "      <td>...</td>\n",
       "    </tr>\n",
       "    <tr>\n",
       "      <th>137</th>\n",
       "      <td>2156.000000</td>\n",
       "      <td>2211.949951</td>\n",
       "      <td>2153.050049</td>\n",
       "      <td>2178.699951</td>\n",
       "      <td>2171.713623</td>\n",
       "    </tr>\n",
       "    <tr>\n",
       "      <th>72</th>\n",
       "      <td>1958.500000</td>\n",
       "      <td>1962.000000</td>\n",
       "      <td>1935.000000</td>\n",
       "      <td>1958.150024</td>\n",
       "      <td>1951.870972</td>\n",
       "    </tr>\n",
       "    <tr>\n",
       "      <th>140</th>\n",
       "      <td>2207.000000</td>\n",
       "      <td>2215.100098</td>\n",
       "      <td>2170.250000</td>\n",
       "      <td>2181.949951</td>\n",
       "      <td>2174.953369</td>\n",
       "    </tr>\n",
       "    <tr>\n",
       "      <th>235</th>\n",
       "      <td>2058.000000</td>\n",
       "      <td>2067.949951</td>\n",
       "      <td>2031.099976</td>\n",
       "      <td>2035.300049</td>\n",
       "      <td>2035.300049</td>\n",
       "    </tr>\n",
       "    <tr>\n",
       "      <th>37</th>\n",
       "      <td>2235.000000</td>\n",
       "      <td>2255.750000</td>\n",
       "      <td>2226.250000</td>\n",
       "      <td>2237.050049</td>\n",
       "      <td>2229.876709</td>\n",
       "    </tr>\n",
       "  </tbody>\n",
       "</table>\n",
       "<p>199 rows × 5 columns</p>\n",
       "</div>"
      ],
      "text/plain": [
       "            Open         High          Low        Close    Adj Close\n",
       "227  2100.000000  2124.000000  2092.250000  2098.949951  2098.949951\n",
       "85   2010.000000  2022.000000  1855.250000  1939.699951  1933.480103\n",
       "112  1894.300049  1913.099976  1830.000000  1841.949951  1836.043579\n",
       "148  2061.949951  2109.699951  2056.000000  2087.500000  2080.806152\n",
       "171  2022.900024  2044.500000  2007.300049  2024.050049  2017.559692\n",
       "..           ...          ...          ...          ...          ...\n",
       "137  2156.000000  2211.949951  2153.050049  2178.699951  2171.713623\n",
       "72   1958.500000  1962.000000  1935.000000  1958.150024  1951.870972\n",
       "140  2207.000000  2215.100098  2170.250000  2181.949951  2174.953369\n",
       "235  2058.000000  2067.949951  2031.099976  2035.300049  2035.300049\n",
       "37   2235.000000  2255.750000  2226.250000  2237.050049  2229.876709\n",
       "\n",
       "[199 rows x 5 columns]"
      ]
     },
     "execution_count": 20,
     "metadata": {},
     "output_type": "execute_result"
    }
   ],
   "source": [
    "x_train"
   ]
  },
  {
   "cell_type": "code",
   "execution_count": 21,
   "id": "99ada46a",
   "metadata": {},
   "outputs": [
    {
     "data": {
      "text/plain": [
       "67     14277083\n",
       "248     4650008\n",
       "211    25546334\n",
       "161     8958261\n",
       "91     10173132\n",
       "223     3099956\n",
       "58     17045147\n",
       "233     5952355\n",
       "180     6081627\n",
       "4       8947563\n",
       "241     3458546\n",
       "188     6821015\n",
       "116    11826848\n",
       "182     5479424\n",
       "127    10800704\n",
       "78      7414229\n",
       "184     7530294\n",
       "51     15700946\n",
       "27     13095028\n",
       "73     12822945\n",
       "224     3937768\n",
       "34     24538346\n",
       "95     11132803\n",
       "186     4977555\n",
       "120     9799560\n",
       "119     9047308\n",
       "245     5898384\n",
       "238     6077861\n",
       "38     10666190\n",
       "221     4170886\n",
       "225     4360415\n",
       "44     15728986\n",
       "62     21479385\n",
       "208     5940386\n",
       "160     9646031\n",
       "228     3111185\n",
       "39     12341434\n",
       "31      9591456\n",
       "18     20335273\n",
       "247     5841743\n",
       "205     7266765\n",
       "19     12542824\n",
       "93      4622002\n",
       "102     9946818\n",
       "33      8497216\n",
       "110    19553809\n",
       "35      9727405\n",
       "11      8577634\n",
       "29     11926328\n",
       "0      15731396\n",
       "Name: Volume, dtype: int64"
      ]
     },
     "execution_count": 21,
     "metadata": {},
     "output_type": "execute_result"
    }
   ],
   "source": [
    "y_test"
   ]
  },
  {
   "cell_type": "markdown",
   "id": "565f62b6",
   "metadata": {},
   "source": [
    "# regression "
   ]
  },
  {
   "cell_type": "code",
   "execution_count": 22,
   "id": "9dafeb54",
   "metadata": {},
   "outputs": [],
   "source": [
    "from sklearn import datasets, linear_model, metrics"
   ]
  },
  {
   "cell_type": "markdown",
   "id": "c71cf18c",
   "metadata": {},
   "source": [
    "# linear regression "
   ]
  },
  {
   "cell_type": "code",
   "execution_count": 23,
   "id": "25aa5faa",
   "metadata": {},
   "outputs": [],
   "source": [
    "linearreg= linear_model.LinearRegression()"
   ]
  },
  {
   "cell_type": "code",
   "execution_count": 24,
   "id": "621ce880",
   "metadata": {},
   "outputs": [
    {
     "data": {
      "text/html": [
       "<style>#sk-container-id-1 {color: black;background-color: white;}#sk-container-id-1 pre{padding: 0;}#sk-container-id-1 div.sk-toggleable {background-color: white;}#sk-container-id-1 label.sk-toggleable__label {cursor: pointer;display: block;width: 100%;margin-bottom: 0;padding: 0.3em;box-sizing: border-box;text-align: center;}#sk-container-id-1 label.sk-toggleable__label-arrow:before {content: \"▸\";float: left;margin-right: 0.25em;color: #696969;}#sk-container-id-1 label.sk-toggleable__label-arrow:hover:before {color: black;}#sk-container-id-1 div.sk-estimator:hover label.sk-toggleable__label-arrow:before {color: black;}#sk-container-id-1 div.sk-toggleable__content {max-height: 0;max-width: 0;overflow: hidden;text-align: left;background-color: #f0f8ff;}#sk-container-id-1 div.sk-toggleable__content pre {margin: 0.2em;color: black;border-radius: 0.25em;background-color: #f0f8ff;}#sk-container-id-1 input.sk-toggleable__control:checked~div.sk-toggleable__content {max-height: 200px;max-width: 100%;overflow: auto;}#sk-container-id-1 input.sk-toggleable__control:checked~label.sk-toggleable__label-arrow:before {content: \"▾\";}#sk-container-id-1 div.sk-estimator input.sk-toggleable__control:checked~label.sk-toggleable__label {background-color: #d4ebff;}#sk-container-id-1 div.sk-label input.sk-toggleable__control:checked~label.sk-toggleable__label {background-color: #d4ebff;}#sk-container-id-1 input.sk-hidden--visually {border: 0;clip: rect(1px 1px 1px 1px);clip: rect(1px, 1px, 1px, 1px);height: 1px;margin: -1px;overflow: hidden;padding: 0;position: absolute;width: 1px;}#sk-container-id-1 div.sk-estimator {font-family: monospace;background-color: #f0f8ff;border: 1px dotted black;border-radius: 0.25em;box-sizing: border-box;margin-bottom: 0.5em;}#sk-container-id-1 div.sk-estimator:hover {background-color: #d4ebff;}#sk-container-id-1 div.sk-parallel-item::after {content: \"\";width: 100%;border-bottom: 1px solid gray;flex-grow: 1;}#sk-container-id-1 div.sk-label:hover label.sk-toggleable__label {background-color: #d4ebff;}#sk-container-id-1 div.sk-serial::before {content: \"\";position: absolute;border-left: 1px solid gray;box-sizing: border-box;top: 0;bottom: 0;left: 50%;z-index: 0;}#sk-container-id-1 div.sk-serial {display: flex;flex-direction: column;align-items: center;background-color: white;padding-right: 0.2em;padding-left: 0.2em;position: relative;}#sk-container-id-1 div.sk-item {position: relative;z-index: 1;}#sk-container-id-1 div.sk-parallel {display: flex;align-items: stretch;justify-content: center;background-color: white;position: relative;}#sk-container-id-1 div.sk-item::before, #sk-container-id-1 div.sk-parallel-item::before {content: \"\";position: absolute;border-left: 1px solid gray;box-sizing: border-box;top: 0;bottom: 0;left: 50%;z-index: -1;}#sk-container-id-1 div.sk-parallel-item {display: flex;flex-direction: column;z-index: 1;position: relative;background-color: white;}#sk-container-id-1 div.sk-parallel-item:first-child::after {align-self: flex-end;width: 50%;}#sk-container-id-1 div.sk-parallel-item:last-child::after {align-self: flex-start;width: 50%;}#sk-container-id-1 div.sk-parallel-item:only-child::after {width: 0;}#sk-container-id-1 div.sk-dashed-wrapped {border: 1px dashed gray;margin: 0 0.4em 0.5em 0.4em;box-sizing: border-box;padding-bottom: 0.4em;background-color: white;}#sk-container-id-1 div.sk-label label {font-family: monospace;font-weight: bold;display: inline-block;line-height: 1.2em;}#sk-container-id-1 div.sk-label-container {text-align: center;}#sk-container-id-1 div.sk-container {/* jupyter's `normalize.less` sets `[hidden] { display: none; }` but bootstrap.min.css set `[hidden] { display: none !important; }` so we also need the `!important` here to be able to override the default hidden behavior on the sphinx rendered scikit-learn.org. See: https://github.com/scikit-learn/scikit-learn/issues/21755 */display: inline-block !important;position: relative;}#sk-container-id-1 div.sk-text-repr-fallback {display: none;}</style><div id=\"sk-container-id-1\" class=\"sk-top-container\"><div class=\"sk-text-repr-fallback\"><pre>LinearRegression()</pre><b>In a Jupyter environment, please rerun this cell to show the HTML representation or trust the notebook. <br />On GitHub, the HTML representation is unable to render, please try loading this page with nbviewer.org.</b></div><div class=\"sk-container\" hidden><div class=\"sk-item\"><div class=\"sk-estimator sk-toggleable\"><input class=\"sk-toggleable__control sk-hidden--visually\" id=\"sk-estimator-id-1\" type=\"checkbox\" checked><label for=\"sk-estimator-id-1\" class=\"sk-toggleable__label sk-toggleable__label-arrow\">LinearRegression</label><div class=\"sk-toggleable__content\"><pre>LinearRegression()</pre></div></div></div></div></div>"
      ],
      "text/plain": [
       "LinearRegression()"
      ]
     },
     "execution_count": 24,
     "metadata": {},
     "output_type": "execute_result"
    }
   ],
   "source": [
    "linearreg.fit(x_train, y_train)"
   ]
  },
  {
   "cell_type": "code",
   "execution_count": 25,
   "id": "80e33db8",
   "metadata": {},
   "outputs": [
    {
     "name": "stdout",
     "output_type": "stream",
     "text": [
      "Coefficients:  [ -68348.69017993  263130.07218415 -176282.47454168  270019.88597343\n",
      " -297063.5727857 ]\n"
     ]
    }
   ],
   "source": [
    "print('Coefficients: ', linearreg.coef_)"
   ]
  },
  {
   "cell_type": "code",
   "execution_count": 26,
   "id": "2d4e7638",
   "metadata": {},
   "outputs": [],
   "source": [
    "y_pred=linearreg.predict(x_test)"
   ]
  },
  {
   "cell_type": "code",
   "execution_count": 27,
   "id": "2e0504e5",
   "metadata": {},
   "outputs": [],
   "source": [
    "from sklearn.metrics import mean_squared_error"
   ]
  },
  {
   "cell_type": "code",
   "execution_count": 28,
   "id": "c9d7d126",
   "metadata": {},
   "outputs": [
    {
     "data": {
      "text/plain": [
       "array([10397474.71691699,  5638203.12234669, 12725682.01911564,\n",
       "        7678717.15223708,  8499803.54274181,  2010740.64755983,\n",
       "       10803130.36243071,  7370626.49643409,  7634960.0524663 ,\n",
       "        8002433.12405241,  4231624.73151041,  9322527.4857421 ,\n",
       "        9981754.85742318,  9824940.05483562, 14081724.84995714,\n",
       "        7517069.13879038, 12561453.42163554, 11428301.13500914,\n",
       "       10174676.53503146,  7020970.21554811,  4555945.72441065,\n",
       "       21597781.32645755,  8297514.91415902,  7327361.58569814,\n",
       "       14487772.94645945, 11269975.88151791,  8228967.63394643,\n",
       "        5350338.3871618 , 14144100.19038568,  4484509.57618014,\n",
       "        2386984.38448882, 20408931.67358518, 21229889.20529232,\n",
       "        6491668.77497287, 14400960.39861093,  4220903.71823403,\n",
       "        7949194.3872995 ,  9634972.24498466, 16761062.46576429,\n",
       "        6633664.34937482, 10568638.22702063,  7131398.26988527,\n",
       "        5383138.65049882,  8675085.46111491,  6968029.09255248,\n",
       "        9727716.30696924,  9275010.47170888,  8531871.90239506,\n",
       "       11426272.70678241,  7913767.45377144])"
      ]
     },
     "execution_count": 28,
     "metadata": {},
     "output_type": "execute_result"
    }
   ],
   "source": [
    "y_pred"
   ]
  },
  {
   "cell_type": "code",
   "execution_count": 29,
   "id": "ccb5da1c",
   "metadata": {},
   "outputs": [
    {
     "data": {
      "text/plain": [
       "14183754428074.287"
      ]
     },
     "execution_count": 29,
     "metadata": {},
     "output_type": "execute_result"
    }
   ],
   "source": [
    "#linear regression\n",
    "mean_squared_error(y_pred,y_test)"
   ]
  },
  {
   "cell_type": "code",
   "execution_count": 30,
   "id": "0532eccc",
   "metadata": {},
   "outputs": [
    {
     "name": "stdout",
     "output_type": "stream",
     "text": [
      "score: 0.5164183451369055\n"
     ]
    }
   ],
   "source": [
    "print('score: {}'.format(linearreg.score(x_test, y_test)))"
   ]
  },
  {
   "cell_type": "code",
   "execution_count": 31,
   "id": "0dd7a213",
   "metadata": {},
   "outputs": [
    {
     "data": {
      "text/plain": [
       "<matplotlib.collections.PathCollection at 0x179ec8dea60>"
      ]
     },
     "execution_count": 31,
     "metadata": {},
     "output_type": "execute_result"
    },
    {
     "data": {
      "image/png": "[encoded data removed]",
      "text/plain": [
       "<Figure size 432x288 with 1 Axes>"
      ]
     },
     "metadata": {},
     "output_type": "display_data"
    }
   ],
   "source": [
    "plt.style.use('fivethirtyeight')\n",
    "plt.scatter(linearreg.predict(x_train), linearreg.predict(x_train) - y_train, color = \"green\", s = 10)"
   ]
  },
  {
   "cell_type": "code",
   "execution_count": 32,
   "id": "e17c8e3f",
   "metadata": {},
   "outputs": [
    {
     "data": {
      "text/plain": [
       "<matplotlib.collections.PathCollection at 0x179ec9db700>"
      ]
     },
     "execution_count": 32,
     "metadata": {},
     "output_type": "execute_result"
    },
    {
     "data": {
      "image/png": "[encoded data removed]",
      "text/plain": [
       "<Figure size 432x288 with 1 Axes>"
      ]
     },
     "metadata": {},
     "output_type": "display_data"
    }
   ],
   "source": [
    "plt.scatter(linearreg.predict(x_test), linearreg.predict(x_test) - y_test,color = \"red\", s = 10)"
   ]
  },
  {
   "cell_type": "markdown",
   "id": "43bfb881",
   "metadata": {},
   "source": [
    "# random forest regression "
   ]
  },
  {
   "cell_type": "code",
   "execution_count": 33,
   "id": "92b7fcac",
   "metadata": {},
   "outputs": [],
   "source": [
    "from sklearn.ensemble import RandomForestRegressor"
   ]
  },
  {
   "cell_type": "code",
   "execution_count": 34,
   "id": "6ed51bf5",
   "metadata": {},
   "outputs": [],
   "source": [
    "randomregressor = RandomForestRegressor()"
   ]
  },
  {
   "cell_type": "code",
   "execution_count": 35,
   "id": "f3abf3e8",
   "metadata": {},
   "outputs": [
    {
     "data": {
      "text/html": [
       "<style>#sk-container-id-2 {color: black;background-color: white;}#sk-container-id-2 pre{padding: 0;}#sk-container-id-2 div.sk-toggleable {background-color: white;}#sk-container-id-2 label.sk-toggleable__label {cursor: pointer;display: block;width: 100%;margin-bottom: 0;padding: 0.3em;box-sizing: border-box;text-align: center;}#sk-container-id-2 label.sk-toggleable__label-arrow:before {content: \"▸\";float: left;margin-right: 0.25em;color: #696969;}#sk-container-id-2 label.sk-toggleable__label-arrow:hover:before {color: black;}#sk-container-id-2 div.sk-estimator:hover label.sk-toggleable__label-arrow:before {color: black;}#sk-container-id-2 div.sk-toggleable__content {max-height: 0;max-width: 0;overflow: hidden;text-align: left;background-color: #f0f8ff;}#sk-container-id-2 div.sk-toggleable__content pre {margin: 0.2em;color: black;border-radius: 0.25em;background-color: #f0f8ff;}#sk-container-id-2 input.sk-toggleable__control:checked~div.sk-toggleable__content {max-height: 200px;max-width: 100%;overflow: auto;}#sk-container-id-2 input.sk-toggleable__control:checked~label.sk-toggleable__label-arrow:before {content: \"▾\";}#sk-container-id-2 div.sk-estimator input.sk-toggleable__control:checked~label.sk-toggleable__label {background-color: #d4ebff;}#sk-container-id-2 div.sk-label input.sk-toggleable__control:checked~label.sk-toggleable__label {background-color: #d4ebff;}#sk-container-id-2 input.sk-hidden--visually {border: 0;clip: rect(1px 1px 1px 1px);clip: rect(1px, 1px, 1px, 1px);height: 1px;margin: -1px;overflow: hidden;padding: 0;position: absolute;width: 1px;}#sk-container-id-2 div.sk-estimator {font-family: monospace;background-color: #f0f8ff;border: 1px dotted black;border-radius: 0.25em;box-sizing: border-box;margin-bottom: 0.5em;}#sk-container-id-2 div.sk-estimator:hover {background-color: #d4ebff;}#sk-container-id-2 div.sk-parallel-item::after {content: \"\";width: 100%;border-bottom: 1px solid gray;flex-grow: 1;}#sk-container-id-2 div.sk-label:hover label.sk-toggleable__label {background-color: #d4ebff;}#sk-container-id-2 div.sk-serial::before {content: \"\";position: absolute;border-left: 1px solid gray;box-sizing: border-box;top: 0;bottom: 0;left: 50%;z-index: 0;}#sk-container-id-2 div.sk-serial {display: flex;flex-direction: column;align-items: center;background-color: white;padding-right: 0.2em;padding-left: 0.2em;position: relative;}#sk-container-id-2 div.sk-item {position: relative;z-index: 1;}#sk-container-id-2 div.sk-parallel {display: flex;align-items: stretch;justify-content: center;background-color: white;position: relative;}#sk-container-id-2 div.sk-item::before, #sk-container-id-2 div.sk-parallel-item::before {content: \"\";position: absolute;border-left: 1px solid gray;box-sizing: border-box;top: 0;bottom: 0;left: 50%;z-index: -1;}#sk-container-id-2 div.sk-parallel-item {display: flex;flex-direction: column;z-index: 1;position: relative;background-color: white;}#sk-container-id-2 div.sk-parallel-item:first-child::after {align-self: flex-end;width: 50%;}#sk-container-id-2 div.sk-parallel-item:last-child::after {align-self: flex-start;width: 50%;}#sk-container-id-2 div.sk-parallel-item:only-child::after {width: 0;}#sk-container-id-2 div.sk-dashed-wrapped {border: 1px dashed gray;margin: 0 0.4em 0.5em 0.4em;box-sizing: border-box;padding-bottom: 0.4em;background-color: white;}#sk-container-id-2 div.sk-label label {font-family: monospace;font-weight: bold;display: inline-block;line-height: 1.2em;}#sk-container-id-2 div.sk-label-container {text-align: center;}#sk-container-id-2 div.sk-container {/* jupyter's `normalize.less` sets `[hidden] { display: none; }` but bootstrap.min.css set `[hidden] { display: none !important; }` so we also need the `!important` here to be able to override the default hidden behavior on the sphinx rendered scikit-learn.org. See: https://github.com/scikit-learn/scikit-learn/issues/21755 */display: inline-block !important;position: relative;}#sk-container-id-2 div.sk-text-repr-fallback {display: none;}</style><div id=\"sk-container-id-2\" class=\"sk-top-container\"><div class=\"sk-text-repr-fallback\"><pre>RandomForestRegressor()</pre><b>In a Jupyter environment, please rerun this cell to show the HTML representation or trust the notebook. <br />On GitHub, the HTML representation is unable to render, please try loading this page with nbviewer.org.</b></div><div class=\"sk-container\" hidden><div class=\"sk-item\"><div class=\"sk-estimator sk-toggleable\"><input class=\"sk-toggleable__control sk-hidden--visually\" id=\"sk-estimator-id-2\" type=\"checkbox\" checked><label for=\"sk-estimator-id-2\" class=\"sk-toggleable__label sk-toggleable__label-arrow\">RandomForestRegressor</label><div class=\"sk-toggleable__content\"><pre>RandomForestRegressor()</pre></div></div></div></div></div>"
      ],
      "text/plain": [
       "RandomForestRegressor()"
      ]
     },
     "execution_count": 35,
     "metadata": {},
     "output_type": "execute_result"
    }
   ],
   "source": [
    "randomregressor.fit(x_train, y_train) "
   ]
  },
  {
   "cell_type": "code",
   "execution_count": 36,
   "id": "f76598c5",
   "metadata": {},
   "outputs": [],
   "source": [
    "Y_pred = randomregressor.predict(x_test) "
   ]
  },
  {
   "cell_type": "code",
   "execution_count": 37,
   "id": "012c03a8",
   "metadata": {},
   "outputs": [
    {
     "data": {
      "text/plain": [
       "array([12687070.2 , 10177597.51, 11393848.25,  7846419.88, 10258670.36,\n",
       "        7595332.92,  8099236.77, 12061055.2 ,  7987056.33,  9782872.52,\n",
       "        7899896.41, 10964591.73,  9442352.77,  9975871.01,  9588039.13,\n",
       "        7712123.28, 14234155.7 , 10178987.73,  8467153.07, 10211804.96,\n",
       "        9333570.7 , 15104759.63, 10063408.71, 11623369.89, 13785216.96,\n",
       "       11524526.66, 11558828.26,  6904992.73, 14217357.43,  8582294.41,\n",
       "        9192713.91, 11392937.18, 12619395.45,  9617464.18, 17741905.37,\n",
       "        8430180.25, 17300990.58, 10876082.22, 32591751.67, 12324547.04,\n",
       "        8805100.26, 27142169.51,  8388445.42,  9983607.97,  7708940.97,\n",
       "       14349778.13, 11053903.73,  9673342.77,  9289744.11,  6845261.98])"
      ]
     },
     "execution_count": 37,
     "metadata": {},
     "output_type": "execute_result"
    }
   ],
   "source": [
    "Y_pred"
   ]
  },
  {
   "cell_type": "code",
   "execution_count": 38,
   "id": "b6a5f290",
   "metadata": {},
   "outputs": [
    {
     "data": {
      "text/plain": [
       "31750807480962.336"
      ]
     },
     "execution_count": 38,
     "metadata": {},
     "output_type": "execute_result"
    }
   ],
   "source": [
    "#random forest regression\n",
    "from sklearn.metrics import mean_squared_error\n",
    "mean_squared_error(y_test,Y_pred)"
   ]
  },
  {
   "cell_type": "code",
   "execution_count": 39,
   "id": "ccdc2128",
   "metadata": {},
   "outputs": [
    {
     "name": "stdout",
     "output_type": "stream",
     "text": [
      "score: -0.08251366750206035\n"
     ]
    }
   ],
   "source": [
    "print('score: {}'.format(randomregressor.score(x_test, y_test)))"
   ]
  },
  {
   "cell_type": "code",
   "execution_count": 40,
   "id": "53acf5af",
   "metadata": {},
   "outputs": [
    {
     "data": {
      "text/plain": [
       "<matplotlib.collections.PathCollection at 0x179ecce3a30>"
      ]
     },
     "execution_count": 40,
     "metadata": {},
     "output_type": "execute_result"
    },
    {
     "data": {
      "image/png": "[encoded data removed]",
      "text/plain": [
       "<Figure size 432x288 with 1 Axes>"
      ]
     },
     "metadata": {},
     "output_type": "display_data"
    }
   ],
   "source": [
    "plt.style.use('fivethirtyeight')\n",
    "plt.scatter(randomregressor.predict(x_train), randomregressor.predict(x_train) - y_train, color = \"green\", s = 10)"
   ]
  },
  {
   "cell_type": "code",
   "execution_count": 41,
   "id": "cd215722",
   "metadata": {},
   "outputs": [
    {
     "data": {
      "text/plain": [
       "<matplotlib.collections.PathCollection at 0x179ecd4a790>"
      ]
     },
     "execution_count": 41,
     "metadata": {},
     "output_type": "execute_result"
    },
    {
     "data": {
      "image/png": "[encoded data removed]",
      "text/plain": [
       "<Figure size 432x288 with 1 Axes>"
      ]
     },
     "metadata": {},
     "output_type": "display_data"
    }
   ],
   "source": [
    "plt.scatter(randomregressor.predict(x_test), randomregressor.predict(x_test) - y_test,color = \"red\", s = 10)"
   ]
  },
  {
   "cell_type": "markdown",
   "id": "67ff1284",
   "metadata": {},
   "source": [
    "# KNN"
   ]
  },
  {
   "cell_type": "code",
   "execution_count": 42,
   "id": "723062b3",
   "metadata": {},
   "outputs": [],
   "source": [
    "from sklearn.neighbors import KNeighborsClassifier"
   ]
  },
  {
   "cell_type": "code",
   "execution_count": 43,
   "id": "73c6e3d3",
   "metadata": {},
   "outputs": [],
   "source": [
    "knn= KNeighborsClassifier(n_neighbors=7)"
   ]
  },
  {
   "cell_type": "code",
   "execution_count": 44,
   "id": "f1f88221",
   "metadata": {},
   "outputs": [
    {
     "data": {
      "text/html": [
       "<style>#sk-container-id-3 {color: black;background-color: white;}#sk-container-id-3 pre{padding: 0;}#sk-container-id-3 div.sk-toggleable {background-color: white;}#sk-container-id-3 label.sk-toggleable__label {cursor: pointer;display: block;width: 100%;margin-bottom: 0;padding: 0.3em;box-sizing: border-box;text-align: center;}#sk-container-id-3 label.sk-toggleable__label-arrow:before {content: \"▸\";float: left;margin-right: 0.25em;color: #696969;}#sk-container-id-3 label.sk-toggleable__label-arrow:hover:before {color: black;}#sk-container-id-3 div.sk-estimator:hover label.sk-toggleable__label-arrow:before {color: black;}#sk-container-id-3 div.sk-toggleable__content {max-height: 0;max-width: 0;overflow: hidden;text-align: left;background-color: #f0f8ff;}#sk-container-id-3 div.sk-toggleable__content pre {margin: 0.2em;color: black;border-radius: 0.25em;background-color: #f0f8ff;}#sk-container-id-3 input.sk-toggleable__control:checked~div.sk-toggleable__content {max-height: 200px;max-width: 100%;overflow: auto;}#sk-container-id-3 input.sk-toggleable__control:checked~label.sk-toggleable__label-arrow:before {content: \"▾\";}#sk-container-id-3 div.sk-estimator input.sk-toggleable__control:checked~label.sk-toggleable__label {background-color: #d4ebff;}#sk-container-id-3 div.sk-label input.sk-toggleable__control:checked~label.sk-toggleable__label {background-color: #d4ebff;}#sk-container-id-3 input.sk-hidden--visually {border: 0;clip: rect(1px 1px 1px 1px);clip: rect(1px, 1px, 1px, 1px);height: 1px;margin: -1px;overflow: hidden;padding: 0;position: absolute;width: 1px;}#sk-container-id-3 div.sk-estimator {font-family: monospace;background-color: #f0f8ff;border: 1px dotted black;border-radius: 0.25em;box-sizing: border-box;margin-bottom: 0.5em;}#sk-container-id-3 div.sk-estimator:hover {background-color: #d4ebff;}#sk-container-id-3 div.sk-parallel-item::after {content: \"\";width: 100%;border-bottom: 1px solid gray;flex-grow: 1;}#sk-container-id-3 div.sk-label:hover label.sk-toggleable__label {background-color: #d4ebff;}#sk-container-id-3 div.sk-serial::before {content: \"\";position: absolute;border-left: 1px solid gray;box-sizing: border-box;top: 0;bottom: 0;left: 50%;z-index: 0;}#sk-container-id-3 div.sk-serial {display: flex;flex-direction: column;align-items: center;background-color: white;padding-right: 0.2em;padding-left: 0.2em;position: relative;}#sk-container-id-3 div.sk-item {position: relative;z-index: 1;}#sk-container-id-3 div.sk-parallel {display: flex;align-items: stretch;justify-content: center;background-color: white;position: relative;}#sk-container-id-3 div.sk-item::before, #sk-container-id-3 div.sk-parallel-item::before {content: \"\";position: absolute;border-left: 1px solid gray;box-sizing: border-box;top: 0;bottom: 0;left: 50%;z-index: -1;}#sk-container-id-3 div.sk-parallel-item {display: flex;flex-direction: column;z-index: 1;position: relative;background-color: white;}#sk-container-id-3 div.sk-parallel-item:first-child::after {align-self: flex-end;width: 50%;}#sk-container-id-3 div.sk-parallel-item:last-child::after {align-self: flex-start;width: 50%;}#sk-container-id-3 div.sk-parallel-item:only-child::after {width: 0;}#sk-container-id-3 div.sk-dashed-wrapped {border: 1px dashed gray;margin: 0 0.4em 0.5em 0.4em;box-sizing: border-box;padding-bottom: 0.4em;background-color: white;}#sk-container-id-3 div.sk-label label {font-family: monospace;font-weight: bold;display: inline-block;line-height: 1.2em;}#sk-container-id-3 div.sk-label-container {text-align: center;}#sk-container-id-3 div.sk-container {/* jupyter's `normalize.less` sets `[hidden] { display: none; }` but bootstrap.min.css set `[hidden] { display: none !important; }` so we also need the `!important` here to be able to override the default hidden behavior on the sphinx rendered scikit-learn.org. See: https://github.com/scikit-learn/scikit-learn/issues/21755 */display: inline-block !important;position: relative;}#sk-container-id-3 div.sk-text-repr-fallback {display: none;}</style><div id=\"sk-container-id-3\" class=\"sk-top-container\"><div class=\"sk-text-repr-fallback\"><pre>KNeighborsClassifier(n_neighbors=7)</pre><b>In a Jupyter environment, please rerun this cell to show the HTML representation or trust the notebook. <br />On GitHub, the HTML representation is unable to render, please try loading this page with nbviewer.org.</b></div><div class=\"sk-container\" hidden><div class=\"sk-item\"><div class=\"sk-estimator sk-toggleable\"><input class=\"sk-toggleable__control sk-hidden--visually\" id=\"sk-estimator-id-3\" type=\"checkbox\" checked><label for=\"sk-estimator-id-3\" class=\"sk-toggleable__label sk-toggleable__label-arrow\">KNeighborsClassifier</label><div class=\"sk-toggleable__content\"><pre>KNeighborsClassifier(n_neighbors=7)</pre></div></div></div></div></div>"
      ],
      "text/plain": [
       "KNeighborsClassifier(n_neighbors=7)"
      ]
     },
     "execution_count": 44,
     "metadata": {},
     "output_type": "execute_result"
    }
   ],
   "source": [
    "knn.fit(x_train, y_train)"
   ]
  },
  {
   "cell_type": "code",
   "execution_count": 45,
   "id": "a243467b",
   "metadata": {},
   "outputs": [],
   "source": [
    "knn_pred = (knn.predict(x_test))"
   ]
  },
  {
   "cell_type": "code",
   "execution_count": 46,
   "id": "f979ffcd",
   "metadata": {},
   "outputs": [
    {
     "name": "stdout",
     "output_type": "stream",
     "text": [
      "0.0\n",
      "score: 0.0\n"
     ]
    }
   ],
   "source": [
    "#KNN\n",
    "print(knn.score(x_test, y_test))\n",
    "print('score: {}'.format(knn.score(x_test, y_test)))"
   ]
  },
  {
   "cell_type": "code",
   "execution_count": 47,
   "id": "62e30091",
   "metadata": {},
   "outputs": [
    {
     "data": {
      "text/plain": [
       "50450911461272.86"
      ]
     },
     "execution_count": 47,
     "metadata": {},
     "output_type": "execute_result"
    }
   ],
   "source": [
    "from sklearn.metrics import mean_squared_error\n",
    "mean_squared_error(y_test,knn_pred)"
   ]
  },
  {
   "cell_type": "code",
   "execution_count": 48,
   "id": "1e20a8dd",
   "metadata": {},
   "outputs": [],
   "source": [
    "from sklearn.metrics import classification_report"
   ]
  },
  {
   "cell_type": "code",
   "execution_count": 49,
   "id": "08c84158",
   "metadata": {},
   "outputs": [
    {
     "name": "stdout",
     "output_type": "stream",
     "text": [
      "              precision    recall  f1-score   support\n",
      "\n",
      "     3099956       0.00      0.00      0.00       1.0\n",
      "     3111185       0.00      0.00      0.00       1.0\n",
      "     3452113       0.00      0.00      0.00       0.0\n",
      "     3458546       0.00      0.00      0.00       1.0\n",
      "     3679260       0.00      0.00      0.00       0.0\n",
      "     3755507       0.00      0.00      0.00       0.0\n",
      "     3855577       0.00      0.00      0.00       0.0\n",
      "     3937768       0.00      0.00      0.00       1.0\n",
      "     3962111       0.00      0.00      0.00       0.0\n",
      "     4170886       0.00      0.00      0.00       1.0\n",
      "     4360415       0.00      0.00      0.00       1.0\n",
      "     4464889       0.00      0.00      0.00       0.0\n",
      "     4585938       0.00      0.00      0.00       0.0\n",
      "     4622002       0.00      0.00      0.00       1.0\n",
      "     4650008       0.00      0.00      0.00       1.0\n",
      "     4977555       0.00      0.00      0.00       1.0\n",
      "     4982975       0.00      0.00      0.00       0.0\n",
      "     4987735       0.00      0.00      0.00       0.0\n",
      "     5162088       0.00      0.00      0.00       0.0\n",
      "     5238304       0.00      0.00      0.00       0.0\n",
      "     5271497       0.00      0.00      0.00       0.0\n",
      "     5316182       0.00      0.00      0.00       0.0\n",
      "     5410307       0.00      0.00      0.00       0.0\n",
      "     5459016       0.00      0.00      0.00       0.0\n",
      "     5479424       0.00      0.00      0.00       1.0\n",
      "     5567958       0.00      0.00      0.00       0.0\n",
      "     5624044       0.00      0.00      0.00       0.0\n",
      "     5719649       0.00      0.00      0.00       0.0\n",
      "     5841743       0.00      0.00      0.00       1.0\n",
      "     5898384       0.00      0.00      0.00       1.0\n",
      "     5940386       0.00      0.00      0.00       1.0\n",
      "     5952355       0.00      0.00      0.00       1.0\n",
      "     6077861       0.00      0.00      0.00       1.0\n",
      "     6081627       0.00      0.00      0.00       1.0\n",
      "     6134079       0.00      0.00      0.00       0.0\n",
      "     6433879       0.00      0.00      0.00       0.0\n",
      "     6565515       0.00      0.00      0.00       0.0\n",
      "     6821015       0.00      0.00      0.00       1.0\n",
      "     6993792       0.00      0.00      0.00       0.0\n",
      "     7002898       0.00      0.00      0.00       0.0\n",
      "     7266765       0.00      0.00      0.00       1.0\n",
      "     7414229       0.00      0.00      0.00       1.0\n",
      "     7530294       0.00      0.00      0.00       1.0\n",
      "     8418767       0.00      0.00      0.00       0.0\n",
      "     8497216       0.00      0.00      0.00       1.0\n",
      "     8529573       0.00      0.00      0.00       0.0\n",
      "     8577634       0.00      0.00      0.00       1.0\n",
      "     8947563       0.00      0.00      0.00       1.0\n",
      "     8958261       0.00      0.00      0.00       1.0\n",
      "     9047308       0.00      0.00      0.00       1.0\n",
      "     9528809       0.00      0.00      0.00       0.0\n",
      "     9591456       0.00      0.00      0.00       1.0\n",
      "     9646031       0.00      0.00      0.00       1.0\n",
      "     9727405       0.00      0.00      0.00       1.0\n",
      "     9799560       0.00      0.00      0.00       1.0\n",
      "     9946818       0.00      0.00      0.00       1.0\n",
      "    10173132       0.00      0.00      0.00       1.0\n",
      "    10666190       0.00      0.00      0.00       1.0\n",
      "    10800704       0.00      0.00      0.00       1.0\n",
      "    11132803       0.00      0.00      0.00       1.0\n",
      "    11826848       0.00      0.00      0.00       1.0\n",
      "    11926328       0.00      0.00      0.00       1.0\n",
      "    12341434       0.00      0.00      0.00       1.0\n",
      "    12542824       0.00      0.00      0.00       1.0\n",
      "    12822945       0.00      0.00      0.00       1.0\n",
      "    13095028       0.00      0.00      0.00       1.0\n",
      "    14277083       0.00      0.00      0.00       1.0\n",
      "    15700946       0.00      0.00      0.00       1.0\n",
      "    15728986       0.00      0.00      0.00       1.0\n",
      "    15731396       0.00      0.00      0.00       1.0\n",
      "    17045147       0.00      0.00      0.00       1.0\n",
      "    19553809       0.00      0.00      0.00       1.0\n",
      "    20335273       0.00      0.00      0.00       1.0\n",
      "    21479385       0.00      0.00      0.00       1.0\n",
      "    24538346       0.00      0.00      0.00       1.0\n",
      "    25546334       0.00      0.00      0.00       1.0\n",
      "\n",
      "    accuracy                           0.00      50.0\n",
      "   macro avg       0.00      0.00      0.00      50.0\n",
      "weighted avg       0.00      0.00      0.00      50.0\n",
      "\n"
     ]
    },
    {
     "name": "stderr",
     "output_type": "stream",
     "text": [
      "C:\\Users\\91700\\anaconda3\\lib\\site-packages\\sklearn\\metrics\\_classification.py:1334: UndefinedMetricWarning: Precision and F-score are ill-defined and being set to 0.0 in labels with no predicted samples. Use `zero_division` parameter to control this behavior.\n",
      "  _warn_prf(average, modifier, msg_start, len(result))\n",
      "C:\\Users\\91700\\anaconda3\\lib\\site-packages\\sklearn\\metrics\\_classification.py:1334: UndefinedMetricWarning: Recall and F-score are ill-defined and being set to 0.0 in labels with no true samples. Use `zero_division` parameter to control this behavior.\n",
      "  _warn_prf(average, modifier, msg_start, len(result))\n",
      "C:\\Users\\91700\\anaconda3\\lib\\site-packages\\sklearn\\metrics\\_classification.py:1334: UndefinedMetricWarning: Precision and F-score are ill-defined and being set to 0.0 in labels with no predicted samples. Use `zero_division` parameter to control this behavior.\n",
      "  _warn_prf(average, modifier, msg_start, len(result))\n",
      "C:\\Users\\91700\\anaconda3\\lib\\site-packages\\sklearn\\metrics\\_classification.py:1334: UndefinedMetricWarning: Recall and F-score are ill-defined and being set to 0.0 in labels with no true samples. Use `zero_division` parameter to control this behavior.\n",
      "  _warn_prf(average, modifier, msg_start, len(result))\n",
      "C:\\Users\\91700\\anaconda3\\lib\\site-packages\\sklearn\\metrics\\_classification.py:1334: UndefinedMetricWarning: Precision and F-score are ill-defined and being set to 0.0 in labels with no predicted samples. Use `zero_division` parameter to control this behavior.\n",
      "  _warn_prf(average, modifier, msg_start, len(result))\n",
      "C:\\Users\\91700\\anaconda3\\lib\\site-packages\\sklearn\\metrics\\_classification.py:1334: UndefinedMetricWarning: Recall and F-score are ill-defined and being set to 0.0 in labels with no true samples. Use `zero_division` parameter to control this behavior.\n",
      "  _warn_prf(average, modifier, msg_start, len(result))\n"
     ]
    }
   ],
   "source": [
    "print(classification_report(y_test, knn_pred))\n"
   ]
  },
  {
   "cell_type": "code",
   "execution_count": 50,
   "id": "7f56bf20",
   "metadata": {},
   "outputs": [
    {
     "name": "stdout",
     "output_type": "stream",
     "text": [
      "score: 0.0\n"
     ]
    }
   ],
   "source": [
    "print('score: {}'.format(knn.score(x_test, y_test)))"
   ]
  },
  {
   "cell_type": "code",
   "execution_count": 51,
   "id": "bc470446",
   "metadata": {},
   "outputs": [
    {
     "name": "stdout",
     "output_type": "stream",
     "text": [
      "Accuracy: 0.0\n"
     ]
    }
   ],
   "source": [
    "from sklearn.metrics import accuracy_score, confusion_matrix\n",
    "print(\"Accuracy:\",accuracy_score(y_test, knn_pred))"
   ]
  },
  {
   "cell_type": "code",
   "execution_count": 52,
   "id": "4c4664cb",
   "metadata": {},
   "outputs": [
    {
     "data": {
      "text/plain": [
       "<matplotlib.collections.PathCollection at 0x179ecdfe2b0>"
      ]
     },
     "execution_count": 52,
     "metadata": {},
     "output_type": "execute_result"
    },
    {
     "data": {
      "image/png": "[encoded data removed]",
      "text/plain": [
       "<Figure size 432x288 with 1 Axes>"
      ]
     },
     "metadata": {},
     "output_type": "display_data"
    }
   ],
   "source": [
    "plt.style.use('fivethirtyeight')\n",
    "plt.scatter(knn.predict(x_train), knn.predict(x_train) - y_train, color = \"green\", s = 10)"
   ]
  },
  {
   "cell_type": "code",
   "execution_count": 53,
   "id": "41c883e7",
   "metadata": {},
   "outputs": [
    {
     "data": {
      "text/plain": [
       "<matplotlib.collections.PathCollection at 0x179ede31640>"
      ]
     },
     "execution_count": 53,
     "metadata": {},
     "output_type": "execute_result"
    },
    {
     "data": {
      "image/png": "[encoded data removed]",
      "text/plain": [
       "<Figure size 432x288 with 1 Axes>"
      ]
     },
     "metadata": {},
     "output_type": "display_data"
    }
   ],
   "source": [
    "plt.scatter(knn.predict(x_test), knn.predict(x_test) - y_test,color = \"red\", s = 10)"
   ]
  },
  {
   "cell_type": "markdown",
   "id": "778aad50",
   "metadata": {},
   "source": [
    "# principle component analysis "
   ]
  },
  {
   "cell_type": "code",
   "execution_count": 54,
   "id": "e05d58a3",
   "metadata": {},
   "outputs": [],
   "source": [
    "from sklearn.decomposition import PCA"
   ]
  },
  {
   "cell_type": "code",
   "execution_count": 55,
   "id": "f733ee0b",
   "metadata": {},
   "outputs": [],
   "source": [
    "principal = PCA(n_components = 2)\n",
    " \n",
    "X_train = principal.fit_transform(x_train)\n",
    "X_test = principal.transform(x_test)"
   ]
  },
  {
   "cell_type": "code",
   "execution_count": 56,
   "id": "b62a9a28",
   "metadata": {},
   "outputs": [],
   "source": [
    "score = principal.explained_variance_ratio_"
   ]
  },
  {
   "cell_type": "code",
   "execution_count": 57,
   "id": "b67a3f5d",
   "metadata": {},
   "outputs": [
    {
     "data": {
      "text/plain": [
       "array([0.9782619 , 0.01496469])"
      ]
     },
     "execution_count": 57,
     "metadata": {},
     "output_type": "execute_result"
    }
   ],
   "source": [
    "score"
   ]
  },
  {
   "cell_type": "markdown",
   "id": "aa88538a",
   "metadata": {},
   "source": [
    "# LogisticRegression"
   ]
  },
  {
   "cell_type": "code",
   "execution_count": 58,
   "id": "04496b36",
   "metadata": {},
   "outputs": [],
   "source": [
    "from sklearn.linear_model import LogisticRegression"
   ]
  },
  {
   "cell_type": "code",
   "execution_count": 59,
   "id": "947d6ceb",
   "metadata": {},
   "outputs": [],
   "source": [
    "logreg = LogisticRegression(solver='liblinear', random_state=0)"
   ]
  },
  {
   "cell_type": "code",
   "execution_count": 60,
   "id": "fac4b4b5",
   "metadata": {},
   "outputs": [
    {
     "data": {
      "text/html": [
       "<style>#sk-container-id-4 {color: black;background-color: white;}#sk-container-id-4 pre{padding: 0;}#sk-container-id-4 div.sk-toggleable {background-color: white;}#sk-container-id-4 label.sk-toggleable__label {cursor: pointer;display: block;width: 100%;margin-bottom: 0;padding: 0.3em;box-sizing: border-box;text-align: center;}#sk-container-id-4 label.sk-toggleable__label-arrow:before {content: \"▸\";float: left;margin-right: 0.25em;color: #696969;}#sk-container-id-4 label.sk-toggleable__label-arrow:hover:before {color: black;}#sk-container-id-4 div.sk-estimator:hover label.sk-toggleable__label-arrow:before {color: black;}#sk-container-id-4 div.sk-toggleable__content {max-height: 0;max-width: 0;overflow: hidden;text-align: left;background-color: #f0f8ff;}#sk-container-id-4 div.sk-toggleable__content pre {margin: 0.2em;color: black;border-radius: 0.25em;background-color: #f0f8ff;}#sk-container-id-4 input.sk-toggleable__control:checked~div.sk-toggleable__content {max-height: 200px;max-width: 100%;overflow: auto;}#sk-container-id-4 input.sk-toggleable__control:checked~label.sk-toggleable__label-arrow:before {content: \"▾\";}#sk-container-id-4 div.sk-estimator input.sk-toggleable__control:checked~label.sk-toggleable__label {background-color: #d4ebff;}#sk-container-id-4 div.sk-label input.sk-toggleable__control:checked~label.sk-toggleable__label {background-color: #d4ebff;}#sk-container-id-4 input.sk-hidden--visually {border: 0;clip: rect(1px 1px 1px 1px);clip: rect(1px, 1px, 1px, 1px);height: 1px;margin: -1px;overflow: hidden;padding: 0;position: absolute;width: 1px;}#sk-container-id-4 div.sk-estimator {font-family: monospace;background-color: #f0f8ff;border: 1px dotted black;border-radius: 0.25em;box-sizing: border-box;margin-bottom: 0.5em;}#sk-container-id-4 div.sk-estimator:hover {background-color: #d4ebff;}#sk-container-id-4 div.sk-parallel-item::after {content: \"\";width: 100%;border-bottom: 1px solid gray;flex-grow: 1;}#sk-container-id-4 div.sk-label:hover label.sk-toggleable__label {background-color: #d4ebff;}#sk-container-id-4 div.sk-serial::before {content: \"\";position: absolute;border-left: 1px solid gray;box-sizing: border-box;top: 0;bottom: 0;left: 50%;z-index: 0;}#sk-container-id-4 div.sk-serial {display: flex;flex-direction: column;align-items: center;background-color: white;padding-right: 0.2em;padding-left: 0.2em;position: relative;}#sk-container-id-4 div.sk-item {position: relative;z-index: 1;}#sk-container-id-4 div.sk-parallel {display: flex;align-items: stretch;justify-content: center;background-color: white;position: relative;}#sk-container-id-4 div.sk-item::before, #sk-container-id-4 div.sk-parallel-item::before {content: \"\";position: absolute;border-left: 1px solid gray;box-sizing: border-box;top: 0;bottom: 0;left: 50%;z-index: -1;}#sk-container-id-4 div.sk-parallel-item {display: flex;flex-direction: column;z-index: 1;position: relative;background-color: white;}#sk-container-id-4 div.sk-parallel-item:first-child::after {align-self: flex-end;width: 50%;}#sk-container-id-4 div.sk-parallel-item:last-child::after {align-self: flex-start;width: 50%;}#sk-container-id-4 div.sk-parallel-item:only-child::after {width: 0;}#sk-container-id-4 div.sk-dashed-wrapped {border: 1px dashed gray;margin: 0 0.4em 0.5em 0.4em;box-sizing: border-box;padding-bottom: 0.4em;background-color: white;}#sk-container-id-4 div.sk-label label {font-family: monospace;font-weight: bold;display: inline-block;line-height: 1.2em;}#sk-container-id-4 div.sk-label-container {text-align: center;}#sk-container-id-4 div.sk-container {/* jupyter's `normalize.less` sets `[hidden] { display: none; }` but bootstrap.min.css set `[hidden] { display: none !important; }` so we also need the `!important` here to be able to override the default hidden behavior on the sphinx rendered scikit-learn.org. See: https://github.com/scikit-learn/scikit-learn/issues/21755 */display: inline-block !important;position: relative;}#sk-container-id-4 div.sk-text-repr-fallback {display: none;}</style><div id=\"sk-container-id-4\" class=\"sk-top-container\"><div class=\"sk-text-repr-fallback\"><pre>LogisticRegression(random_state=0, solver=&#x27;liblinear&#x27;)</pre><b>In a Jupyter environment, please rerun this cell to show the HTML representation or trust the notebook. <br />On GitHub, the HTML representation is unable to render, please try loading this page with nbviewer.org.</b></div><div class=\"sk-container\" hidden><div class=\"sk-item\"><div class=\"sk-estimator sk-toggleable\"><input class=\"sk-toggleable__control sk-hidden--visually\" id=\"sk-estimator-id-4\" type=\"checkbox\" checked><label for=\"sk-estimator-id-4\" class=\"sk-toggleable__label sk-toggleable__label-arrow\">LogisticRegression</label><div class=\"sk-toggleable__content\"><pre>LogisticRegression(random_state=0, solver=&#x27;liblinear&#x27;)</pre></div></div></div></div></div>"
      ],
      "text/plain": [
       "LogisticRegression(random_state=0, solver='liblinear')"
      ]
     },
     "execution_count": 60,
     "metadata": {},
     "output_type": "execute_result"
    }
   ],
   "source": [
    "logreg.fit(x_train, y_train)"
   ]
  },
  {
   "cell_type": "code",
   "execution_count": 61,
   "id": "6cf90448",
   "metadata": {},
   "outputs": [],
   "source": [
    "log_pred = logreg.predict(x_test) "
   ]
  },
  {
   "cell_type": "code",
   "execution_count": 62,
   "id": "7403e6ca",
   "metadata": {},
   "outputs": [
    {
     "name": "stdout",
     "output_type": "stream",
     "text": [
      "Accuracy: 0.0\n"
     ]
    }
   ],
   "source": [
    "#LogisticRegression\n",
    "from sklearn.metrics import accuracy_score, confusion_matrix\n",
    "print(\"Accuracy:\",accuracy_score(y_test, log_pred))"
   ]
  },
  {
   "cell_type": "code",
   "execution_count": 63,
   "id": "7b0e1239",
   "metadata": {},
   "outputs": [
    {
     "data": {
      "text/plain": [
       "49447017221262.0"
      ]
     },
     "execution_count": 63,
     "metadata": {},
     "output_type": "execute_result"
    }
   ],
   "source": [
    "from sklearn.metrics import mean_squared_error\n",
    "mean_squared_error(y_test,log_pred)"
   ]
  },
  {
   "cell_type": "code",
   "execution_count": 64,
   "id": "5c252ad0",
   "metadata": {},
   "outputs": [
    {
     "data": {
      "text/plain": [
       "<matplotlib.collections.PathCollection at 0x179eefd9bb0>"
      ]
     },
     "execution_count": 64,
     "metadata": {},
     "output_type": "execute_result"
    },
    {
     "data": {
      "image/png": "[encoded data removed]",
      "text/plain": [
       "<Figure size 432x288 with 1 Axes>"
      ]
     },
     "metadata": {},
     "output_type": "display_data"
    }
   ],
   "source": [
    "plt.style.use('fivethirtyeight')\n",
    "plt.scatter(logreg.predict(x_train), logreg.predict(x_train) - y_train, color = \"blue\", s = 10)"
   ]
  },
  {
   "cell_type": "code",
   "execution_count": 65,
   "id": "b8a1e431",
   "metadata": {},
   "outputs": [
    {
     "data": {
      "text/plain": [
       "<matplotlib.collections.PathCollection at 0x179ef038fd0>"
      ]
     },
     "execution_count": 65,
     "metadata": {},
     "output_type": "execute_result"
    },
    {
     "data": {
      "image/png": "[encoded data removed]",
      "text/plain": [
       "<Figure size 432x288 with 1 Axes>"
      ]
     },
     "metadata": {},
     "output_type": "display_data"
    }
   ],
   "source": [
    "plt.scatter(logreg.predict(x_test), logreg.predict(x_test) - y_test,color = \"red\", s = 10)"
   ]
  },
  {
   "cell_type": "code",
   "execution_count": null,
   "id": "3c4455fb",
   "metadata": {},
   "outputs": [],
   "source": []
  },
  {
   "cell_type": "code",
   "execution_count": null,
   "id": "494b8edd",
   "metadata": {},
   "outputs": [],
   "source": []
  },
  {
   "cell_type": "code",
   "execution_count": null,
   "id": "862c7e5f",
   "metadata": {},
   "outputs": [],
   "source": []
  },
  {
   "cell_type": "code",
   "execution_count": null,
   "id": "44a908f8",
   "metadata": {},
   "outputs": [],
   "source": []
  },
  {
   "cell_type": "code",
   "execution_count": null,
   "id": "4e06dd0e",
   "metadata": {},
   "outputs": [],
   "source": []
  }
 ],
 "metadata": {
  "kernelspec": {
   "display_name": "Python 3 (ipykernel)",
   "language": "python",
   "name": "python3"
  },
  "language_info": {
   "codemirror_mode": {
    "name": "ipython",
    "version": 3
   },
   "file_extension": ".py",
   "mimetype": "text/x-python",
   "name": "python",
   "nbconvert_exporter": "python",
   "pygments_lexer": "ipython3",
   "version": "3.9.7"
  }
 },
 "nbformat": 4,
 "nbformat_minor": 5
}
