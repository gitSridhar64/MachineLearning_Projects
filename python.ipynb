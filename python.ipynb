{
 "cells": [
  {
   "cell_type": "code",
   "execution_count": 1,
   "id": "8895b1f1",
   "metadata": {},
   "outputs": [],
   "source": [
    "\n",
    "import pandas as pd\n",
    "from datetime import datetime\n",
    "import numpy as np"
   ]
  },
  {
   "cell_type": "code",
   "execution_count": 7,
   "id": "e9919ff1",
   "metadata": {},
   "outputs": [
    {
     "data": {
      "text/html": [
       "<div>\n",
       "<style scoped>\n",
       "    .dataframe tbody tr th:only-of-type {\n",
       "        vertical-align: middle;\n",
       "    }\n",
       "\n",
       "    .dataframe tbody tr th {\n",
       "        vertical-align: top;\n",
       "    }\n",
       "\n",
       "    .dataframe thead th {\n",
       "        text-align: right;\n",
       "    }\n",
       "</style>\n",
       "<table border=\"1\" class=\"dataframe\">\n",
       "  <thead>\n",
       "    <tr style=\"text-align: right;\">\n",
       "      <th></th>\n",
       "      <th>Date</th>\n",
       "      <th>Open</th>\n",
       "      <th>High</th>\n",
       "      <th>Low</th>\n",
       "      <th>Close*</th>\n",
       "      <th>Adj Close**</th>\n",
       "      <th>Volume</th>\n",
       "    </tr>\n",
       "  </thead>\n",
       "  <tbody>\n",
       "    <tr>\n",
       "      <th>0</th>\n",
       "      <td>2022-08-22</td>\n",
       "      <td>89.65</td>\n",
       "      <td>91.26</td>\n",
       "      <td>86.6</td>\n",
       "      <td>90.23</td>\n",
       "      <td>90.23</td>\n",
       "      <td>58714</td>\n",
       "    </tr>\n",
       "    <tr>\n",
       "      <th>1</th>\n",
       "      <td>2022-08-19</td>\n",
       "      <td>90.39</td>\n",
       "      <td>92.09</td>\n",
       "      <td>88.38</td>\n",
       "      <td>90.77</td>\n",
       "      <td>90.77</td>\n",
       "      <td>58714</td>\n",
       "    </tr>\n",
       "    <tr>\n",
       "      <th>2</th>\n",
       "      <td>2022-08-18</td>\n",
       "      <td>87.39</td>\n",
       "      <td>91.46</td>\n",
       "      <td>87.32</td>\n",
       "      <td>90.5</td>\n",
       "      <td>90.5</td>\n",
       "      <td>80029</td>\n",
       "    </tr>\n",
       "    <tr>\n",
       "      <th>3</th>\n",
       "      <td>2022-08-17</td>\n",
       "      <td>87.1</td>\n",
       "      <td>89.16</td>\n",
       "      <td>85.88</td>\n",
       "      <td>88.11</td>\n",
       "      <td>88.11</td>\n",
       "      <td>230346</td>\n",
       "    </tr>\n",
       "    <tr>\n",
       "      <th>4</th>\n",
       "      <td>2022-08-16</td>\n",
       "      <td>87.93</td>\n",
       "      <td>90.65</td>\n",
       "      <td>85.73</td>\n",
       "      <td>86.53</td>\n",
       "      <td>86.53</td>\n",
       "      <td>305366</td>\n",
       "    </tr>\n",
       "  </tbody>\n",
       "</table>\n",
       "</div>"
      ],
      "text/plain": [
       "        Date   Open   High    Low Close* Adj Close**  Volume\n",
       "0 2022-08-22  89.65  91.26   86.6  90.23       90.23   58714\n",
       "1 2022-08-19  90.39  92.09  88.38  90.77       90.77   58714\n",
       "2 2022-08-18  87.39  91.46  87.32   90.5        90.5   80029\n",
       "3 2022-08-17   87.1  89.16  85.88  88.11       88.11  230346\n",
       "4 2022-08-16  87.93  90.65  85.73  86.53       86.53  305366"
      ]
     },
     "execution_count": 7,
     "metadata": {},
     "output_type": "execute_result"
    }
   ],
   "source": [
    "df = pd.read_excel('crudeoil_data.xlsx', parse_dates=[\"Date\"])\n",
    "df.head()"
   ]
  },
  {
   "cell_type": "code",
   "execution_count": 8,
   "id": "eb97cf79",
   "metadata": {},
   "outputs": [
    {
     "data": {
      "text/plain": [
       "<AxesSubplot:>"
      ]
     },
     "execution_count": 8,
     "metadata": {},
     "output_type": "execute_result"
    },
    {
     "data": {
      "image/png": "[encoded data removed]",
      "text/plain": [
       "<Figure size 432x288 with 1 Axes>"
      ]
     },
     "metadata": {},
     "output_type": "display_data"
    }
   ],
   "source": [
    "import matplotlib.pyplot as plt\n",
    "from pandas.plotting import register_matplotlib_converters\n",
    "register_matplotlib_converters()\n",
    "plt.style.use(\"ggplot\")\n",
    "df.plot(color=\"purple\")"
   ]
  },
  {
   "cell_type": "code",
   "execution_count": 10,
   "id": "4371cfda",
   "metadata": {},
   "outputs": [
    {
     "data": {
      "text/plain": [
       "pandas._libs.tslibs.timestamps.Timestamp"
      ]
     },
     "execution_count": 10,
     "metadata": {},
     "output_type": "execute_result"
    }
   ],
   "source": [
    "type(df.Date[0])"
   ]
  },
  {
   "cell_type": "code",
   "execution_count": 15,
   "id": "891a79db",
   "metadata": {},
   "outputs": [
    {
     "data": {
      "text/plain": [
       "RangeIndex(start=0, stop=507, step=1)"
      ]
     },
     "execution_count": 15,
     "metadata": {},
     "output_type": "execute_result"
    }
   ],
   "source": [
    "df.index"
   ]
  },
  {
   "cell_type": "code",
   "execution_count": 21,
   "id": "52d29edd",
   "metadata": {},
   "outputs": [
    {
     "data": {
      "text/plain": [
       "False"
      ]
     },
     "execution_count": 21,
     "metadata": {},
     "output_type": "execute_result"
    }
   ],
   "source": [
    "df.isnull().any().any()"
   ]
  },
  {
   "cell_type": "code",
   "execution_count": 22,
   "id": "6d4107ca",
   "metadata": {},
   "outputs": [
    {
     "data": {
      "text/plain": [
       "0"
      ]
     },
     "execution_count": 22,
     "metadata": {},
     "output_type": "execute_result"
    }
   ],
   "source": [
    "df.isnull().sum().sum()"
   ]
  },
  {
   "cell_type": "code",
   "execution_count": 23,
   "id": "cb329eb9",
   "metadata": {},
   "outputs": [],
   "source": [
    "df.dropna(axis=1, inplace=True)"
   ]
  },
  {
   "cell_type": "code",
   "execution_count": 24,
   "id": "93f0eafb",
   "metadata": {},
   "outputs": [
    {
     "data": {
      "text/html": [
       "<div>\n",
       "<style scoped>\n",
       "    .dataframe tbody tr th:only-of-type {\n",
       "        vertical-align: middle;\n",
       "    }\n",
       "\n",
       "    .dataframe tbody tr th {\n",
       "        vertical-align: top;\n",
       "    }\n",
       "\n",
       "    .dataframe thead th {\n",
       "        text-align: right;\n",
       "    }\n",
       "</style>\n",
       "<table border=\"1\" class=\"dataframe\">\n",
       "  <thead>\n",
       "    <tr style=\"text-align: right;\">\n",
       "      <th></th>\n",
       "      <th>Date</th>\n",
       "      <th>Open</th>\n",
       "      <th>High</th>\n",
       "      <th>Low</th>\n",
       "      <th>Close*</th>\n",
       "      <th>Adj Close**</th>\n",
       "      <th>Volume</th>\n",
       "    </tr>\n",
       "  </thead>\n",
       "  <tbody>\n",
       "    <tr>\n",
       "      <th>0</th>\n",
       "      <td>2022-08-22</td>\n",
       "      <td>89.65</td>\n",
       "      <td>91.26</td>\n",
       "      <td>86.6</td>\n",
       "      <td>90.23</td>\n",
       "      <td>90.23</td>\n",
       "      <td>58714</td>\n",
       "    </tr>\n",
       "    <tr>\n",
       "      <th>1</th>\n",
       "      <td>2022-08-19</td>\n",
       "      <td>90.39</td>\n",
       "      <td>92.09</td>\n",
       "      <td>88.38</td>\n",
       "      <td>90.77</td>\n",
       "      <td>90.77</td>\n",
       "      <td>58714</td>\n",
       "    </tr>\n",
       "    <tr>\n",
       "      <th>2</th>\n",
       "      <td>2022-08-18</td>\n",
       "      <td>87.39</td>\n",
       "      <td>91.46</td>\n",
       "      <td>87.32</td>\n",
       "      <td>90.5</td>\n",
       "      <td>90.5</td>\n",
       "      <td>80029</td>\n",
       "    </tr>\n",
       "    <tr>\n",
       "      <th>3</th>\n",
       "      <td>2022-08-17</td>\n",
       "      <td>87.1</td>\n",
       "      <td>89.16</td>\n",
       "      <td>85.88</td>\n",
       "      <td>88.11</td>\n",
       "      <td>88.11</td>\n",
       "      <td>230346</td>\n",
       "    </tr>\n",
       "    <tr>\n",
       "      <th>4</th>\n",
       "      <td>2022-08-16</td>\n",
       "      <td>87.93</td>\n",
       "      <td>90.65</td>\n",
       "      <td>85.73</td>\n",
       "      <td>86.53</td>\n",
       "      <td>86.53</td>\n",
       "      <td>305366</td>\n",
       "    </tr>\n",
       "  </tbody>\n",
       "</table>\n",
       "</div>"
      ],
      "text/plain": [
       "        Date   Open   High    Low Close* Adj Close**  Volume\n",
       "0 2022-08-22  89.65  91.26   86.6  90.23       90.23   58714\n",
       "1 2022-08-19  90.39  92.09  88.38  90.77       90.77   58714\n",
       "2 2022-08-18  87.39  91.46  87.32   90.5        90.5   80029\n",
       "3 2022-08-17   87.1  89.16  85.88  88.11       88.11  230346\n",
       "4 2022-08-16  87.93  90.65  85.73  86.53       86.53  305366"
      ]
     },
     "execution_count": 24,
     "metadata": {},
     "output_type": "execute_result"
    }
   ],
   "source": [
    "df.head()"
   ]
  },
  {
   "cell_type": "code",
   "execution_count": 25,
   "id": "4fbbec68",
   "metadata": {},
   "outputs": [
    {
     "name": "stdout",
     "output_type": "stream",
     "text": [
      "<class 'pandas.core.frame.DataFrame'>\n",
      "RangeIndex: 507 entries, 0 to 506\n",
      "Data columns (total 7 columns):\n",
      " #   Column       Non-Null Count  Dtype         \n",
      "---  ------       --------------  -----         \n",
      " 0   Date         507 non-null    datetime64[ns]\n",
      " 1   Open         507 non-null    object        \n",
      " 2   High         507 non-null    object        \n",
      " 3   Low          507 non-null    object        \n",
      " 4   Close*       507 non-null    object        \n",
      " 5   Adj Close**  507 non-null    object        \n",
      " 6   Volume       507 non-null    object        \n",
      "dtypes: datetime64[ns](1), object(6)\n",
      "memory usage: 27.9+ KB\n"
     ]
    }
   ],
   "source": [
    "df.info()"
   ]
  },
  {
   "cell_type": "code",
   "execution_count": 30,
   "id": "7343bd97",
   "metadata": {},
   "outputs": [],
   "source": [
    "df.loc[df['Open'] == '-', 'Open'] = 0.0\n",
    "df.loc[df['High'] == '-', 'High'] = 0.0\n",
    "df.loc[df['Low'] == '-', 'Low'] = 0.0\n",
    "df.loc[df['Close*'] == '-', 'Close*'] = 0.0\n",
    "df.loc[df['Adj Close**'] == '-', 'Adj Close**'] = 0.0\n",
    "df.loc[df['Volume'] == '-', 'Volume'] = 0.0\n",
    "df['Open']=df['Open'].astype(float)\n",
    "df['High']=df['High'].astype(float)\n",
    "df['Low']=df['Low'].astype(float)\n",
    "df['Close*']=df['Close*'].astype(float)\n",
    "df['Adj Close**']=df['Adj Close**'].astype(float)\n",
    "df['Volume']=df['Volume'].astype(float)"
   ]
  },
  {
   "cell_type": "code",
   "execution_count": 31,
   "id": "c618f6d5",
   "metadata": {},
   "outputs": [
    {
     "name": "stdout",
     "output_type": "stream",
     "text": [
      "<class 'pandas.core.frame.DataFrame'>\n",
      "RangeIndex: 507 entries, 0 to 506\n",
      "Data columns (total 7 columns):\n",
      " #   Column       Non-Null Count  Dtype         \n",
      "---  ------       --------------  -----         \n",
      " 0   Date         507 non-null    datetime64[ns]\n",
      " 1   Open         507 non-null    float64       \n",
      " 2   High         507 non-null    float64       \n",
      " 3   Low          507 non-null    float64       \n",
      " 4   Close*       507 non-null    float64       \n",
      " 5   Adj Close**  507 non-null    float64       \n",
      " 6   Volume       507 non-null    float64       \n",
      "dtypes: datetime64[ns](1), float64(6)\n",
      "memory usage: 27.9 KB\n"
     ]
    }
   ],
   "source": [
    "df.info()"
   ]
  },
  {
   "cell_type": "code",
   "execution_count": 36,
   "id": "06c81108",
   "metadata": {},
   "outputs": [
    {
     "data": {
      "text/plain": [
       "<AxesSubplot:>"
      ]
     },
     "execution_count": 36,
     "metadata": {},
     "output_type": "execute_result"
    },
    {
     "data": {
      "image/png": "[encoded data removed]",
      "text/plain": [
       "<Figure size 432x288 with 1 Axes>"
      ]
     },
     "metadata": {
      "needs_background": "light"
     },
     "output_type": "display_data"
    }
   ],
   "source": [
    "%matplotlib inline\n",
    "df['Close*'].plot()"
   ]
  },
  {
   "cell_type": "code",
   "execution_count": null,
   "id": "33482a9c",
   "metadata": {},
   "outputs": [],
   "source": []
  }
 ],
 "metadata": {
  "kernelspec": {
   "display_name": "Python 3 (ipykernel)",
   "language": "python",
   "name": "python3"
  },
  "language_info": {
   "codemirror_mode": {
    "name": "ipython",
    "version": 3
   },
   "file_extension": ".py",
   "mimetype": "text/x-python",
   "name": "python",
   "nbconvert_exporter": "python",
   "pygments_lexer": "ipython3",
   "version": "3.9.7"
  }
 },
 "nbformat": 4,
 "nbformat_minor": 5
}
