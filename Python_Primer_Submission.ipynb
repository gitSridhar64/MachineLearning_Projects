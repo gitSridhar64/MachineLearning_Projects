{
 "cells": [
  {
   "cell_type": "markdown",
   "metadata": {
    "id": "yqEpCdpT8_6V"
   },
   "source": [
    "---"
   ]
  },
  {
   "cell_type": "markdown",
   "metadata": {
    "id": "4NUOiHNh8_6X"
   },
   "source": [
    "Before you turn this problem in, make sure everything runs as expected. First, **restart the kernel** (in the menubar, select Kernel$\\rightarrow$Restart) and then **run all cells** (in the menubar, select Cell$\\rightarrow$Run All).\n",
    "\n",
    "Make sure you fill in any place that says `YOUR CODE HERE` or \"YOUR ANSWER HERE\", as well as your name and collaborators below:"
   ]
  },
  {
   "cell_type": "code",
   "execution_count": null,
   "metadata": {
    "id": "dQGEPUZT8_6Y"
   },
   "outputs": [],
   "source": [
    "NAME = \"\"\n",
    "COLLABORATORS = \"\""
   ]
  },
  {
   "cell_type": "markdown",
   "metadata": {
    "id": "TCpvcEV48_6Z"
   },
   "source": [
    "# Unit 1 Exercises"
   ]
  },
  {
   "cell_type": "code",
   "execution_count": null,
   "metadata": {
    "colab": {
     "base_uri": "https://localhost:8080/"
    },
    "id": "56QdHXMv9jIZ",
    "outputId": "88bbd0cd-0b26-4c14-827c-27742bf69978"
   },
   "outputs": [],
   "source": [
    "# for auto testing. Students can ignore this\n",
    "!pip install nose \n",
    "from nose.tools import assert_equal"
   ]
  },
  {
   "cell_type": "markdown",
   "metadata": {
    "id": "z7IzyRqj8_6a"
   },
   "source": [
    "### <font color='red'><u>Worksheet Exercises</u></font>\n",
    "1. <strike>Create three integer variables, `x`, `y` and `z` with values `1`, `2` and `3` respectively. Print all three variables on the same line</strike>\n",
    "2. <strike>Now, print the same three variables as above, but this time separated by `***` instead of a space</strike>\n",
    "3. <strong><i>Finally, print the same three variables as above, but this time terminate the string with an `!` exclamation mark</i></strong>"
   ]
  },
  {
   "cell_type": "code",
   "execution_count": null,
   "metadata": {
    "deletable": false,
    "id": "7vnLJBnu8_6a",
    "nbgrader": {
     "cell_type": "code",
     "checksum": "164a0b8cfb619c9f472f3c5ba5702c22",
     "grade": false,
     "grade_id": "cell-fbaab4bf03790355",
     "locked": false,
     "schema_version": 3,
     "solution": true,
     "task": false
    }
   },
   "outputs": [],
   "source": [
    "#3.\n",
    "# 2 points\n",
    "# hint: please return the result by concatenate strings using +, remove any spaces\n",
    "def Unit1_exclamation_mark():\n",
    "    x=1\n",
    "    y=2\n",
    "    z=3\n",
    "    # YOUR CODE HERE\n",
    "    raise NotImplementedError()"
   ]
  },
  {
   "cell_type": "code",
   "execution_count": null,
   "metadata": {
    "deletable": false,
    "editable": false,
    "id": "wzpfg1qC8_6d",
    "nbgrader": {
     "cell_type": "code",
     "checksum": "554b68e59ac6dd817e3959c0549bb53c",
     "grade": true,
     "grade_id": "cell-48c4dd3e64113e30",
     "locked": true,
     "points": 2,
     "schema_version": 3,
     "solution": false,
     "task": false
    }
   },
   "outputs": [],
   "source": []
  },
  {
   "cell_type": "markdown",
   "metadata": {
    "id": "6ZY7ux7x8_6d"
   },
   "source": [
    "### <font color='red'><u>Worksheet Exercise</u></font>\n",
    "Now let's use variables to solve a problem involving mathematical calculation. Suppose we have the following formula for computing compound interest [from Wikipedia](https://en.wikipedia.org/wiki/Compound_interest#Periodic_compounding):\n",
    "\n",
    "$V=P\\left(1+{\\frac {r}{n}}\\right)^{nt}$\n",
    "\n",
    "where:\n",
    "\n",
    "* $P$ is the original principal sum\n",
    "* $V$ is the total accumulated value\n",
    "* $r$ is the nominal annual interest rate\n",
    "* $n$ is the compounding frequency\n",
    "* $t$ is the overall length of time the interest is applied (expressed using the same time units as $r$, usually years).\n",
    "\n",
    "Suppose a principal amount of \\$1,500 is deposited in a bank paying an annual interest rate of 4.3\\%, compounded quarterly.\n",
    "Then the balance after 6 years is found by using the formula above, with the following values:"
   ]
  },
  {
   "cell_type": "code",
   "execution_count": null,
   "metadata": {
    "id": "wsWshkmT8_6f"
   },
   "outputs": [],
   "source": [
    "P = 1500\n",
    "r = 0.043\n",
    "n = 4\n",
    "t = 6"
   ]
  },
  {
   "cell_type": "markdown",
   "metadata": {
    "id": "A_TAV81w8_6f"
   },
   "source": [
    "We can compute the total accumulated value by translating the mathematical formula into Python syntax:"
   ]
  },
  {
   "cell_type": "markdown",
   "metadata": {
    "id": "Bc7I7s4F8_6g"
   },
   "source": [
    "Suppose the same amount of \\$1,500 is compounded biennially, so `n = 1/2`.  \n",
    "<strong><i>What would the total value be after 6 years?</i></strong>  Hint: we expect the answer to be a bit less than the previous answer."
   ]
  },
  {
   "cell_type": "code",
   "execution_count": null,
   "metadata": {
    "deletable": false,
    "id": "E8kuLvny8_6g",
    "nbgrader": {
     "cell_type": "code",
     "checksum": "34e158f7ccccada95e6a4b1ba345140b",
     "grade": false,
     "grade_id": "cell-b3310b5a1df7fe33",
     "locked": false,
     "schema_version": 3,
     "solution": true,
     "task": false
    }
   },
   "outputs": [],
   "source": [
    "# 2 points\n",
    "# please return the result\n",
    "def Unit1_compounded_biennially(): #Please round function used to limit output to 2 d.p\n",
    "    # YOUR CODE HERE\n",
    "    raise NotImplementedError()"
   ]
  },
  {
   "cell_type": "code",
   "execution_count": null,
   "metadata": {
    "deletable": false,
    "editable": false,
    "id": "NzJyHCw78_6g",
    "nbgrader": {
     "cell_type": "code",
     "checksum": "2dc9e3f76a4fbee69dfc5aab45d1ac89",
     "grade": true,
     "grade_id": "cell-23174ec47d383e3d",
     "locked": true,
     "points": 2,
     "schema_version": 3,
     "solution": false,
     "task": false
    }
   },
   "outputs": [],
   "source": []
  },
  {
   "cell_type": "markdown",
   "metadata": {
    "id": "_PlvIYOf8_6g"
   },
   "source": [
    "### <font color='red'><u>More Exercises</u></font>\n",
    "You may need to use a search engine to find a formulas for the following exercises: \n",
    "1. <strike>Create a Python expression to convert a weight given in pounds to kilograms</strike>\n",
    "2. <strike>Create a Python expression to convert a temperature given in fahrenheit to celsius</strike>\n",
    "3. <strong><i>Use the quadratic formula to solve the following: $-x^2+8x-1=0$. NOTE: to do this you will need to use the math library. Add the following code to the beginning of your solution: `import math`. You can now use the `sqrt()` method, e.g. `math.sqrt(25)` provides the square root of 25.</i></strong>"
   ]
  },
  {
   "cell_type": "code",
   "execution_count": null,
   "metadata": {
    "deletable": false,
    "id": "AdGb-_3K8_6h",
    "nbgrader": {
     "cell_type": "code",
     "checksum": "2dd38df06f359a6bcb2bcc225bf00b82",
     "grade": false,
     "grade_id": "cell-20ba2ac21f33dd28",
     "locked": false,
     "schema_version": 3,
     "solution": true,
     "task": false
    }
   },
   "outputs": [],
   "source": [
    "#3.\n",
    "# 4 points\n",
    "# please return a list containing the two roots\n",
    "import math\n",
    "def Unit1_quadratic(): #Please round function used to limit output to 2 d.p\n",
    "    # YOUR CODE HERE\n",
    "    raise NotImplementedError()"
   ]
  },
  {
   "cell_type": "code",
   "execution_count": null,
   "metadata": {
    "deletable": false,
    "editable": false,
    "id": "EzEZ-zTd8_6i",
    "nbgrader": {
     "cell_type": "code",
     "checksum": "b2b899b508bbf2a0026cc7db32b5accf",
     "grade": true,
     "grade_id": "cell-a6e0b2fb02235f98",
     "locked": true,
     "points": 4,
     "schema_version": 3,
     "solution": false,
     "task": false
    }
   },
   "outputs": [],
   "source": [
    "import unittest"
   ]
  },
  {
   "cell_type": "markdown",
   "metadata": {
    "id": "Rs7aD-Pz8_6j"
   },
   "source": [
    "### <font color='red'><u>Worksheet Exercises</u></font>\n",
    "1. <strike>Given the following string `Albert Einstein`, use the slicing syntax build the string `Alstein Einbert`</strike>\n",
    "2. <strike>Given a string of odd length (such as `Universal`), use slicing to display a string made of the middle three chars of a given string, e.g. `ver`</strike>\n",
    "string, e.g. `ver`\n",
    "3. <strong><i>Given 2 strings, `s1` and `s2`, create a new string, `s3`, by appending `s2` in the middle of `s1`</i></strong>"
   ]
  },
  {
   "cell_type": "code",
   "execution_count": null,
   "metadata": {
    "deletable": false,
    "id": "6fwmxsws8_6j",
    "nbgrader": {
     "cell_type": "code",
     "checksum": "3db83c1b4752144a8feb7fab0bee3f66",
     "grade": false,
     "grade_id": "cell-61683a1cf8e3a265",
     "locked": false,
     "schema_version": 3,
     "solution": true,
     "task": false
    }
   },
   "outputs": [],
   "source": [
    "# 3. need to use int() to make sure the slice value is an integer\n",
    "# 2 points\n",
    "def Unit1_slicing3():    \n",
    "    s1=\"Hello\"\n",
    "    s2=\"World\"\n",
    "    # YOUR CODE HERE\n",
    "    raise NotImplementedError()"
   ]
  },
  {
   "cell_type": "code",
   "execution_count": null,
   "metadata": {
    "deletable": false,
    "editable": false,
    "id": "WYJXI0mG8_6j",
    "nbgrader": {
     "cell_type": "code",
     "checksum": "1e05263f40c0f61759ae1aacb8af9d6f",
     "grade": true,
     "grade_id": "cell-6d66976c56c3a23e",
     "locked": true,
     "points": 2,
     "schema_version": 3,
     "solution": false,
     "task": false
    }
   },
   "outputs": [],
   "source": []
  },
  {
   "cell_type": "markdown",
   "metadata": {
    "id": "49qW679Q8_6k"
   },
   "source": [
    "# Unit 2 Exercises"
   ]
  },
  {
   "cell_type": "markdown",
   "metadata": {
    "id": "N1SP1lhH8_6k"
   },
   "source": [
    "### <font color='red'><u>Worksheet Exercises</u></font>\n",
    "Take a look at the next list of comparison statements below.\n",
    "\n",
    "1. <strike>Write out a single expression that tests that 7 is not equal to 9.</strike>\n",
    "2. <strike>Write out a single expression that tests that 'a' is equal to 'a'.</strike>\n",
    "3. <strike>Write out a single expression that tests that 10 is greater than 5 and 100 is greater than 50.</strike>\n",
    "4. <strong><i>Write out a single expression that tests that either 12 + 2 is greater than 12 or 4 is equal to 4.</i></strong>\n",
    "5. <strong><i>Write out a single expression that tests that 5 is between 2 and 8.</i></strong> "
   ]
  },
  {
   "cell_type": "code",
   "execution_count": null,
   "metadata": {
    "deletable": false,
    "id": "tGV4I35J8_6l",
    "nbgrader": {
     "cell_type": "code",
     "checksum": "75b965c77a4a89ff36de91e00ac572df",
     "grade": false,
     "grade_id": "cell-badb4be5bda0d269",
     "locked": false,
     "schema_version": 3,
     "solution": true,
     "task": false
    }
   },
   "outputs": [],
   "source": [
    "#4.\n",
    "# 2 points\n",
    "def Unit2_funcomp4():\n",
    "    # YOUR CODE HERE\n",
    "    raise NotImplementedError()"
   ]
  },
  {
   "cell_type": "code",
   "execution_count": null,
   "metadata": {
    "deletable": false,
    "editable": false,
    "id": "W0W80n1T8_6l",
    "nbgrader": {
     "cell_type": "code",
     "checksum": "766263d03d7d3c0c929cfa4468934450",
     "grade": true,
     "grade_id": "cell-cd9eb18ac3d3e52f",
     "locked": true,
     "points": 2,
     "schema_version": 3,
     "solution": false,
     "task": false
    }
   },
   "outputs": [],
   "source": []
  },
  {
   "cell_type": "code",
   "execution_count": null,
   "metadata": {
    "deletable": false,
    "id": "0V6Gj0PE8_6m",
    "nbgrader": {
     "cell_type": "code",
     "checksum": "44b369a727ca4aea8fe2a1a7a93c1f49",
     "grade": false,
     "grade_id": "cell-3c1b46fd7e00b025",
     "locked": false,
     "schema_version": 3,
     "solution": true,
     "task": false
    }
   },
   "outputs": [],
   "source": [
    "#5.\n",
    "# 2 points\n",
    "def Unit2_funcomp5():\n",
    "    # YOUR CODE HERE\n",
    "    raise NotImplementedError()"
   ]
  },
  {
   "cell_type": "code",
   "execution_count": null,
   "metadata": {
    "deletable": false,
    "editable": false,
    "id": "imc2puDy8_6m",
    "nbgrader": {
     "cell_type": "code",
     "checksum": "f00461ed76de464b6a7c1bcc32bff5a9",
     "grade": true,
     "grade_id": "cell-b5a5ba662091d5c8",
     "locked": true,
     "points": 2,
     "schema_version": 3,
     "solution": false,
     "task": false
    }
   },
   "outputs": [],
   "source": []
  },
  {
   "cell_type": "markdown",
   "metadata": {
    "id": "CR0JXSpD8_6n"
   },
   "source": [
    "### <font color='red'><u>Worksheet Exercises</u></font>\n",
    "\n",
    "1. <strike>Write a while loop that prints the word \"Data\" 3 times.</strike>\n",
    "2. <strong><i>Write a while loop that adds the numbers 1 to 10 and prints the result.</i></strong>"
   ]
  },
  {
   "cell_type": "code",
   "execution_count": null,
   "metadata": {
    "deletable": false,
    "id": "aVKddZIi8_6n",
    "nbgrader": {
     "cell_type": "code",
     "checksum": "07107ee4f5eb3f2b7653be4b89f43e71",
     "grade": false,
     "grade_id": "cell-2b3f9b19d02e6e23",
     "locked": false,
     "schema_version": 3,
     "solution": true,
     "task": false
    }
   },
   "outputs": [],
   "source": [
    "#2.\n",
    "# 4 points\n",
    "def Unit2_add1to10():\n",
    "    # solution\n",
    "    total = 0\n",
    "    count = 1\n",
    "    \n",
    "    # YOUR CODE HERE\n",
    "    raise NotImplementedError()\n",
    "    "
   ]
  },
  {
   "cell_type": "code",
   "execution_count": null,
   "metadata": {
    "deletable": false,
    "editable": false,
    "id": "wgtfoaub8_6n",
    "nbgrader": {
     "cell_type": "code",
     "checksum": "e6bd42684183475e9f03c66d7c8e3161",
     "grade": true,
     "grade_id": "cell-6a858406e299d064",
     "locked": true,
     "points": 4,
     "schema_version": 3,
     "solution": false,
     "task": false
    }
   },
   "outputs": [],
   "source": []
  },
  {
   "cell_type": "markdown",
   "metadata": {
    "id": "dM3hk5iu8_6o"
   },
   "source": [
    "# Unit 3 Exercises"
   ]
  },
  {
   "cell_type": "markdown",
   "metadata": {
    "id": "DmiaCfoJ8_6o"
   },
   "source": [
    "### <font color='red'><u>Worksheet Exercises</u></font>\n",
    "1. <strike>Create a list of all the colours in a rainbow</strike>\n",
    "2. <strike>Print the last colour in your list using a negative index</strike>\n",
    "3. <strike>Print all of the colours in your list except `\"Red\"`</strike>\n",
    "4. <strong><i>Print all of the colours in your list in reverse order</i></strong>\n",
    "5. <strong><i>Print the 1st, 3rd, 5th and 7th colours in your list using list slicing</i></strong>"
   ]
  },
  {
   "cell_type": "code",
   "execution_count": null,
   "metadata": {
    "deletable": false,
    "id": "TzoVM2Ou8_6p",
    "nbgrader": {
     "cell_type": "code",
     "checksum": "3d88108040ecbf1d21168c569f79dbac",
     "grade": false,
     "grade_id": "cell-ef9f15653717fdd9",
     "locked": false,
     "schema_version": 3,
     "solution": true,
     "task": false
    }
   },
   "outputs": [],
   "source": [
    "rainbow = ['Red', 'Orange', 'Yellow', 'Green', 'Blue', 'Indigo', 'Violet']\n",
    "#4.\n",
    "# 3 points\n",
    "def Unit3_reverse_order_colours():\n",
    "    # YOUR CODE HERE\n",
    "    raise NotImplementedError()"
   ]
  },
  {
   "cell_type": "code",
   "execution_count": null,
   "metadata": {
    "deletable": false,
    "editable": false,
    "id": "5pQ4zU2L8_6q",
    "nbgrader": {
     "cell_type": "code",
     "checksum": "724373f89a54b5a393550c6529c26dce",
     "grade": true,
     "grade_id": "cell-fcd3db6ad17a7cd5",
     "locked": true,
     "points": 3,
     "schema_version": 3,
     "solution": false,
     "task": false
    }
   },
   "outputs": [],
   "source": []
  },
  {
   "cell_type": "code",
   "execution_count": null,
   "metadata": {
    "deletable": false,
    "id": "7-7Vw2uk8_6q",
    "nbgrader": {
     "cell_type": "code",
     "checksum": "29aca4b40390db5952c27e1a2c8f6bfc",
     "grade": false,
     "grade_id": "cell-af6bb5c1f9ed70ad",
     "locked": false,
     "schema_version": 3,
     "solution": true,
     "task": false
    }
   },
   "outputs": [],
   "source": [
    "#5.\n",
    "# 3 points\n",
    "def Unit3_return_1357th():\n",
    "    # YOUR CODE HERE\n",
    "    raise NotImplementedError()"
   ]
  },
  {
   "cell_type": "code",
   "execution_count": null,
   "metadata": {
    "deletable": false,
    "editable": false,
    "id": "wDp8nU9g8_6q",
    "nbgrader": {
     "cell_type": "code",
     "checksum": "bd0113f01bf7587c5be8d5e1c0d6dfb4",
     "grade": true,
     "grade_id": "cell-d43dad4e6ffe1ee4",
     "locked": true,
     "points": 3,
     "schema_version": 3,
     "solution": false,
     "task": false
    }
   },
   "outputs": [],
   "source": []
  },
  {
   "cell_type": "markdown",
   "metadata": {
    "id": "aGzNLQ5L8_6s"
   },
   "source": [
    "### <font color='red'><u>Worksheet Exercises</u></font>\n",
    "1. <strike>Create a list of all the numbers between 1-20 using a comprehension</strike>\n",
    "2. <strike>Create a list of all then numbers between 23-41 using a comprehension</strike>\n",
    "3. <strike>Find all of the numbers between 1-100 that have a 3 in them</strike>\n",
    "4. <strike>Create a list of strings for all the numbers between 1-20 where the word 'even' is used for all even numbers and the word 'odd' for all odd numbers, e.g. `['odd','even','odd',....'even']`.</strike>\n",
    "5. <strong><i>Create a list that contains only the numbers in the following sentence 'In 1984 there were 13 instances of a protest with over 1000 people attending'</i></strong>"
   ]
  },
  {
   "cell_type": "code",
   "execution_count": null,
   "metadata": {
    "deletable": false,
    "id": "AKjujemX8_6s",
    "nbgrader": {
     "cell_type": "code",
     "checksum": "da820ff8bf2ddb4204c46185c9cc8377",
     "grade": false,
     "grade_id": "cell-3d1b8e2e0684ccd1",
     "locked": false,
     "schema_version": 3,
     "solution": true,
     "task": false
    }
   },
   "outputs": [],
   "source": [
    "# 5.\n",
    "# 4 points\n",
    "def Unit3_returnonlynumber(): \n",
    "    # YOUR CODE HERE\n",
    "    raise NotImplementedError()\n"
   ]
  },
  {
   "cell_type": "code",
   "execution_count": null,
   "metadata": {
    "deletable": false,
    "editable": false,
    "id": "RzHLLpO_8_6t",
    "nbgrader": {
     "cell_type": "code",
     "checksum": "7af1bc46bab94920166f9cdd57a0f563",
     "grade": true,
     "grade_id": "cell-339d13bb82d0d57b",
     "locked": true,
     "points": 4,
     "schema_version": 3,
     "solution": false,
     "task": false
    }
   },
   "outputs": [],
   "source": []
  },
  {
   "cell_type": "markdown",
   "metadata": {
    "id": "daicAWib8_6t"
   },
   "source": [
    "### <font color='red'><u>Worksheet Exercises</u></font>\n",
    "1. <strike>Create a tuple called `primes` with the following values: 2,3,5,7,11,13,17,19,23,29,31,37,41,43,47</strike>\n",
    "2. <strike>Add the next 4 prime numbers to `prime`</strike>\n",
    "3. <strike>Print only those prime numbers in `prime` with a number 3 in them</strike>\n",
    "4. <strike>Unpack the following tuple into the variable `forename` and `surname`: `('Dave','Wyatt')`</strike>\n",
    "5. <strong><i>Given the following two lists of areas and telephone area codes, use the `zip()` function to create a tuple of area:area code pairs:</i></strong>\n",
    "| <div align=\"center\">area</div> | <div align=\"center\">Area Code</div> |\n",
    "|---|---|\n",
    "| <div align=\"center\">Leeds</div> | <div align=\"center\">0113</div> | \n",
    "| <div align=\"center\">Sheffield</div> | <div align=\"center\">0114</div> |\n",
    "| <div align=\"center\">Nottingham</div> | <div align=\"center\">0115</div> |\n",
    "| <div align=\"center\">Leicester</div> | <div align=\"center\">0116</div> |\n",
    "| <div align=\"center\">Bristol</div> | <div align=\"center\">0117</div> |\n",
    "| <div align=\"center\">Reading</div> | <div align=\"center\">0118</div> |"
   ]
  },
  {
   "cell_type": "code",
   "execution_count": null,
   "metadata": {
    "deletable": false,
    "id": "u4bNV3Cv8_6u",
    "nbgrader": {
     "cell_type": "code",
     "checksum": "4c3a8adab21be9ae4ea2aec32b294a66",
     "grade": false,
     "grade_id": "cell-d349ad537da14898",
     "locked": false,
     "schema_version": 3,
     "solution": true,
     "task": false
    }
   },
   "outputs": [],
   "source": [
    "# 5.\n",
    "# 3 points\n",
    "def Unit3_create_tup_pair():\n",
    "    # YOUR CODE HERE\n",
    "    raise NotImplementedError()"
   ]
  },
  {
   "cell_type": "code",
   "execution_count": null,
   "metadata": {
    "deletable": false,
    "editable": false,
    "id": "N7GYPANF8_6u",
    "nbgrader": {
     "cell_type": "code",
     "checksum": "37ff15ab6ede10953e84da5e61e9b9d8",
     "grade": true,
     "grade_id": "cell-d9df10e60f464d9c",
     "locked": true,
     "points": 4,
     "schema_version": 3,
     "solution": false,
     "task": false
    }
   },
   "outputs": [],
   "source": []
  },
  {
   "cell_type": "markdown",
   "metadata": {
    "id": "GtpdIwu48_6u"
   },
   "source": [
    "### <font color='red'><u>Worksheet Exercises</u></font>\n",
    "1. <strike>Create a set of vowels in the English language</strike>\n",
    "2. <strike>Given a string, print all the vowels contained within the string</strike>\n",
    "3. <strike>Adjust your previous answer to create a set of the vowels contained within the string</strike>\n",
    "4. <strike>Convert the two strings `'Python is cool'` and `'Programming can be fun'` into two different sets (using the `set()` function) before attempting the following:</strike><br/>\n",
    "&nbsp;&nbsp;&nbsp;&nbsp;a. <strike>What characters do these strings have in common?</strike><br/>\n",
    "&nbsp;&nbsp;&nbsp;&nbsp;b. <strike>How many unique characters are there in both strings?</strike><br/>\n",
    "&nbsp;&nbsp;&nbsp;&nbsp;c. <strike>Which characters are in the first string but not in the second string?</strike><br/>\n",
    "&nbsp;&nbsp;&nbsp;&nbsp;d. <strong><i>Which vowels are in the second string but not in the first string?</i></strong>"
   ]
  },
  {
   "cell_type": "code",
   "execution_count": null,
   "metadata": {
    "deletable": false,
    "id": "3wl7VwpG8_6v",
    "nbgrader": {
     "cell_type": "code",
     "checksum": "b561676482dccc1145e41beb09c5d406",
     "grade": false,
     "grade_id": "cell-31e945197fa86f48",
     "locked": false,
     "schema_version": 3,
     "solution": true,
     "task": false
    }
   },
   "outputs": [],
   "source": [
    "# 4d.\n",
    "# 3 points\n",
    "# please use vowels, set1 and set2 variables to create your answer for question 4d\n",
    "vowels = {'a','e','i','o','u'}\n",
    "set1=set('Python is cool')\n",
    "set2=set('Programming can be fun')\n",
    "def Unit3_vowelsinsecond_notinfirst():\n",
    "    # YOUR CODE HERE\n",
    "    raise NotImplementedError()"
   ]
  },
  {
   "cell_type": "code",
   "execution_count": null,
   "metadata": {
    "deletable": false,
    "editable": false,
    "id": "vN7gFDJH8_6v",
    "nbgrader": {
     "cell_type": "code",
     "checksum": "29054f511b1158da4516778282ab0a96",
     "grade": true,
     "grade_id": "cell-4e7ecfc21b3238cb",
     "locked": true,
     "points": 3,
     "schema_version": 3,
     "solution": false,
     "task": false
    }
   },
   "outputs": [],
   "source": []
  },
  {
   "cell_type": "markdown",
   "metadata": {
    "id": "XAVMFXN18_6v"
   },
   "source": [
    "# Unit 5 Exercises"
   ]
  },
  {
   "cell_type": "markdown",
   "metadata": {
    "id": "z41iTb__8_6v"
   },
   "source": [
    "### <font color='red'><u>Worksheet Exercises</u></font>\n",
    "1. <strike>Find the minimum, maximum and mean average of the following list of numbers:  `37.14, 32.53, 62.21, 96.55, 44.68, 31.18, 34.29, 27.22, 63.13, 54.09, 59.66, 23.3, 88.93, 71.63, 99.1, 93.86, 65.13, 96.81, 10.23, 64.06`</strike>\n",
    "2. <strike>Using the `filter()` function, show all the prime numbers between 2 and 100.</strike>\n",
    "3. <strike>Using the `map()` and `len()` functions, create a Tuple containing the length of each string in the following List: `['Dave', 'Jan', 'Rhys', 'Khoa']`</strike>\n",
    "4. <strike>Using the `sorted()` function and an appropriate function, sort the following Dictionary by value string length: `{ 'Colorado':'Rockies', 'Boston':'Red Sox', 'Minnesota':'Twins', 'Milwaukee':'Brewers', 'Seattle':'Mariners'}`</strike>\n",
    "5. <strong><i>Given the following two lists, use the `zip()` and `dict()` functions to create a new Dictionary: `keys = [\"First Name\", \"Last Name\", \"Workshop Room\", \"Time\"]` and `values = [\"Dave\", \"Wyatt\", \"3Q44\", \"4-6pm\"]`</i></strong>"
   ]
  },
  {
   "cell_type": "code",
   "execution_count": null,
   "metadata": {
    "deletable": false,
    "id": "ZhL75r_E8_6w",
    "nbgrader": {
     "cell_type": "code",
     "checksum": "061da77a8668305878e21d546edc0905",
     "grade": false,
     "grade_id": "cell-0ff04d12fd81363d",
     "locked": false,
     "schema_version": 3,
     "solution": true,
     "task": false
    }
   },
   "outputs": [],
   "source": [
    "# 5.\n",
    "# 2 points\n",
    "def Unit5_newdic():\n",
    "    keys = [\"First Name\", \"Last Name\", \"Workshop Room\", \"Time\"]\n",
    "    values = [\"Dave\", \"Wyatt\", \"3Q44\", \"4-6pm\"]\n",
    "    # YOUR CODE HERE\n",
    "    raise NotImplementedError()"
   ]
  },
  {
   "cell_type": "code",
   "execution_count": null,
   "metadata": {
    "deletable": false,
    "editable": false,
    "id": "Fjm_mxRb8_6w",
    "nbgrader": {
     "cell_type": "code",
     "checksum": "54f3e881e83e902466ef08de13173385",
     "grade": true,
     "grade_id": "cell-63e3039d92131218",
     "locked": true,
     "points": 2,
     "schema_version": 3,
     "solution": false,
     "task": false
    }
   },
   "outputs": [],
   "source": []
  },
  {
   "cell_type": "markdown",
   "metadata": {
    "id": "GyzU5-bx8_6x"
   },
   "source": [
    "### <font color='red'><u>Worksheet Exercises</u></font>\n",
    "1. <strike>Write a Python program that accepts a comma separated sequence of words as input and prints the unique words in sorted form (alphanumerically).</strike>\n",
    "2. <strike>Write a Python program that finds the first occurrence of the substrings `'not'` and `'poor'` in a given string. If the `not` occurs before `poor`, then replace the whole substring between `'not...poor'` with the string`'good'`, e.g. the `not that poor` substring in `The weather is not that poor` would replaced by the substring `good` resulting in `The weather is good`.</strike>\n",
    "3. <strike>Write a Python program to compute sum of all digits in a given string, e.g. `'123abcd45'` would result in the sum `15`</strike>\n",
    "4. <strike>Write a Python program to remove unwanted characters from a given string assuming the unwanted characters are given in a List. For this exercise use the following List: `['#', '*', '!', '^', '%']`</strike>\n",
    "5. <strong><i>Given a incorrectly formatted IP address (such as `164. 11.  4. 40`) where each part of the address may include leading whitespace, write a Python program to remove the leading whitespace and add an appropriate web protocol, e.g. `http://164.11.4.40`</i></strong>"
   ]
  },
  {
   "cell_type": "code",
   "execution_count": null,
   "metadata": {
    "deletable": false,
    "id": "yMvRmBsZ8_6x",
    "nbgrader": {
     "cell_type": "code",
     "checksum": "f8ba3372e06c6f02643bcb1cb68276f8",
     "grade": false,
     "grade_id": "cell-4be3df4589fe22a0",
     "locked": false,
     "schema_version": 3,
     "solution": true,
     "task": false
    }
   },
   "outputs": [],
   "source": [
    "# 5.\n",
    "# 2 points\n",
    "def Unit5_correctIP():\n",
    "    badIP = '164. 11.  4. 40'\n",
    "    # use strip function to remove leading spaces from each substring split on '.'\n",
    "    # YOUR CODE HERE\n",
    "    raise NotImplementedError()"
   ]
  },
  {
   "cell_type": "code",
   "execution_count": null,
   "metadata": {
    "deletable": false,
    "editable": false,
    "id": "d-WOuEPQ8_6y",
    "nbgrader": {
     "cell_type": "code",
     "checksum": "1e92f016874781be1583fba469c2b5a1",
     "grade": true,
     "grade_id": "cell-4e020cc14249c815",
     "locked": true,
     "points": 2,
     "schema_version": 3,
     "solution": false,
     "task": false
    }
   },
   "outputs": [],
   "source": []
  },
  {
   "cell_type": "markdown",
   "metadata": {
    "id": "t0o1lr-C8_6z"
   },
   "source": [
    "# Unit 6 Exercises"
   ]
  },
  {
   "cell_type": "markdown",
   "metadata": {
    "id": "6d2iYIhT8_60"
   },
   "source": [
    "### <font color='red'><u>Worksheet Exercises</u></font>\n",
    "1. <strike>Create a one-dimensional NumPy array with 100 32-bit unsigned integers all initialised to zero</strike>\n",
    "2. <strike>Create a one-dimensional NumPy array with the even numbers between 1 and 20 in reverse order, e.g. 20, 18, 16, 14,...</strike>\n",
    "3. <strike>Create a one-dimensional NumPy array with 12 evenly spaced between 1 and 100</strike>\n",
    "4. <strike>Create a two-dimensional NumPy array with 5 rows and 2 columns of double precision float values all initialised to 1</strike>\n",
    "5. <strong><i>Create a one-dimensional NumPy array with 10 random numbers generated from a normal distribution with a mean 100 and standard deviation 15</i></strong>\n",
    "6. <strong><i>Create a three-dimensional NumPy array with 3x3x3 elements each initialised with the value 10</i></strong>\n",
    "7. <strong><i>Create a two dimensional NumPy array with 2x3 8-bit byte values using the following given values (hint: use a List or Tuple):</i></strong>\n",
    "```\n",
    "1 6\n",
    "2 5\n",
    "4 3\n",
    "```"
   ]
  },
  {
   "cell_type": "code",
   "execution_count": null,
   "metadata": {
    "deletable": false,
    "id": "rbiW9sKr8_62",
    "nbgrader": {
     "cell_type": "code",
     "checksum": "55b103f35114f763d2935c64b35b7aff",
     "grade": false,
     "grade_id": "cell-9cff654316e2a9b6",
     "locked": false,
     "schema_version": 3,
     "solution": true,
     "task": false
    }
   },
   "outputs": [],
   "source": [
    "# 5.\n",
    "# 2 points\n",
    "def Unit6_q5():\n",
    "    # YOUR CODE HERE\n",
    "    raise NotImplementedError()"
   ]
  },
  {
   "cell_type": "code",
   "execution_count": null,
   "metadata": {
    "deletable": false,
    "editable": false,
    "id": "8qsqF-FU8_62",
    "nbgrader": {
     "cell_type": "code",
     "checksum": "23eb26f482d9ecd9389af6a610c67cff",
     "grade": true,
     "grade_id": "cell-e9e2b481394a56d2",
     "locked": true,
     "points": 2,
     "schema_version": 3,
     "solution": false,
     "task": false
    }
   },
   "outputs": [],
   "source": [
    "\n",
    "import numpy as np"
   ]
  },
  {
   "cell_type": "code",
   "execution_count": null,
   "metadata": {
    "deletable": false,
    "id": "s5fRNWXS8_63",
    "nbgrader": {
     "cell_type": "code",
     "checksum": "c27e825004a42d162ca74cc4f8919c0b",
     "grade": false,
     "grade_id": "cell-aeb2c156e6525d5d",
     "locked": false,
     "schema_version": 3,
     "solution": true,
     "task": false
    }
   },
   "outputs": [],
   "source": [
    "# 6.\n",
    "# 2 points\n",
    "def Unit6_q6():\n",
    "    # YOUR CODE HERE\n",
    "    raise NotImplementedError()"
   ]
  },
  {
   "cell_type": "code",
   "execution_count": null,
   "metadata": {
    "deletable": false,
    "editable": false,
    "id": "qyE-LE8V8_63",
    "nbgrader": {
     "cell_type": "code",
     "checksum": "1ace0b0ef78e6fcc38a44d5bb4cda788",
     "grade": true,
     "grade_id": "cell-3849e6ea2d6f72ea",
     "locked": true,
     "points": 2,
     "schema_version": 3,
     "solution": false,
     "task": false
    }
   },
   "outputs": [],
   "source": []
  },
  {
   "cell_type": "code",
   "execution_count": null,
   "metadata": {
    "deletable": false,
    "id": "m22_9diL8_64",
    "nbgrader": {
     "cell_type": "code",
     "checksum": "8bd442bef12e791c2fe3088e2090ccbc",
     "grade": false,
     "grade_id": "cell-ceeebfe2f749de01",
     "locked": false,
     "schema_version": 3,
     "solution": true,
     "task": false
    }
   },
   "outputs": [],
   "source": [
    "# 7.\n",
    "# 2 points\n",
    "# (hint: use a List or Tuple):\n",
    "def Unit6_q7():\n",
    "    # YOUR CODE HERE\n",
    "    raise NotImplementedError()"
   ]
  },
  {
   "cell_type": "code",
   "execution_count": null,
   "metadata": {
    "deletable": false,
    "editable": false,
    "id": "lv6vt_GA8_65",
    "nbgrader": {
     "cell_type": "code",
     "checksum": "6619663c87bfc35783c79f9872e668da",
     "grade": true,
     "grade_id": "cell-2851fc1983068315",
     "locked": true,
     "points": 2,
     "schema_version": 3,
     "solution": false,
     "task": false
    }
   },
   "outputs": [],
   "source": []
  },
  {
   "cell_type": "markdown",
   "metadata": {
    "id": "1a66I19G8_66"
   },
   "source": [
    "### <font color='red'><u>Worksheet Exercises</u></font>\n",
    "1. <strike>Output the total size (in bytes) of the following NumPy array: `np.full((3, 5), 3.14)`</strike>\n",
    "2. <strike>Output the type of data used for values stored in the NumPy array created in 1. above</strike>\n",
    "3. <strike>Create a one-dimensional array with the numbers 1 to 10. Now, print the last element using a negative index.</strike>\n",
    "4. <strike>Using the array created in 3., change the 4th element to -1</strike>\n",
    "5. <strike>Using advanced indexing on the array created in 3. to also change the 2nd, 7th and 8th elements to -1</strike>\n",
    "6. <strong><i>Create a two-dimensional array of 5x5 32-bit unsigned integers and initialise it to zero. Using array slicing, update the array to match the following:</i></strong>\n",
    "```\n",
    "0 0 0 0 0\n",
    "0 1 1 1 0\n",
    "0 1 1 1 0\n",
    "0 1 1 1 0\n",
    "0 0 0 0 0\n",
    "```"
   ]
  },
  {
   "cell_type": "code",
   "execution_count": null,
   "metadata": {
    "deletable": false,
    "id": "huRiebVV8_66",
    "nbgrader": {
     "cell_type": "code",
     "checksum": "fb6e05ec4a8297358bdecdb281130615",
     "grade": false,
     "grade_id": "cell-49802f03013e10c4",
     "locked": false,
     "schema_version": 3,
     "solution": true,
     "task": false
    }
   },
   "outputs": [],
   "source": [
    "# 6.\n",
    "# 2 points\n",
    "def Unit6_make2dimarr():\n",
    "    # YOUR CODE HERE\n",
    "    raise NotImplementedError()"
   ]
  },
  {
   "cell_type": "code",
   "execution_count": null,
   "metadata": {
    "deletable": false,
    "editable": false,
    "id": "9jMKZy6j8_67",
    "nbgrader": {
     "cell_type": "code",
     "checksum": "7c0e086ea9e666454c546da57008840f",
     "grade": true,
     "grade_id": "cell-719b32a9af218a38",
     "locked": true,
     "points": 2,
     "schema_version": 3,
     "solution": false,
     "task": false
    }
   },
   "outputs": [],
   "source": []
  },
  {
   "cell_type": "markdown",
   "metadata": {
    "id": "pTYKL1WZ8_68"
   },
   "source": [
    "### <font color='red'><u>Worksheet Exercises</u></font>\n",
    "1. <strong><i>Create a one-dimensional NumPy array of 64 numbers ranging from 1 to 64. Now reshape this array into a grid of 8 x 8 elements.</i></strong>\n",
    "2. <strike>Create two one-dimensional NumPy arrays of 8 alternating 0s and 1s. The first array should begin with a 1; the second array with a 0, i.e. 10101010 and 01010101. Now, use the `concatenate()` and `reshape()` functions to build a checkerboard of 8 x 8 elements</strike>\n",
    "3. <strike>Given the following grid of 25 values, extract the central 3 x 3 sub-grid of `9`s from the larger grid using the `split()` function:\n",
    "```\n",
    "1 2 3 4 5\n",
    "1 9 9 9 5\n",
    "1 9 9 9 5\n",
    "1 9 9 9 5\n",
    "1 2 3 4 5\n",
    "```</strike>"
   ]
  },
  {
   "cell_type": "code",
   "execution_count": null,
   "metadata": {
    "deletable": false,
    "id": "y94NcmcI8_68",
    "nbgrader": {
     "cell_type": "code",
     "checksum": "fadc755af0be6853ec2297856bffdef3",
     "grade": false,
     "grade_id": "cell-13364c663a476f4b",
     "locked": false,
     "schema_version": 3,
     "solution": true,
     "task": false
    }
   },
   "outputs": [],
   "source": [
    "import numpy as np\n",
    "\n",
    "# 1.\n",
    "# 4 points\n",
    "def Unit6_reshape8by8():\n",
    "    # YOUR CODE HERE\n",
    "    raise NotImplementedError()"
   ]
  },
  {
   "cell_type": "code",
   "execution_count": null,
   "metadata": {
    "deletable": false,
    "editable": false,
    "id": "4JrnBFah8_69",
    "nbgrader": {
     "cell_type": "code",
     "checksum": "426dbd4e730c23c4bf89a39eb3659d21",
     "grade": true,
     "grade_id": "cell-3cd35892433ae987",
     "locked": true,
     "points": 4,
     "schema_version": 3,
     "solution": false,
     "task": false
    }
   },
   "outputs": [],
   "source": []
  }
 ],
 "metadata": {
  "colab": {
   "collapsed_sections": [
    "_PlvIYOf8_6g",
    "Rs7aD-Pz8_6j",
    "N1SP1lhH8_6k",
    "CR0JXSpD8_6n",
    "DmiaCfoJ8_6o",
    "aGzNLQ5L8_6s",
    "daicAWib8_6t",
    "GtpdIwu48_6u",
    "z41iTb__8_6v",
    "GyzU5-bx8_6x",
    "6d2iYIhT8_60",
    "1a66I19G8_66",
    "pTYKL1WZ8_68"
   ],
   "provenance": []
  },
  "kernelspec": {
   "display_name": "Python 3 (ipykernel)",
   "language": "python",
   "name": "python3"
  },
  "language_info": {
   "codemirror_mode": {
    "name": "ipython",
    "version": 3
   },
   "file_extension": ".py",
   "mimetype": "text/x-python",
   "name": "python",
   "nbconvert_exporter": "python",
   "pygments_lexer": "ipython3",
   "version": "3.9.7"
  }
 },
 "nbformat": 4,
 "nbformat_minor": 1
}
