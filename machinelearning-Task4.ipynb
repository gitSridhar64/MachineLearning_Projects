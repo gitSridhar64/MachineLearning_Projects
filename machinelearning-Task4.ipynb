{
 "cells": [
  {
   "cell_type": "markdown",
   "metadata": {
    "id": "jblFE5gi36cF"
   },
   "source": [
    "# Importing libraries"
   ]
  },
  {
   "cell_type": "code",
   "execution_count": 18,
   "metadata": {
    "id": "aYT1Yke7tW22"
   },
   "outputs": [],
   "source": [
    "import numpy as numpy\n",
    "import pandas as pd\n",
    "import nltk\n",
    "from nltk.corpus import stopwords\n",
    "import string"
   ]
  },
  {
   "cell_type": "markdown",
   "metadata": {},
   "source": [
    "# Importing dataset\n",
    "\n"
   ]
  },
  {
   "cell_type": "code",
   "execution_count": 19,
   "metadata": {
    "colab": {
     "base_uri": "https://localhost:8080/",
     "height": 206
    },
    "id": "SVqbBDI8tzdM",
    "outputId": "6c485d69-1c92-4f3c-e382-a027002ac582"
   },
   "outputs": [],
   "source": [
    "dataframe = pd.read_csv('processed_reviews_split_surnamesR_minimal.csv')"
   ]
  },
  {
   "cell_type": "code",
   "execution_count": 20,
   "metadata": {},
   "outputs": [
    {
     "data": {
      "text/html": [
       "<div>\n",
       "<style scoped>\n",
       "    .dataframe tbody tr th:only-of-type {\n",
       "        vertical-align: middle;\n",
       "    }\n",
       "\n",
       "    .dataframe tbody tr th {\n",
       "        vertical-align: top;\n",
       "    }\n",
       "\n",
       "    .dataframe thead th {\n",
       "        text-align: right;\n",
       "    }\n",
       "</style>\n",
       "<table border=\"1\" class=\"dataframe\">\n",
       "  <thead>\n",
       "    <tr style=\"text-align: right;\">\n",
       "      <th></th>\n",
       "      <th>review_id</th>\n",
       "      <th>text</th>\n",
       "      <th>verified</th>\n",
       "      <th>review_score</th>\n",
       "      <th>product_category</th>\n",
       "    </tr>\n",
       "  </thead>\n",
       "  <tbody>\n",
       "    <tr>\n",
       "      <th>0</th>\n",
       "      <td>product_review_000000</td>\n",
       "      <td>I am one of those people who had Gran Turismo ...</td>\n",
       "      <td>False</td>\n",
       "      <td>1.0</td>\n",
       "      <td>video_games</td>\n",
       "    </tr>\n",
       "    <tr>\n",
       "      <th>1</th>\n",
       "      <td>product_review_000001</td>\n",
       "      <td>This game is awful for several reasons.\\n1.  T...</td>\n",
       "      <td>False</td>\n",
       "      <td>1.0</td>\n",
       "      <td>video_games</td>\n",
       "    </tr>\n",
       "    <tr>\n",
       "      <th>2</th>\n",
       "      <td>product_review_000002</td>\n",
       "      <td>This case is great for travel with the 3Ds or ...</td>\n",
       "      <td>False</td>\n",
       "      <td>5.0</td>\n",
       "      <td>video_games</td>\n",
       "    </tr>\n",
       "    <tr>\n",
       "      <th>3</th>\n",
       "      <td>product_review_000003</td>\n",
       "      <td>My go-to mic cable for quite a few years now. ...</td>\n",
       "      <td>True</td>\n",
       "      <td>5.0</td>\n",
       "      <td>musical_instruments</td>\n",
       "    </tr>\n",
       "    <tr>\n",
       "      <th>4</th>\n",
       "      <td>product_review_000004</td>\n",
       "      <td>The left one falls fairly frequently even when...</td>\n",
       "      <td>True</td>\n",
       "      <td>4.0</td>\n",
       "      <td>video_games</td>\n",
       "    </tr>\n",
       "  </tbody>\n",
       "</table>\n",
       "</div>"
      ],
      "text/plain": [
       "               review_id                                               text  \\\n",
       "0  product_review_000000  I am one of those people who had Gran Turismo ...   \n",
       "1  product_review_000001  This game is awful for several reasons.\\n1.  T...   \n",
       "2  product_review_000002  This case is great for travel with the 3Ds or ...   \n",
       "3  product_review_000003  My go-to mic cable for quite a few years now. ...   \n",
       "4  product_review_000004  The left one falls fairly frequently even when...   \n",
       "\n",
       "  verified  review_score     product_category  \n",
       "0    False           1.0          video_games  \n",
       "1    False           1.0          video_games  \n",
       "2    False           5.0          video_games  \n",
       "3     True           5.0  musical_instruments  \n",
       "4     True           4.0          video_games  "
      ]
     },
     "execution_count": 20,
     "metadata": {},
     "output_type": "execute_result"
    }
   ],
   "source": [
    "dataframe.head()"
   ]
  },
  {
   "cell_type": "code",
   "execution_count": 21,
   "metadata": {
    "colab": {
     "base_uri": "https://localhost:8080/",
     "height": 300
    },
    "id": "kV2ZQBX2vA4H",
    "outputId": "dafee7ab-9ea8-47cf-d75b-d41e24e04226"
   },
   "outputs": [
    {
     "data": {
      "text/html": [
       "<div>\n",
       "<style scoped>\n",
       "    .dataframe tbody tr th:only-of-type {\n",
       "        vertical-align: middle;\n",
       "    }\n",
       "\n",
       "    .dataframe tbody tr th {\n",
       "        vertical-align: top;\n",
       "    }\n",
       "\n",
       "    .dataframe thead th {\n",
       "        text-align: right;\n",
       "    }\n",
       "</style>\n",
       "<table border=\"1\" class=\"dataframe\">\n",
       "  <thead>\n",
       "    <tr style=\"text-align: right;\">\n",
       "      <th></th>\n",
       "      <th>review_score</th>\n",
       "    </tr>\n",
       "  </thead>\n",
       "  <tbody>\n",
       "    <tr>\n",
       "      <th>count</th>\n",
       "      <td>32917.000000</td>\n",
       "    </tr>\n",
       "    <tr>\n",
       "      <th>mean</th>\n",
       "      <td>4.090440</td>\n",
       "    </tr>\n",
       "    <tr>\n",
       "      <th>std</th>\n",
       "      <td>1.434135</td>\n",
       "    </tr>\n",
       "    <tr>\n",
       "      <th>min</th>\n",
       "      <td>-1.000000</td>\n",
       "    </tr>\n",
       "    <tr>\n",
       "      <th>25%</th>\n",
       "      <td>4.000000</td>\n",
       "    </tr>\n",
       "    <tr>\n",
       "      <th>50%</th>\n",
       "      <td>5.000000</td>\n",
       "    </tr>\n",
       "    <tr>\n",
       "      <th>75%</th>\n",
       "      <td>5.000000</td>\n",
       "    </tr>\n",
       "    <tr>\n",
       "      <th>max</th>\n",
       "      <td>5.000000</td>\n",
       "    </tr>\n",
       "  </tbody>\n",
       "</table>\n",
       "</div>"
      ],
      "text/plain": [
       "       review_score\n",
       "count  32917.000000\n",
       "mean       4.090440\n",
       "std        1.434135\n",
       "min       -1.000000\n",
       "25%        4.000000\n",
       "50%        5.000000\n",
       "75%        5.000000\n",
       "max        5.000000"
      ]
     },
     "execution_count": 21,
     "metadata": {},
     "output_type": "execute_result"
    }
   ],
   "source": [
    "dataframe.describe()"
   ]
  },
  {
   "cell_type": "markdown",
   "metadata": {},
   "source": [
    "# Checking duplicates for removing them"
   ]
  },
  {
   "cell_type": "code",
   "execution_count": 22,
   "metadata": {
    "id": "AN4v0rLUvLEQ"
   },
   "outputs": [],
   "source": [
    "dataframe.drop_duplicates(inplace=True)"
   ]
  },
  {
   "cell_type": "markdown",
   "metadata": {},
   "source": [
    "# Checking for null values"
   ]
  },
  {
   "cell_type": "code",
   "execution_count": 23,
   "metadata": {
    "colab": {
     "base_uri": "https://localhost:8080/",
     "height": 424
    },
    "id": "TxRg9VqrvLjI",
    "outputId": "2f916b70-fc0a-4b6a-cc29-070161e23aa7"
   },
   "outputs": [
    {
     "data": {
      "text/html": [
       "<div>\n",
       "<style scoped>\n",
       "    .dataframe tbody tr th:only-of-type {\n",
       "        vertical-align: middle;\n",
       "    }\n",
       "\n",
       "    .dataframe tbody tr th {\n",
       "        vertical-align: top;\n",
       "    }\n",
       "\n",
       "    .dataframe thead th {\n",
       "        text-align: right;\n",
       "    }\n",
       "</style>\n",
       "<table border=\"1\" class=\"dataframe\">\n",
       "  <thead>\n",
       "    <tr style=\"text-align: right;\">\n",
       "      <th></th>\n",
       "      <th>review_id</th>\n",
       "      <th>text</th>\n",
       "      <th>verified</th>\n",
       "      <th>review_score</th>\n",
       "      <th>product_category</th>\n",
       "    </tr>\n",
       "  </thead>\n",
       "  <tbody>\n",
       "    <tr>\n",
       "      <th>0</th>\n",
       "      <td>False</td>\n",
       "      <td>False</td>\n",
       "      <td>False</td>\n",
       "      <td>False</td>\n",
       "      <td>False</td>\n",
       "    </tr>\n",
       "    <tr>\n",
       "      <th>1</th>\n",
       "      <td>False</td>\n",
       "      <td>False</td>\n",
       "      <td>False</td>\n",
       "      <td>False</td>\n",
       "      <td>False</td>\n",
       "    </tr>\n",
       "    <tr>\n",
       "      <th>2</th>\n",
       "      <td>False</td>\n",
       "      <td>False</td>\n",
       "      <td>False</td>\n",
       "      <td>False</td>\n",
       "      <td>False</td>\n",
       "    </tr>\n",
       "    <tr>\n",
       "      <th>3</th>\n",
       "      <td>False</td>\n",
       "      <td>False</td>\n",
       "      <td>False</td>\n",
       "      <td>False</td>\n",
       "      <td>False</td>\n",
       "    </tr>\n",
       "    <tr>\n",
       "      <th>4</th>\n",
       "      <td>False</td>\n",
       "      <td>False</td>\n",
       "      <td>False</td>\n",
       "      <td>False</td>\n",
       "      <td>False</td>\n",
       "    </tr>\n",
       "    <tr>\n",
       "      <th>...</th>\n",
       "      <td>...</td>\n",
       "      <td>...</td>\n",
       "      <td>...</td>\n",
       "      <td>...</td>\n",
       "      <td>...</td>\n",
       "    </tr>\n",
       "    <tr>\n",
       "      <th>32912</th>\n",
       "      <td>False</td>\n",
       "      <td>False</td>\n",
       "      <td>False</td>\n",
       "      <td>False</td>\n",
       "      <td>False</td>\n",
       "    </tr>\n",
       "    <tr>\n",
       "      <th>32913</th>\n",
       "      <td>False</td>\n",
       "      <td>False</td>\n",
       "      <td>False</td>\n",
       "      <td>False</td>\n",
       "      <td>False</td>\n",
       "    </tr>\n",
       "    <tr>\n",
       "      <th>32914</th>\n",
       "      <td>False</td>\n",
       "      <td>False</td>\n",
       "      <td>False</td>\n",
       "      <td>False</td>\n",
       "      <td>False</td>\n",
       "    </tr>\n",
       "    <tr>\n",
       "      <th>32915</th>\n",
       "      <td>False</td>\n",
       "      <td>False</td>\n",
       "      <td>False</td>\n",
       "      <td>False</td>\n",
       "      <td>False</td>\n",
       "    </tr>\n",
       "    <tr>\n",
       "      <th>32916</th>\n",
       "      <td>False</td>\n",
       "      <td>False</td>\n",
       "      <td>False</td>\n",
       "      <td>False</td>\n",
       "      <td>False</td>\n",
       "    </tr>\n",
       "  </tbody>\n",
       "</table>\n",
       "<p>32917 rows × 5 columns</p>\n",
       "</div>"
      ],
      "text/plain": [
       "       review_id   text  verified  review_score  product_category\n",
       "0          False  False     False         False             False\n",
       "1          False  False     False         False             False\n",
       "2          False  False     False         False             False\n",
       "3          False  False     False         False             False\n",
       "4          False  False     False         False             False\n",
       "...          ...    ...       ...           ...               ...\n",
       "32912      False  False     False         False             False\n",
       "32913      False  False     False         False             False\n",
       "32914      False  False     False         False             False\n",
       "32915      False  False     False         False             False\n",
       "32916      False  False     False         False             False\n",
       "\n",
       "[32917 rows x 5 columns]"
      ]
     },
     "execution_count": 23,
     "metadata": {},
     "output_type": "execute_result"
    }
   ],
   "source": [
    "dataframe.isnull()"
   ]
  },
  {
   "cell_type": "code",
   "execution_count": 24,
   "metadata": {
    "colab": {
     "base_uri": "https://localhost:8080/"
    },
    "id": "fm7K0H1-vA_B",
    "outputId": "f4dab634-1d19-48e1-f732-ff1be08edaf8"
   },
   "outputs": [
    {
     "data": {
      "text/plain": [
       "review_id             0\n",
       "text                  9\n",
       "verified            106\n",
       "review_score          0\n",
       "product_category    906\n",
       "dtype: int64"
      ]
     },
     "execution_count": 24,
     "metadata": {},
     "output_type": "execute_result"
    }
   ],
   "source": [
    "dataframe.isnull().sum()"
   ]
  },
  {
   "cell_type": "markdown",
   "metadata": {},
   "source": [
    "# Dropping null values"
   ]
  },
  {
   "cell_type": "code",
   "execution_count": 25,
   "metadata": {
    "id": "xZAuev8Zu3GX"
   },
   "outputs": [],
   "source": [
    "dataframe = dataframe.dropna()"
   ]
  },
  {
   "cell_type": "code",
   "execution_count": 26,
   "metadata": {
    "colab": {
     "base_uri": "https://localhost:8080/"
    },
    "id": "axgV7UxtwCEZ",
    "outputId": "c372b1d1-bb47-451f-b4fa-192fe9caf26b"
   },
   "outputs": [
    {
     "data": {
      "text/plain": [
       "(31898, 5)"
      ]
     },
     "execution_count": 26,
     "metadata": {},
     "output_type": "execute_result"
    }
   ],
   "source": [
    "dataframe.shape"
   ]
  },
  {
   "cell_type": "code",
   "execution_count": 27,
   "metadata": {
    "colab": {
     "base_uri": "https://localhost:8080/"
    },
    "id": "23FjULi5wDxh",
    "outputId": "3269d721-7636-46cc-dac3-205bffc34fd2"
   },
   "outputs": [
    {
     "data": {
      "text/plain": [
       "review_id           0\n",
       "text                0\n",
       "verified            0\n",
       "review_score        0\n",
       "product_category    0\n",
       "dtype: int64"
      ]
     },
     "execution_count": 27,
     "metadata": {},
     "output_type": "execute_result"
    }
   ],
   "source": [
    "dataframe.isnull().sum()"
   ]
  },
  {
   "cell_type": "code",
   "execution_count": 28,
   "metadata": {},
   "outputs": [
    {
     "data": {
      "text/html": [
       "<div>\n",
       "<style scoped>\n",
       "    .dataframe tbody tr th:only-of-type {\n",
       "        vertical-align: middle;\n",
       "    }\n",
       "\n",
       "    .dataframe tbody tr th {\n",
       "        vertical-align: top;\n",
       "    }\n",
       "\n",
       "    .dataframe thead th {\n",
       "        text-align: right;\n",
       "    }\n",
       "</style>\n",
       "<table border=\"1\" class=\"dataframe\">\n",
       "  <thead>\n",
       "    <tr style=\"text-align: right;\">\n",
       "      <th></th>\n",
       "      <th>review_id</th>\n",
       "      <th>text</th>\n",
       "      <th>verified</th>\n",
       "      <th>review_score</th>\n",
       "      <th>product_category</th>\n",
       "    </tr>\n",
       "  </thead>\n",
       "  <tbody>\n",
       "    <tr>\n",
       "      <th>0</th>\n",
       "      <td>product_review_000000</td>\n",
       "      <td>I am one of those people who had Gran Turismo ...</td>\n",
       "      <td>False</td>\n",
       "      <td>1.0</td>\n",
       "      <td>video_games</td>\n",
       "    </tr>\n",
       "    <tr>\n",
       "      <th>1</th>\n",
       "      <td>product_review_000001</td>\n",
       "      <td>This game is awful for several reasons.\\n1.  T...</td>\n",
       "      <td>False</td>\n",
       "      <td>1.0</td>\n",
       "      <td>video_games</td>\n",
       "    </tr>\n",
       "    <tr>\n",
       "      <th>2</th>\n",
       "      <td>product_review_000002</td>\n",
       "      <td>This case is great for travel with the 3Ds or ...</td>\n",
       "      <td>False</td>\n",
       "      <td>5.0</td>\n",
       "      <td>video_games</td>\n",
       "    </tr>\n",
       "    <tr>\n",
       "      <th>3</th>\n",
       "      <td>product_review_000003</td>\n",
       "      <td>My go-to mic cable for quite a few years now. ...</td>\n",
       "      <td>True</td>\n",
       "      <td>5.0</td>\n",
       "      <td>musical_instruments</td>\n",
       "    </tr>\n",
       "    <tr>\n",
       "      <th>4</th>\n",
       "      <td>product_review_000004</td>\n",
       "      <td>The left one falls fairly frequently even when...</td>\n",
       "      <td>True</td>\n",
       "      <td>4.0</td>\n",
       "      <td>video_games</td>\n",
       "    </tr>\n",
       "  </tbody>\n",
       "</table>\n",
       "</div>"
      ],
      "text/plain": [
       "               review_id                                               text  \\\n",
       "0  product_review_000000  I am one of those people who had Gran Turismo ...   \n",
       "1  product_review_000001  This game is awful for several reasons.\\n1.  T...   \n",
       "2  product_review_000002  This case is great for travel with the 3Ds or ...   \n",
       "3  product_review_000003  My go-to mic cable for quite a few years now. ...   \n",
       "4  product_review_000004  The left one falls fairly frequently even when...   \n",
       "\n",
       "  verified  review_score     product_category  \n",
       "0    False           1.0          video_games  \n",
       "1    False           1.0          video_games  \n",
       "2    False           5.0          video_games  \n",
       "3     True           5.0  musical_instruments  \n",
       "4     True           4.0          video_games  "
      ]
     },
     "execution_count": 28,
     "metadata": {},
     "output_type": "execute_result"
    }
   ],
   "source": [
    "dataframe.head()"
   ]
  },
  {
   "cell_type": "markdown",
   "metadata": {},
   "source": [
    "# Downloading stopword package"
   ]
  },
  {
   "cell_type": "code",
   "execution_count": 29,
   "metadata": {
    "colab": {
     "base_uri": "https://localhost:8080/"
    },
    "id": "PbOwjs4wwJvp",
    "outputId": "b0e6c80b-99e2-4fc8-f555-e997a97723ed"
   },
   "outputs": [
    {
     "name": "stderr",
     "output_type": "stream",
     "text": [
      "[nltk_data] Downloading package stopwords to\n",
      "[nltk_data]     C:\\Users\\admin\\AppData\\Roaming\\nltk_data...\n",
      "[nltk_data]   Package stopwords is already up-to-date!\n"
     ]
    },
    {
     "data": {
      "text/plain": [
       "True"
      ]
     },
     "execution_count": 29,
     "metadata": {},
     "output_type": "execute_result"
    }
   ],
   "source": [
    "nltk.download('stopwords')"
   ]
  },
  {
   "cell_type": "code",
   "execution_count": 30,
   "metadata": {},
   "outputs": [],
   "source": [
    "def text_process(text):\n",
    "  no_punc = [char for char in text if char not in string.punctuation]\n",
    "  no_punc = ''.join(no_punc)\n",
    "\n",
    "  clean_words = [word for word in no_punc.split() if word.lower() not in stopwords.words('english')]\n",
    "  return clean_words "
   ]
  },
  {
   "cell_type": "code",
   "execution_count": 31,
   "metadata": {
    "colab": {
     "base_uri": "https://localhost:8080/"
    },
    "id": "Di_86D4axOgI",
    "outputId": "00c4ee57-90ee-483f-8d07-d5cfab62d643"
   },
   "outputs": [
    {
     "data": {
      "text/plain": [
       "0    [one, people, Gran, Turismo, 1, 2, 3, 4, speci...\n",
       "1    [game, awful, several, reasons, 1, controls, a...\n",
       "2    [case, great, travel, 3Ds, DS, Lite, holds, 12...\n",
       "3    [goto, mic, cable, quite, years, Spiral, shiel...\n",
       "4    [left, one, falls, fairly, frequently, even, g...\n",
       "Name: text, dtype: object"
      ]
     },
     "execution_count": 31,
     "metadata": {},
     "output_type": "execute_result"
    }
   ],
   "source": [
    "dataframe['text'].head().apply(text_process)"
   ]
  },
  {
   "cell_type": "markdown",
   "metadata": {},
   "source": [
    "# Splitting the dataset"
   ]
  },
  {
   "cell_type": "code",
   "execution_count": 32,
   "metadata": {
    "id": "Xvm1lJpzxlXm"
   },
   "outputs": [],
   "source": [
    "from sklearn.feature_extraction.text import CountVectorizer\n",
    "text_bow = CountVectorizer(analyzer=text_process).fit_transform(dataframe['text']) "
   ]
  },
  {
   "cell_type": "code",
   "execution_count": 33,
   "metadata": {
    "id": "SIupHtOxyFJn"
   },
   "outputs": [],
   "source": [
    "from sklearn.model_selection import train_test_split\n",
    "X_train,X_test,Y_train,Y_test = train_test_split(text_bow, dataframe['review_score'], test_size=0.33, random_state=0)"
   ]
  },
  {
   "cell_type": "code",
   "execution_count": 35,
   "metadata": {
    "colab": {
     "base_uri": "https://localhost:8080/"
    },
    "id": "OvcE2qaqzlBK",
    "outputId": "c3b4b082-b3e0-44b7-8031-e799995a3459"
   },
   "outputs": [
    {
     "data": {
      "text/plain": [
       "(31898, 84270)"
      ]
     },
     "execution_count": 35,
     "metadata": {},
     "output_type": "execute_result"
    }
   ],
   "source": [
    "text_bow.shape"
   ]
  },
  {
   "cell_type": "markdown",
   "metadata": {},
   "source": [
    "# Developing classification models using Multinomial Naive Bayes"
   ]
  },
  {
   "cell_type": "code",
   "execution_count": 36,
   "metadata": {
    "id": "8go-01dCzlF9"
   },
   "outputs": [],
   "source": [
    "from sklearn.naive_bayes import MultinomialNB\n",
    "clf = MultinomialNB().fit(X_train, Y_train)\n"
   ]
  },
  {
   "cell_type": "code",
   "execution_count": 37,
   "metadata": {
    "colab": {
     "base_uri": "https://localhost:8080/"
    },
    "id": "3jfBrpO6zlMC",
    "outputId": "647e8342-b50c-4673-b90c-1990f4b88eec"
   },
   "outputs": [
    {
     "name": "stdout",
     "output_type": "stream",
     "text": [
      "[5. 5. 5. ... 5. 5. 5.]\n",
      "[5. 5. 4. ... 5. 2. 5.]\n"
     ]
    }
   ],
   "source": [
    "print(clf.predict(X_train))\n",
    "print(Y_train.values)"
   ]
  },
  {
   "cell_type": "code",
   "execution_count": 38,
   "metadata": {
    "colab": {
     "base_uri": "https://localhost:8080/"
    },
    "id": "j7umoXcP1FYz",
    "outputId": "8f35ca1d-7093-46ee-891a-72267d4c60d4"
   },
   "outputs": [
    {
     "name": "stdout",
     "output_type": "stream",
     "text": [
      "              precision    recall  f1-score   support\n",
      "\n",
      "        -1.0       0.02      0.00      0.01       305\n",
      "         1.0       0.61      0.14      0.22       567\n",
      "         2.0       0.32      0.01      0.02       518\n",
      "         3.0       0.35      0.05      0.09       996\n",
      "         4.0       0.29      0.19      0.23      1955\n",
      "         5.0       0.65      0.93      0.76      6186\n",
      "\n",
      "    accuracy                           0.60     10527\n",
      "   macro avg       0.37      0.22      0.22     10527\n",
      "weighted avg       0.52      0.60      0.51     10527\n",
      "\n",
      "\n",
      "Confusion matrix: \n",
      " [[   1    6    0    6   33  259]\n",
      " [   0   77    7   21  101  361]\n",
      " [   1   11    6   35  141  324]\n",
      " [   2    6    1   51  297  639]\n",
      " [   4    4    2   15  365 1565]\n",
      " [  34   23    3   19  333 5774]]\n"
     ]
    }
   ],
   "source": [
    "from sklearn.metrics import classification_report, confusion_matrix, accuracy_score\n",
    "pred = clf.predict(X_test)\n",
    "print(classification_report(Y_test, pred))\n",
    "print()\n",
    "print('Confusion matrix: \\n', confusion_matrix(Y_test, pred))"
   ]
  },
  {
   "cell_type": "code",
   "execution_count": 39,
   "metadata": {
    "colab": {
     "base_uri": "https://localhost:8080/"
    },
    "id": "jJvxRsJY2BrC",
    "outputId": "bc1f1595-21f8-48c9-e6c6-66a4d110552d"
   },
   "outputs": [
    {
     "name": "stdout",
     "output_type": "stream",
     "text": [
      "Accuracy:  0.5959912605680631\n"
     ]
    }
   ],
   "source": [
    "print('Accuracy: ', accuracy_score(Y_test, pred))"
   ]
  },
  {
   "cell_type": "markdown",
   "metadata": {},
   "source": [
    "#  Decision tree Classifier Algorithm"
   ]
  },
  {
   "cell_type": "code",
   "execution_count": 40,
   "metadata": {
    "id": "U2uZ5lVl2Uzw"
   },
   "outputs": [],
   "source": [
    "from sklearn.tree import DecisionTreeClassifier\n",
    "tree = DecisionTreeClassifier().fit(X_train, Y_train)"
   ]
  },
  {
   "cell_type": "code",
   "execution_count": 41,
   "metadata": {
    "colab": {
     "base_uri": "https://localhost:8080/"
    },
    "id": "9WX8u7WC26N4",
    "outputId": "e676aad8-3592-43d4-e33b-e4238e07dcf2"
   },
   "outputs": [
    {
     "name": "stdout",
     "output_type": "stream",
     "text": [
      "[5. 5. 4. ... 5. 2. 5.]\n"
     ]
    }
   ],
   "source": [
    "print(tree.predict(X_train))"
   ]
  },
  {
   "cell_type": "code",
   "execution_count": 42,
   "metadata": {
    "colab": {
     "base_uri": "https://localhost:8080/"
    },
    "id": "7vX1pwWt3M3X",
    "outputId": "eb676a79-8c1b-46fc-aa28-37023a979106"
   },
   "outputs": [
    {
     "name": "stdout",
     "output_type": "stream",
     "text": [
      "              precision    recall  f1-score   support\n",
      "\n",
      "        -1.0       0.00      0.00      0.00       305\n",
      "         1.0       0.27      0.25      0.26       567\n",
      "         2.0       0.20      0.13      0.16       518\n",
      "         3.0       0.23      0.21      0.22       996\n",
      "         4.0       0.29      0.29      0.29      1955\n",
      "         5.0       0.69      0.72      0.70      6186\n",
      "\n",
      "    accuracy                           0.52     10527\n",
      "   macro avg       0.28      0.27      0.27     10527\n",
      "weighted avg       0.51      0.52      0.51     10527\n",
      "\n",
      "\n",
      "Confusion matrix: \n",
      " [[   1   13    9   34   65  183]\n",
      " [  17  144   54   69   81  202]\n",
      " [  21   67   67   76   94  193]\n",
      " [  33   63   45  208  231  416]\n",
      " [  93   60   60  180  560 1002]\n",
      " [ 228  181  100  322  908 4447]]\n"
     ]
    }
   ],
   "source": [
    "pred_dt = tree.predict(X_test)\n",
    "print(classification_report(Y_test, pred_dt))\n",
    "print()\n",
    "print('Confusion matrix: \\n', confusion_matrix(Y_test, pred_dt))"
   ]
  },
  {
   "cell_type": "code",
   "execution_count": 43,
   "metadata": {
    "colab": {
     "base_uri": "https://localhost:8080/"
    },
    "id": "9igI4tHA3c44",
    "outputId": "acabb30d-831a-45b4-cc42-b38629503196"
   },
   "outputs": [
    {
     "name": "stdout",
     "output_type": "stream",
     "text": [
      "Accuracy:  0.5155314904531205\n"
     ]
    }
   ],
   "source": [
    "print('Accuracy: ', accuracy_score(Y_test, pred_dt))"
   ]
  },
  {
   "cell_type": "markdown",
   "metadata": {},
   "source": [
    "# Generating dummy variables "
   ]
  },
  {
   "cell_type": "code",
   "execution_count": 46,
   "metadata": {
    "colab": {
     "base_uri": "https://localhost:8080/",
     "height": 250
    },
    "id": "VPQX2KGB4vFW",
    "outputId": "b0697482-a709-49f3-bc6d-fe3e1cd52da8"
   },
   "outputs": [
    {
     "data": {
      "text/html": [
       "<div>\n",
       "<style scoped>\n",
       "    .dataframe tbody tr th:only-of-type {\n",
       "        vertical-align: middle;\n",
       "    }\n",
       "\n",
       "    .dataframe tbody tr th {\n",
       "        vertical-align: top;\n",
       "    }\n",
       "\n",
       "    .dataframe thead th {\n",
       "        text-align: right;\n",
       "    }\n",
       "</style>\n",
       "<table border=\"1\" class=\"dataframe\">\n",
       "  <thead>\n",
       "    <tr style=\"text-align: right;\">\n",
       "      <th></th>\n",
       "      <th>review_id</th>\n",
       "      <th>text</th>\n",
       "      <th>verified</th>\n",
       "      <th>review_score</th>\n",
       "      <th>product_category_musical_instruments</th>\n",
       "      <th>product_category_video_games</th>\n",
       "    </tr>\n",
       "  </thead>\n",
       "  <tbody>\n",
       "    <tr>\n",
       "      <th>0</th>\n",
       "      <td>product_review_000000</td>\n",
       "      <td>I am one of those people who had Gran Turismo ...</td>\n",
       "      <td>False</td>\n",
       "      <td>1.0</td>\n",
       "      <td>0</td>\n",
       "      <td>1</td>\n",
       "    </tr>\n",
       "    <tr>\n",
       "      <th>1</th>\n",
       "      <td>product_review_000001</td>\n",
       "      <td>This game is awful for several reasons.\\n1.  T...</td>\n",
       "      <td>False</td>\n",
       "      <td>1.0</td>\n",
       "      <td>0</td>\n",
       "      <td>1</td>\n",
       "    </tr>\n",
       "    <tr>\n",
       "      <th>2</th>\n",
       "      <td>product_review_000002</td>\n",
       "      <td>This case is great for travel with the 3Ds or ...</td>\n",
       "      <td>False</td>\n",
       "      <td>5.0</td>\n",
       "      <td>0</td>\n",
       "      <td>1</td>\n",
       "    </tr>\n",
       "    <tr>\n",
       "      <th>3</th>\n",
       "      <td>product_review_000003</td>\n",
       "      <td>My go-to mic cable for quite a few years now. ...</td>\n",
       "      <td>True</td>\n",
       "      <td>5.0</td>\n",
       "      <td>1</td>\n",
       "      <td>0</td>\n",
       "    </tr>\n",
       "    <tr>\n",
       "      <th>4</th>\n",
       "      <td>product_review_000004</td>\n",
       "      <td>The left one falls fairly frequently even when...</td>\n",
       "      <td>True</td>\n",
       "      <td>4.0</td>\n",
       "      <td>0</td>\n",
       "      <td>1</td>\n",
       "    </tr>\n",
       "  </tbody>\n",
       "</table>\n",
       "</div>"
      ],
      "text/plain": [
       "               review_id                                               text  \\\n",
       "0  product_review_000000  I am one of those people who had Gran Turismo ...   \n",
       "1  product_review_000001  This game is awful for several reasons.\\n1.  T...   \n",
       "2  product_review_000002  This case is great for travel with the 3Ds or ...   \n",
       "3  product_review_000003  My go-to mic cable for quite a few years now. ...   \n",
       "4  product_review_000004  The left one falls fairly frequently even when...   \n",
       "\n",
       "  verified  review_score  product_category_musical_instruments  \\\n",
       "0    False           1.0                                     0   \n",
       "1    False           1.0                                     0   \n",
       "2    False           5.0                                     0   \n",
       "3     True           5.0                                     1   \n",
       "4     True           4.0                                     0   \n",
       "\n",
       "   product_category_video_games  \n",
       "0                             1  \n",
       "1                             1  \n",
       "2                             1  \n",
       "3                             0  \n",
       "4                             1  "
      ]
     },
     "execution_count": 46,
     "metadata": {},
     "output_type": "execute_result"
    }
   ],
   "source": [
    "dataframe_new = pd.get_dummies(dataframe, columns=['product_category'])\n",
    "dataframe_new.head()"
   ]
  },
  {
   "cell_type": "code",
   "execution_count": 47,
   "metadata": {
    "id": "saCtovwE5GMF"
   },
   "outputs": [],
   "source": [
    "dataframe_new= dataframe_new.drop(['product_category_video_games'], axis = 1)"
   ]
  },
  {
   "cell_type": "code",
   "execution_count": 48,
   "metadata": {
    "colab": {
     "base_uri": "https://localhost:8080/",
     "height": 424
    },
    "id": "UDHpr4GL5Om1",
    "outputId": "1901ba75-27e6-456d-80dd-0c018fa46635"
   },
   "outputs": [
    {
     "data": {
      "text/html": [
       "<div>\n",
       "<style scoped>\n",
       "    .dataframe tbody tr th:only-of-type {\n",
       "        vertical-align: middle;\n",
       "    }\n",
       "\n",
       "    .dataframe tbody tr th {\n",
       "        vertical-align: top;\n",
       "    }\n",
       "\n",
       "    .dataframe thead th {\n",
       "        text-align: right;\n",
       "    }\n",
       "</style>\n",
       "<table border=\"1\" class=\"dataframe\">\n",
       "  <thead>\n",
       "    <tr style=\"text-align: right;\">\n",
       "      <th></th>\n",
       "      <th>review_id</th>\n",
       "      <th>text</th>\n",
       "      <th>verified</th>\n",
       "      <th>review_score</th>\n",
       "      <th>product_category_musical_instruments</th>\n",
       "    </tr>\n",
       "  </thead>\n",
       "  <tbody>\n",
       "    <tr>\n",
       "      <th>0</th>\n",
       "      <td>product_review_000000</td>\n",
       "      <td>I am one of those people who had Gran Turismo ...</td>\n",
       "      <td>False</td>\n",
       "      <td>1.0</td>\n",
       "      <td>0</td>\n",
       "    </tr>\n",
       "    <tr>\n",
       "      <th>1</th>\n",
       "      <td>product_review_000001</td>\n",
       "      <td>This game is awful for several reasons.\\n1.  T...</td>\n",
       "      <td>False</td>\n",
       "      <td>1.0</td>\n",
       "      <td>0</td>\n",
       "    </tr>\n",
       "    <tr>\n",
       "      <th>2</th>\n",
       "      <td>product_review_000002</td>\n",
       "      <td>This case is great for travel with the 3Ds or ...</td>\n",
       "      <td>False</td>\n",
       "      <td>5.0</td>\n",
       "      <td>0</td>\n",
       "    </tr>\n",
       "    <tr>\n",
       "      <th>3</th>\n",
       "      <td>product_review_000003</td>\n",
       "      <td>My go-to mic cable for quite a few years now. ...</td>\n",
       "      <td>True</td>\n",
       "      <td>5.0</td>\n",
       "      <td>1</td>\n",
       "    </tr>\n",
       "    <tr>\n",
       "      <th>4</th>\n",
       "      <td>product_review_000004</td>\n",
       "      <td>The left one falls fairly frequently even when...</td>\n",
       "      <td>True</td>\n",
       "      <td>4.0</td>\n",
       "      <td>0</td>\n",
       "    </tr>\n",
       "    <tr>\n",
       "      <th>...</th>\n",
       "      <td>...</td>\n",
       "      <td>...</td>\n",
       "      <td>...</td>\n",
       "      <td>...</td>\n",
       "      <td>...</td>\n",
       "    </tr>\n",
       "    <tr>\n",
       "      <th>32912</th>\n",
       "      <td>product_review_032912</td>\n",
       "      <td>Well, when we look at this game, we are faced ...</td>\n",
       "      <td>False</td>\n",
       "      <td>2.0</td>\n",
       "      <td>0</td>\n",
       "    </tr>\n",
       "    <tr>\n",
       "      <th>32913</th>\n",
       "      <td>product_review_032913</td>\n",
       "      <td>This is an awesome game. It is a must buy. It ...</td>\n",
       "      <td>False</td>\n",
       "      <td>5.0</td>\n",
       "      <td>0</td>\n",
       "    </tr>\n",
       "    <tr>\n",
       "      <th>32914</th>\n",
       "      <td>product_review_032914</td>\n",
       "      <td>I had purchased a 3 inch pop filter for my Hei...</td>\n",
       "      <td>True</td>\n",
       "      <td>5.0</td>\n",
       "      <td>1</td>\n",
       "    </tr>\n",
       "    <tr>\n",
       "      <th>32915</th>\n",
       "      <td>product_review_032915</td>\n",
       "      <td>I couldn't get into this game.  I would sugges...</td>\n",
       "      <td>True</td>\n",
       "      <td>2.0</td>\n",
       "      <td>0</td>\n",
       "    </tr>\n",
       "    <tr>\n",
       "      <th>32916</th>\n",
       "      <td>product_review_032916</td>\n",
       "      <td>I love Elixir, that should be said. But it's a...</td>\n",
       "      <td>True</td>\n",
       "      <td>5.0</td>\n",
       "      <td>1</td>\n",
       "    </tr>\n",
       "  </tbody>\n",
       "</table>\n",
       "<p>31898 rows × 5 columns</p>\n",
       "</div>"
      ],
      "text/plain": [
       "                   review_id  \\\n",
       "0      product_review_000000   \n",
       "1      product_review_000001   \n",
       "2      product_review_000002   \n",
       "3      product_review_000003   \n",
       "4      product_review_000004   \n",
       "...                      ...   \n",
       "32912  product_review_032912   \n",
       "32913  product_review_032913   \n",
       "32914  product_review_032914   \n",
       "32915  product_review_032915   \n",
       "32916  product_review_032916   \n",
       "\n",
       "                                                    text verified  \\\n",
       "0      I am one of those people who had Gran Turismo ...    False   \n",
       "1      This game is awful for several reasons.\\n1.  T...    False   \n",
       "2      This case is great for travel with the 3Ds or ...    False   \n",
       "3      My go-to mic cable for quite a few years now. ...     True   \n",
       "4      The left one falls fairly frequently even when...     True   \n",
       "...                                                  ...      ...   \n",
       "32912  Well, when we look at this game, we are faced ...    False   \n",
       "32913  This is an awesome game. It is a must buy. It ...    False   \n",
       "32914  I had purchased a 3 inch pop filter for my Hei...     True   \n",
       "32915  I couldn't get into this game.  I would sugges...     True   \n",
       "32916  I love Elixir, that should be said. But it's a...     True   \n",
       "\n",
       "       review_score  product_category_musical_instruments  \n",
       "0               1.0                                     0  \n",
       "1               1.0                                     0  \n",
       "2               5.0                                     0  \n",
       "3               5.0                                     1  \n",
       "4               4.0                                     0  \n",
       "...             ...                                   ...  \n",
       "32912           2.0                                     0  \n",
       "32913           5.0                                     0  \n",
       "32914           5.0                                     1  \n",
       "32915           2.0                                     0  \n",
       "32916           5.0                                     1  \n",
       "\n",
       "[31898 rows x 5 columns]"
      ]
     },
     "execution_count": 48,
     "metadata": {},
     "output_type": "execute_result"
    }
   ],
   "source": [
    "dataframe_new"
   ]
  },
  {
   "cell_type": "code",
   "execution_count": 51,
   "metadata": {
    "id": "XzXgSBqp5Qvt"
   },
   "outputs": [],
   "source": [
    "X_train2,X_test2,y_train2,y_test2 = train_test_split(text_bow, dataframe_new['product_category_musical_instruments'], test_size=0.33, random_state=0)"
   ]
  },
  {
   "cell_type": "code",
   "execution_count": 52,
   "metadata": {
    "id": "J4ey1ECy5jwN"
   },
   "outputs": [],
   "source": [
    "clf2 = MultinomialNB().fit(X_train2, y_train2)\n"
   ]
  },
  {
   "cell_type": "code",
   "execution_count": 53,
   "metadata": {
    "colab": {
     "base_uri": "https://localhost:8080/"
    },
    "id": "VdK4MCO-53zc",
    "outputId": "4e998601-0083-4968-b8f1-d5708960da60"
   },
   "outputs": [
    {
     "name": "stdout",
     "output_type": "stream",
     "text": [
      "[5. 5. 5. ... 5. 5. 5.]\n"
     ]
    }
   ],
   "source": [
    "print(clf.predict(X_train2))"
   ]
  },
  {
   "cell_type": "code",
   "execution_count": 54,
   "metadata": {
    "colab": {
     "base_uri": "https://localhost:8080/"
    },
    "id": "RTXeC1SW5-Rs",
    "outputId": "a6c0ac81-5461-4bfb-e939-60d4b8f1e4af"
   },
   "outputs": [
    {
     "name": "stdout",
     "output_type": "stream",
     "text": [
      "[1 0 0 ... 1 0 1]\n"
     ]
    }
   ],
   "source": [
    "print(y_train2.values)"
   ]
  },
  {
   "cell_type": "markdown",
   "metadata": {},
   "source": [
    "# Multinomial Naive Bayes"
   ]
  },
  {
   "cell_type": "code",
   "execution_count": 58,
   "metadata": {
    "colab": {
     "base_uri": "https://localhost:8080/"
    },
    "id": "oBYj2z1H5_Hk",
    "outputId": "7819e8db-e1b5-4c35-bbef-672973e23dee"
   },
   "outputs": [
    {
     "name": "stdout",
     "output_type": "stream",
     "text": [
      "              precision    recall  f1-score   support\n",
      "\n",
      "           0       0.97      0.92      0.94      7051\n",
      "           1       0.85      0.94      0.90      3476\n",
      "\n",
      "    accuracy                           0.93     10527\n",
      "   macro avg       0.91      0.93      0.92     10527\n",
      "weighted avg       0.93      0.93      0.93     10527\n",
      "\n",
      "\n",
      "Confusion matrix: \n",
      " [[   0  191  114    0    0    0    0]\n",
      " [   0    0    0    0    0    0    0]\n",
      " [   0  430  137    0    0    0    0]\n",
      " [   0  398  120    0    0    0    0]\n",
      " [   0  714  282    0    0    0    0]\n",
      " [   0 1297  658    0    0    0    0]\n",
      " [   0 3643 2543    0    0    0    0]]\n"
     ]
    }
   ],
   "source": [
    "pred2 = clf2.predict(X_test)\n",
    "print(classification_report(y_test2, pred2))\n",
    "print()\n",
    "print('Confusion matrix: \\n', confusion_matrix(Y_test, pred2))"
   ]
  },
  {
   "cell_type": "code",
   "execution_count": 56,
   "metadata": {
    "colab": {
     "base_uri": "https://localhost:8080/"
    },
    "id": "yf3Cs-C-6Rbs",
    "outputId": "fe7d46ca-02be-40c1-ea45-c73b7f65821b"
   },
   "outputs": [
    {
     "name": "stdout",
     "output_type": "stream",
     "text": [
      "Accuracy:  0.9274247173933694\n"
     ]
    }
   ],
   "source": [
    "print('Accuracy: ', accuracy_score(y_test2, pred2))"
   ]
  },
  {
   "cell_type": "markdown",
   "metadata": {},
   "source": [
    "# Plotting of scatter plot"
   ]
  },
  {
   "cell_type": "code",
   "execution_count": 57,
   "metadata": {},
   "outputs": [
    {
     "data": {
      "image/png": "[encoded data removed]",
      "text/plain": [
       "<Figure size 432x288 with 1 Axes>"
      ]
     },
     "metadata": {
      "needs_background": "light"
     },
     "output_type": "display_data"
    }
   ],
   "source": [
    "import pandas as pd\n",
    "import matplotlib.pyplot as plt\n",
    "plt.scatter(dataframe['review_score'], dataframe['product_category'])\n",
    "plt.title(\"Scatter Plot\")\n",
    "plt.xlabel('review_score')\n",
    "plt.ylabel('product_category')\n",
    "  \n",
    "plt.show()"
   ]
  },
  {
   "cell_type": "code",
   "execution_count": null,
   "metadata": {},
   "outputs": [],
   "source": []
  }
 ],
 "metadata": {
  "colab": {
   "collapsed_sections": [],
   "name": "Untitled2.ipynb",
   "provenance": []
  },
  "kernelspec": {
   "display_name": "Python 3 (ipykernel)",
   "language": "python",
   "name": "python3"
  },
  "language_info": {
   "codemirror_mode": {
    "name": "ipython",
    "version": 3
   },
   "file_extension": ".py",
   "mimetype": "text/x-python",
   "name": "python",
   "nbconvert_exporter": "python",
   "pygments_lexer": "ipython3",
   "version": "3.9.7"
  }
 },
 "nbformat": 4,
 "nbformat_minor": 1
}
